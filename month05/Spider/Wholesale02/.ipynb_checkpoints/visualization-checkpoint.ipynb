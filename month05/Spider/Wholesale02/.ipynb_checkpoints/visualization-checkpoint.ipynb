{
 "cells": [
  {
   "cell_type": "markdown",
   "metadata": {},
   "source": [
    "# 女装爬虫数据分析"
   ]
  },
  {
   "cell_type": "markdown",
   "metadata": {},
   "source": [
    "## 描述性分析"
   ]
  },
  {
   "cell_type": "code",
   "execution_count": 70,
   "metadata": {},
   "outputs": [],
   "source": [
    "import numpy as np\n",
    "import pandas as pd\n",
    "import matplotlib.pyplot as plt\n",
    "import warnings\n",
    "import seaborn as sns\n",
    "warnings.filterwarnings(\"ignore\")\n",
    "plt.rcParams['font.sans-serif']=['SimHei']\n",
    "plt.rcParams['axes.unicode_minus']=False"
   ]
  },
  {
   "cell_type": "code",
   "execution_count": 71,
   "metadata": {},
   "outputs": [
    {
     "data": {
      "text/html": [
       "<div>\n",
       "<style scoped>\n",
       "    .dataframe tbody tr th:only-of-type {\n",
       "        vertical-align: middle;\n",
       "    }\n",
       "\n",
       "    .dataframe tbody tr th {\n",
       "        vertical-align: top;\n",
       "    }\n",
       "\n",
       "    .dataframe thead th {\n",
       "        text-align: right;\n",
       "    }\n",
       "</style>\n",
       "<table border=\"1\" class=\"dataframe\">\n",
       "  <thead>\n",
       "    <tr style=\"text-align: right;\">\n",
       "      <th></th>\n",
       "      <th>href</th>\n",
       "      <th>integer</th>\n",
       "      <th>price</th>\n",
       "      <th>rePurchaseRate</th>\n",
       "      <th>title</th>\n",
       "    </tr>\n",
       "  </thead>\n",
       "  <tbody>\n",
       "    <tr>\n",
       "      <td>0</td>\n",
       "      <td>https://dj.1688.com/ci_bb?a=30396&amp;e=PF4IbJ-qKc...</td>\n",
       "      <td>2037</td>\n",
       "      <td>35.00</td>\n",
       "      <td>0.0909</td>\n",
       "      <td>INF女装|2021春夏新品网红小恶魔涂鸦印花短款露脐甜酷短袖T恤女</td>\n",
       "    </tr>\n",
       "    <tr>\n",
       "      <td>1</td>\n",
       "      <td>https://detail.1688.com/offer/642578699689.html</td>\n",
       "      <td>840706</td>\n",
       "      <td>75.00</td>\n",
       "      <td>0.1718</td>\n",
       "      <td>西装连衣裙2021女装夏季新款法式气质大码韩版职业短袖牛仔长裙子</td>\n",
       "    </tr>\n",
       "    <tr>\n",
       "      <td>2</td>\n",
       "      <td>https://detail.1688.com/offer/644551891138.html</td>\n",
       "      <td>162003</td>\n",
       "      <td>82.17</td>\n",
       "      <td>0.163</td>\n",
       "      <td>白色v领蕾丝连衣裙女装2021新款潮春夏镂空仙女法式甜美初恋裙子</td>\n",
       "    </tr>\n",
       "    <tr>\n",
       "      <td>3</td>\n",
       "      <td>https://detail.1688.com/offer/644028672135.html</td>\n",
       "      <td>47249</td>\n",
       "      <td>81.18</td>\n",
       "      <td>0.4737</td>\n",
       "      <td>女装2021夏季新款短袖气质范设计感收腰法式半身裙夏a字连衣裙女</td>\n",
       "    </tr>\n",
       "    <tr>\n",
       "      <td>4</td>\n",
       "      <td>https://dj.1688.com/ci_bb?a=30396&amp;e=EjjQzt3gWf...</td>\n",
       "      <td>102</td>\n",
       "      <td>10.00</td>\n",
       "      <td>0.0</td>\n",
       "      <td>辣妹短袖T恤女装夏季2021新款设计感网红高腰露脐短款上衣服ins潮</td>\n",
       "    </tr>\n",
       "  </tbody>\n",
       "</table>\n",
       "</div>"
      ],
      "text/plain": [
       "                                                href integer  price  \\\n",
       "0  https://dj.1688.com/ci_bb?a=30396&e=PF4IbJ-qKc...    2037  35.00   \n",
       "1    https://detail.1688.com/offer/642578699689.html  840706  75.00   \n",
       "2    https://detail.1688.com/offer/644551891138.html  162003  82.17   \n",
       "3    https://detail.1688.com/offer/644028672135.html   47249  81.18   \n",
       "4  https://dj.1688.com/ci_bb?a=30396&e=EjjQzt3gWf...     102  10.00   \n",
       "\n",
       "  rePurchaseRate                               title  \n",
       "0         0.0909  INF女装|2021春夏新品网红小恶魔涂鸦印花短款露脐甜酷短袖T恤女  \n",
       "1         0.1718    西装连衣裙2021女装夏季新款法式气质大码韩版职业短袖牛仔长裙子  \n",
       "2          0.163    白色v领蕾丝连衣裙女装2021新款潮春夏镂空仙女法式甜美初恋裙子  \n",
       "3         0.4737    女装2021夏季新款短袖气质范设计感收腰法式半身裙夏a字连衣裙女  \n",
       "4            0.0  辣妹短袖T恤女装夏季2021新款设计感网红高腰露脐短款上衣服ins潮  "
      ]
     },
     "execution_count": 71,
     "metadata": {},
     "output_type": "execute_result"
    }
   ],
   "source": [
    "data=pd.read_csv('wholesale.csv')\n",
    "data.head()"
   ]
  },
  {
   "cell_type": "code",
   "execution_count": 72,
   "metadata": {},
   "outputs": [
    {
     "data": {
      "text/html": [
       "<div>\n",
       "<style scoped>\n",
       "    .dataframe tbody tr th:only-of-type {\n",
       "        vertical-align: middle;\n",
       "    }\n",
       "\n",
       "    .dataframe tbody tr th {\n",
       "        vertical-align: top;\n",
       "    }\n",
       "\n",
       "    .dataframe thead th {\n",
       "        text-align: right;\n",
       "    }\n",
       "</style>\n",
       "<table border=\"1\" class=\"dataframe\">\n",
       "  <thead>\n",
       "    <tr style=\"text-align: right;\">\n",
       "      <th></th>\n",
       "      <th>href</th>\n",
       "      <th>integer</th>\n",
       "      <th>price</th>\n",
       "      <th>rePurchaseRate</th>\n",
       "      <th>title</th>\n",
       "    </tr>\n",
       "  </thead>\n",
       "  <tbody>\n",
       "    <tr>\n",
       "      <td>count</td>\n",
       "      <td>1021</td>\n",
       "      <td>1013</td>\n",
       "      <td>1021</td>\n",
       "      <td>1015</td>\n",
       "      <td>1021</td>\n",
       "    </tr>\n",
       "    <tr>\n",
       "      <td>unique</td>\n",
       "      <td>1020</td>\n",
       "      <td>960</td>\n",
       "      <td>321</td>\n",
       "      <td>252</td>\n",
       "      <td>1007</td>\n",
       "    </tr>\n",
       "    <tr>\n",
       "      <td>top</td>\n",
       "      <td>https://detail.1688.com/offer/644759787775.html</td>\n",
       "      <td>1092</td>\n",
       "      <td>35.00</td>\n",
       "      <td>0.0</td>\n",
       "      <td>欧美跨境外贸夏季2021新款亚马逊V领印花短袖上衣宽松女装开叉T恤</td>\n",
       "    </tr>\n",
       "    <tr>\n",
       "      <td>freq</td>\n",
       "      <td>2</td>\n",
       "      <td>5</td>\n",
       "      <td>29</td>\n",
       "      <td>285</td>\n",
       "      <td>3</td>\n",
       "    </tr>\n",
       "  </tbody>\n",
       "</table>\n",
       "</div>"
      ],
      "text/plain": [
       "                                                   href integer  price  \\\n",
       "count                                              1021    1013   1021   \n",
       "unique                                             1020     960    321   \n",
       "top     https://detail.1688.com/offer/644759787775.html    1092  35.00   \n",
       "freq                                                  2       5     29   \n",
       "\n",
       "       rePurchaseRate                              title  \n",
       "count            1015                               1021  \n",
       "unique            252                               1007  \n",
       "top               0.0  欧美跨境外贸夏季2021新款亚马逊V领印花短袖上衣宽松女装开叉T恤  \n",
       "freq              285                                  3  "
      ]
     },
     "execution_count": 72,
     "metadata": {},
     "output_type": "execute_result"
    }
   ],
   "source": [
    "data.describe()"
   ]
  },
  {
   "cell_type": "markdown",
   "metadata": {},
   "source": [
    "## 数据预处理\n",
    "1. 可以看到总成交额和复购率数据有一定的缺失，我们对其进行过滤。\n",
    "2. 并且网页链接在此分析中无用，我们进行剔除。\n",
    "3. 将数据类型转换成数值"
   ]
  },
  {
   "cell_type": "code",
   "execution_count": 79,
   "metadata": {},
   "outputs": [
    {
     "name": "stdout",
     "output_type": "stream",
     "text": [
      "共爬取1012条有效数据\n"
     ]
    }
   ],
   "source": [
    "data = data.drop(columns='href')\n",
    "data_clean = data[data.integer.notnull()][data.rePurchaseRate.notnull()]\n",
    "for i in data_clean['integer']:\n",
    "    try:\n",
    "        i = int(i)\n",
    "    except:\n",
    "        # print(data_clean.loc[i,'integer'])\n",
    "        data_clean = data_clean.drop(data_clean[data_clean['integer'].str.contains(i)].index)\n",
    "for i in data_clean['rePurchaseRate']:\n",
    "    try:\n",
    "        i = float(i)\n",
    "    except:\n",
    "        # print(data_clean.loc[i,'integer'])\n",
    "        data_clean = data_clean.drop(data_clean[data_clean['rePurchaseRate'].str.contains(i)].index)\n",
    "data_clean.integer = data_clean.integer.astype('int')\n",
    "data_clean.rePurchaseRate = data_clean.rePurchaseRate.astype('float')\n",
    "print(f\"共爬取{data_clean.shape[0]}条有效数据\")"
   ]
  },
  {
   "cell_type": "code",
   "execution_count": 74,
   "metadata": {},
   "outputs": [
    {
     "data": {
      "text/html": [
       "<div>\n",
       "<style scoped>\n",
       "    .dataframe tbody tr th:only-of-type {\n",
       "        vertical-align: middle;\n",
       "    }\n",
       "\n",
       "    .dataframe tbody tr th {\n",
       "        vertical-align: top;\n",
       "    }\n",
       "\n",
       "    .dataframe thead th {\n",
       "        text-align: right;\n",
       "    }\n",
       "</style>\n",
       "<table border=\"1\" class=\"dataframe\">\n",
       "  <thead>\n",
       "    <tr style=\"text-align: right;\">\n",
       "      <th></th>\n",
       "      <th>integer</th>\n",
       "      <th>price</th>\n",
       "      <th>rePurchaseRate</th>\n",
       "      <th>title</th>\n",
       "    </tr>\n",
       "  </thead>\n",
       "  <tbody>\n",
       "    <tr>\n",
       "      <td>0</td>\n",
       "      <td>2037</td>\n",
       "      <td>35.00</td>\n",
       "      <td>0.0909</td>\n",
       "      <td>INF女装|2021春夏新品网红小恶魔涂鸦印花短款露脐甜酷短袖T恤女</td>\n",
       "    </tr>\n",
       "    <tr>\n",
       "      <td>1</td>\n",
       "      <td>840706</td>\n",
       "      <td>75.00</td>\n",
       "      <td>0.1718</td>\n",
       "      <td>西装连衣裙2021女装夏季新款法式气质大码韩版职业短袖牛仔长裙子</td>\n",
       "    </tr>\n",
       "    <tr>\n",
       "      <td>2</td>\n",
       "      <td>162003</td>\n",
       "      <td>82.17</td>\n",
       "      <td>0.163</td>\n",
       "      <td>白色v领蕾丝连衣裙女装2021新款潮春夏镂空仙女法式甜美初恋裙子</td>\n",
       "    </tr>\n",
       "    <tr>\n",
       "      <td>3</td>\n",
       "      <td>47249</td>\n",
       "      <td>81.18</td>\n",
       "      <td>0.4737</td>\n",
       "      <td>女装2021夏季新款短袖气质范设计感收腰法式半身裙夏a字连衣裙女</td>\n",
       "    </tr>\n",
       "    <tr>\n",
       "      <td>4</td>\n",
       "      <td>102</td>\n",
       "      <td>10.00</td>\n",
       "      <td>0.0</td>\n",
       "      <td>辣妹短袖T恤女装夏季2021新款设计感网红高腰露脐短款上衣服ins潮</td>\n",
       "    </tr>\n",
       "  </tbody>\n",
       "</table>\n",
       "</div>"
      ],
      "text/plain": [
       "  integer  price rePurchaseRate                               title\n",
       "0    2037  35.00         0.0909  INF女装|2021春夏新品网红小恶魔涂鸦印花短款露脐甜酷短袖T恤女\n",
       "1  840706  75.00         0.1718    西装连衣裙2021女装夏季新款法式气质大码韩版职业短袖牛仔长裙子\n",
       "2  162003  82.17          0.163    白色v领蕾丝连衣裙女装2021新款潮春夏镂空仙女法式甜美初恋裙子\n",
       "3   47249  81.18         0.4737    女装2021夏季新款短袖气质范设计感收腰法式半身裙夏a字连衣裙女\n",
       "4     102  10.00            0.0  辣妹短袖T恤女装夏季2021新款设计感网红高腰露脐短款上衣服ins潮"
      ]
     },
     "execution_count": 74,
     "metadata": {},
     "output_type": "execute_result"
    }
   ],
   "source": [
    "data_clean.head()"
   ]
  },
  {
   "cell_type": "markdown",
   "metadata": {},
   "source": [
    "## 可视化分析"
   ]
  },
  {
   "cell_type": "code",
   "execution_count": 92,
   "metadata": {
    "scrolled": true
   },
   "outputs": [
    {
     "data": {
      "text/plain": [
       "<matplotlib.axes._subplots.AxesSubplot at 0x7fa918c06e90>"
      ]
     },
     "execution_count": 92,
     "metadata": {},
     "output_type": "execute_result"
    },
    {
     "data": {
      "image/png": "[encoded data removed]",
      "text/plain": [
       "<Figure size 1152x864 with 4 Axes>"
      ]
     },
     "metadata": {
      "needs_background": "light"
     },
     "output_type": "display_data"
    }
   ],
   "source": [
    "fig=plt.figure(figsize = (16,12))\n",
    "ax1=fig.add_subplot(221)\n",
    "plt.title('复购率频次分布图',fontsize=14)\n",
    "sns.distplot(data_clean['rePurchaseRate'])\n",
    "\n",
    "ax1=fig.add_subplot(222)\n",
    "plt.title('销售量频次分布图',fontsize=14)\n",
    "sns.distplot(data_clean['integer'])\n",
    "\n",
    "ax1=fig.add_subplot(223)\n",
    "plt.title('复购率箱体图',fontsize=14)\n",
    "sns.boxplot(x='rePurchaseRate',data=data_clean)\n",
    "\n",
    "ax1=fig.add_subplot(224)\n",
    "plt.title('销售量箱体图',fontsize=14)\n",
    "sns.boxplot(x='integer',data=data_clean)"
   ]
  },
  {
   "cell_type": "markdown",
   "metadata": {},
   "source": []
  },
  {
   "cell_type": "code",
   "execution_count": 94,
   "metadata": {},
   "outputs": [
    {
     "data": {
      "text/plain": [
       "<BarContainer object of 1012 artists>"
      ]
     },
     "execution_count": 94,
     "metadata": {},
     "output_type": "execute_result"
    },
    {
     "data": {
      "image/png": "[encoded data removed]",
      "text/plain": [
       "<Figure size 1152x864 with 1 Axes>"
      ]
     },
     "metadata": {
      "needs_background": "light"
     },
     "output_type": "display_data"
    }
   ],
   "source": []
  },
  {
   "cell_type": "code",
   "execution_count": null,
   "metadata": {},
   "outputs": [],
   "source": []
  }
 ],
 "metadata": {
  "kernelspec": {
   "display_name": "Python 3",
   "language": "python",
   "name": "python3"
  },
  "language_info": {
   "codemirror_mode": {
    "name": "ipython",
    "version": 3
   },
   "file_extension": ".py",
   "mimetype": "text/x-python",
   "name": "python",
   "nbconvert_exporter": "python",
   "pygments_lexer": "ipython3",
   "version": "3.7.4"
  },
  "varInspector": {
   "cols": {
    "lenName": 16,
    "lenType": 16,
    "lenVar": 40
   },
   "kernels_config": {
    "python": {
     "delete_cmd_postfix": "",
     "delete_cmd_prefix": "del ",
     "library": "var_list.py",
     "varRefreshCmd": "print(var_dic_list())"
    },
    "r": {
     "delete_cmd_postfix": ") ",
     "delete_cmd_prefix": "rm(",
     "library": "var_list.r",
     "varRefreshCmd": "cat(var_dic_list()) "
    }
   },
   "types_to_exclude": [
    "module",
    "function",
    "builtin_function_or_method",
    "instance",
    "_Feature"
   ],
   "window_display": false
  }
 },
 "nbformat": 4,
 "nbformat_minor": 2
}
