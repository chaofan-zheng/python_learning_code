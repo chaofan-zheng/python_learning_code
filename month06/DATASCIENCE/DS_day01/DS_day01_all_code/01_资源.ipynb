{
 "cells": [
  {
   "cell_type": "code",
   "execution_count": 1,
   "metadata": {},
   "outputs": [],
   "source": [
    "# 阿里 天池大数据竞赛\n",
    "# 百度 aistudio\n",
    "# 有开源的项目和比赛\n",
    "# kaggle"
   ]
  },
  {
   "cell_type": "markdown",
   "metadata": {},
   "source": [
    "python做人工智能和数据分析的常用库\n",
    "1. Numpy -科学计算库\n",
    "2. Scipy -高级科学计算库\n",
    "3. Matplotlib -可视化模块\n",
    "4.  seaborn -高级可视化模块\n",
    "4. Pandas - 数据分析模块\n",
    "5. sklearn -算法模块\n",
    "5. StatsModels\n",
    "6. Scikit-Learn\n",
    "7. Keras\n",
    "8. Gensim\n",
    "9. OpenCV"
   ]
  },
  {
   "cell_type": "code",
   "execution_count": 10,
   "metadata": {},
   "outputs": [
    {
     "name": "stdout",
     "output_type": "stream",
     "text": [
      "['a', 'b', 'c']\n"
     ]
    }
   ],
   "source": [
    "lis01 = ['A','B','C']\n",
    "list01 = [item.lower() for item in list01]\n",
    "print(list01)"
   ]
  },
  {
   "cell_type": "code",
   "execution_count": null,
   "metadata": {},
   "outputs": [],
   "source": [
    "# 数据分析项目\n"
   ]
  }
 ],
 "metadata": {
  "kernelspec": {
   "display_name": "Python 3",
   "language": "python",
   "name": "python3"
  },
  "language_info": {
   "codemirror_mode": {
    "name": "ipython",
    "version": 3
   },
   "file_extension": ".py",
   "mimetype": "text/x-python",
   "name": "python",
   "nbconvert_exporter": "python",
   "pygments_lexer": "ipython3",
   "version": "3.7.4"
  },
  "varInspector": {
   "cols": {
    "lenName": 16,
    "lenType": 16,
    "lenVar": 40
   },
   "kernels_config": {
    "python": {
     "delete_cmd_postfix": "",
     "delete_cmd_prefix": "del ",
     "library": "var_list.py",
     "varRefreshCmd": "print(var_dic_list())"
    },
    "r": {
     "delete_cmd_postfix": ") ",
     "delete_cmd_prefix": "rm(",
     "library": "var_list.r",
     "varRefreshCmd": "cat(var_dic_list()) "
    }
   },
   "types_to_exclude": [
    "module",
    "function",
    "builtin_function_or_method",
    "instance",
    "_Feature"
   ],
   "window_display": false
  }
 },
 "nbformat": 4,
 "nbformat_minor": 4
}
