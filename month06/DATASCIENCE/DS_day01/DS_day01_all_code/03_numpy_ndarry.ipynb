{
 "cells": [
  {
   "cell_type": "code",
   "execution_count": 1,
   "metadata": {},
   "outputs": [],
   "source": [
    "import numpy as np"
   ]
  },
  {
   "cell_type": "code",
   "execution_count": 3,
   "metadata": {},
   "outputs": [
    {
     "name": "stdout",
     "output_type": "stream",
     "text": [
      "[1 2 3 4]\n",
      "[[1 2 3 4]\n",
      " [5 6 7 8]]\n",
      "[[1 2 3 4]]\n"
     ]
    }
   ],
   "source": [
    "# 一维数组\n",
    "arr1=np.array([1,2,3,4])\n",
    "# 二维数组\n",
    "arr2=np.array([[1,2,3,4],[5,6,7,8]])\n",
    "# 创建二维数组但是传一维数据\n",
    "arr3=np.array([1,2,3,4],ndmin=2)\n",
    "print(arr1)\n",
    "print(arr2)\n",
    "print(arr3)"
   ]
  },
  {
   "cell_type": "code",
   "execution_count": 6,
   "metadata": {},
   "outputs": [
    {
     "name": "stdout",
     "output_type": "stream",
     "text": [
      "2\n",
      "(4,)\n",
      "(2, 4)\n",
      "4\n",
      "8\n",
      "int64\n",
      "8\n"
     ]
    }
   ],
   "source": [
    "print(arr2.ndim)\n",
    "print(arr1.shape)\n",
    "print(arr2.shape)\n",
    "print(arr1.size)\n",
    "print(arr2.size)\n",
    "print(arr2.dtype)\n",
    "print(arr2.itemsize)"
   ]
  },
  {
   "cell_type": "code",
   "execution_count": 7,
   "metadata": {},
   "outputs": [
    {
     "name": "stdout",
     "output_type": "stream",
     "text": [
      "[[1 2]\n",
      " [3 4]\n",
      " [5 6]\n",
      " [7 8]]\n"
     ]
    }
   ],
   "source": [
    "# 修改数组形状\n",
    "arr2.shape=4,2\n",
    "print(arr2)"
   ]
  },
  {
   "cell_type": "markdown",
   "metadata": {},
   "source": [
    "### 创建特殊数组"
   ]
  },
  {
   "cell_type": "code",
   "execution_count": 14,
   "metadata": {},
   "outputs": [
    {
     "name": "stdout",
     "output_type": "stream",
     "text": [
      "[0 1 2 3 4]\n",
      "[8 7 6 5 4 3 2]\n"
     ]
    }
   ],
   "source": [
    "# 等差数组\n",
    "arr4=np.arange(0,5,1)\n",
    "print(arr4)\n",
    "arr5=np.arange(8,1,-1)\n",
    "print(arr5)"
   ]
  },
  {
   "cell_type": "code",
   "execution_count": 17,
   "metadata": {},
   "outputs": [
    {
     "name": "stdout",
     "output_type": "stream",
     "text": [
      "[0. 0. 0. 0. 0. 0. 0. 0. 0. 0.]\n",
      "[1. 1. 1. 1. 1. 1. 1. 1.]\n",
      "[[1. 1. 1. 1.]\n",
      " [1. 1. 1. 1.]\n",
      " [1. 1. 1. 1.]]\n"
     ]
    }
   ],
   "source": [
    "# 全零数组\n",
    "arr6 = np.zeros(10)\n",
    "print(arr6)\n",
    "# 全一数组\n",
    "arr7 = np.ones(8)\n",
    "print(arr7)\n",
    "# 经常用到的方法 快速生成二维全是1的数组\n",
    "arr8 = np.ones(12).reshape(3,4)\n",
    "print(arr8)"
   ]
  },
  {
   "cell_type": "markdown",
   "metadata": {},
   "source": [
    "### 随机数模块"
   ]
  },
  {
   "cell_type": "markdown",
   "metadata": {},
   "source": [
    "* 种子固定输出结果-ipython中固定一个文本框的结果，py中固定一个py文件的结果"
   ]
  },
  {
   "cell_type": "code",
   "execution_count": 29,
   "metadata": {},
   "outputs": [],
   "source": [
    "np.random.seed(100)"
   ]
  },
  {
   "cell_type": "markdown",
   "metadata": {},
   "source": [
    "* 标准正态分布的数据 -均值为0，标准差为1"
   ]
  },
  {
   "cell_type": "code",
   "execution_count": 32,
   "metadata": {},
   "outputs": [
    {
     "name": "stdout",
     "output_type": "stream",
     "text": [
      "[[-0.43813562 -1.11831825  1.61898166]\n",
      " [ 1.54160517 -0.25187914 -0.84243574]\n",
      " [ 0.18451869  0.9370822   0.73100034]]\n"
     ]
    }
   ],
   "source": [
    "# 3行3列\n",
    "# np.random.seed(100)\n",
    "data1 = np.random.randn(3,3)\n",
    "print(data1)"
   ]
  },
  {
   "cell_type": "markdown",
   "metadata": {},
   "source": [
    "* 随机整数"
   ]
  },
  {
   "cell_type": "code",
   "execution_count": 36,
   "metadata": {},
   "outputs": [
    {
     "name": "stdout",
     "output_type": "stream",
     "text": [
      "[[ 9 25 68 88 80]\n",
      " [49 11 95 53 99]\n",
      " [54 67 99 15 35]]\n"
     ]
    }
   ],
   "source": [
    "# 1-100以内，生成3行5列随机整数 \n",
    "np.random.seed(100)\n",
    "data2 = np.random.randint(1,100,[3,5])\n",
    "print(data2)"
   ]
  },
  {
   "cell_type": "markdown",
   "metadata": {},
   "source": [
    "* 0-1范围内的随机实数"
   ]
  },
  {
   "cell_type": "code",
   "execution_count": 38,
   "metadata": {},
   "outputs": [
    {
     "name": "stdout",
     "output_type": "stream",
     "text": [
      "[[0.10837689 0.21969749 0.97862378 0.81168315 0.17194101]\n",
      " [0.81622475 0.27407375 0.43170418 0.94002982 0.81764938]]\n"
     ]
    }
   ],
   "source": [
    "# 10 个 0-1范围内的随机实数\n",
    "data3=np.random.random(10).reshape(2,5)\n",
    "print(data3)"
   ]
  },
  {
   "cell_type": "markdown",
   "metadata": {},
   "source": [
    "# 利用numpy进行统计分析"
   ]
  },
  {
   "cell_type": "markdown",
   "metadata": {},
   "source": [
    "* 一维数组"
   ]
  },
  {
   "cell_type": "code",
   "execution_count": 39,
   "metadata": {},
   "outputs": [
    {
     "name": "stdout",
     "output_type": "stream",
     "text": [
      "[0 1 2 3 4 5 6 7 8 9]\n",
      "9\n",
      "[3 4 5]\n",
      "[8 6 4]\n",
      "[ 0  1 10 11  4  5  6  7  8  9]\n"
     ]
    }
   ],
   "source": [
    "arr01 = np.arange(10)\n",
    "print(arr01)\n",
    "print(arr01[-1])\n",
    "print(arr01[3:6])  # 左开右闭\n",
    "print(arr01[8:2:-2])  # 左开右闭 8 6 4 \n",
    "# 数组切片修改\n",
    "arr01[2:4]=10,11\n",
    "print(arr01)"
   ]
  },
  {
   "cell_type": "markdown",
   "metadata": {},
   "source": [
    "* 二维数组"
   ]
  },
  {
   "cell_type": "code",
   "execution_count": 51,
   "metadata": {},
   "outputs": [
    {
     "name": "stdout",
     "output_type": "stream",
     "text": [
      "[[ 0  1  2  3]\n",
      " [ 4  5  6  7]\n",
      " [ 8  9 10 11]]\n",
      "[[1 2]\n",
      " [5 6]]\n",
      "[5 6]\n",
      "[[0 1 2 3]\n",
      " [4 5 6 7]]\n",
      "[0 1 2 3]\n",
      "[[ 1  2]\n",
      " [ 5  6]\n",
      " [ 9 10]]\n",
      "[ 3  7 11]\n",
      "6\n",
      "6\n"
     ]
    }
   ],
   "source": [
    "arr02 = np.arange(12).reshape(3,4)\n",
    "print(arr02)\n",
    "# 对于行和列都有要求\n",
    "print(arr02[0:2,1:3])\n",
    "print(arr02[1,1:3]) # [5,6]\n",
    "# 选择行\n",
    "print(arr02[0:2]) # 第1，2行\n",
    "print(arr02[0]) # 第1行\n",
    "# 选择列\n",
    "print(arr02[:,1:3]) # 第2，3列\n",
    "print(arr02[:,3])# 第4列 \n",
    "# 一个值\n",
    "print(arr02[1,2]) # 6\n",
    "print(arr02[1][2]) # 6"
   ]
  },
  {
   "cell_type": "code",
   "execution_count": null,
   "metadata": {},
   "outputs": [],
   "source": []
  }
 ],
 "metadata": {
  "kernelspec": {
   "display_name": "Python 3",
   "language": "python",
   "name": "python3"
  },
  "language_info": {
   "codemirror_mode": {
    "name": "ipython",
    "version": 3
   },
   "file_extension": ".py",
   "mimetype": "text/x-python",
   "name": "python",
   "nbconvert_exporter": "python",
   "pygments_lexer": "ipython3",
   "version": "3.7.4"
  }
 },
 "nbformat": 4,
 "nbformat_minor": 4
}
