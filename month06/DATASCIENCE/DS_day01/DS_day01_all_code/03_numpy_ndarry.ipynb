{
 "cells": [
  {
   "cell_type": "code",
   "execution_count": 1,
   "metadata": {},
   "outputs": [],
   "source": [
    "import numpy as np"
   ]
  },
  {
   "cell_type": "markdown",
   "metadata": {},
   "source": [
    "numpy 的核心是ndarry,不用于python的array"
   ]
  },
  {
   "cell_type": "code",
   "execution_count": 3,
   "metadata": {},
   "outputs": [
    {
     "name": "stdout",
     "output_type": "stream",
     "text": [
      "[1 2 3 4]\n",
      "[[1 2 3 4]\n",
      " [5 6 7 8]]\n",
      "[[1 2 3 4]]\n"
     ]
    }
   ],
   "source": [
    "# 一维数组\n",
    "arr1=np.array([1,2,3,4])\n",
    "# 二维数组\n",
    "arr2=np.array([[1,2,3,4],[5,6,7,8]])\n",
    "# 创建二维数组但是传一维数据\n",
    "arr3=np.array([1,2,3,4],ndmin=2)\n",
    "print(arr1)\n",
    "print(arr2)\n",
    "print(arr3)"
   ]
  },
  {
   "cell_type": "code",
   "execution_count": 6,
   "metadata": {},
   "outputs": [
    {
     "name": "stdout",
     "output_type": "stream",
     "text": [
      "2\n",
      "(4,)\n",
      "(2, 4)\n",
      "4\n",
      "8\n",
      "int64\n",
      "8\n"
     ]
    }
   ],
   "source": [
    "print(arr2.ndim)\n",
    "print(arr1.shape)\n",
    "print(arr2.shape)\n",
    "print(arr1.size)\n",
    "print(arr2.size)\n",
    "print(arr2.dtype)\n",
    "print(arr2.itemsize)"
   ]
  },
  {
   "cell_type": "code",
   "execution_count": 7,
   "metadata": {},
   "outputs": [
    {
     "name": "stdout",
     "output_type": "stream",
     "text": [
      "[[1 2]\n",
      " [3 4]\n",
      " [5 6]\n",
      " [7 8]]\n"
     ]
    }
   ],
   "source": [
    "# 修改数组形状\n",
    "arr2.shape=4,2\n",
    "print(arr2)"
   ]
  },
  {
   "cell_type": "markdown",
   "metadata": {},
   "source": [
    "### 创建特殊数组"
   ]
  },
  {
   "cell_type": "code",
   "execution_count": 14,
   "metadata": {},
   "outputs": [
    {
     "name": "stdout",
     "output_type": "stream",
     "text": [
      "[0 1 2 3 4]\n",
      "[8 7 6 5 4 3 2]\n"
     ]
    }
   ],
   "source": [
    "# 等差数组\n",
    "arr4=np.arange(0,5,1)\n",
    "print(arr4)\n",
    "arr5=np.arange(8,1,-1)\n",
    "print(arr5)"
   ]
  },
  {
   "cell_type": "code",
   "execution_count": 17,
   "metadata": {},
   "outputs": [
    {
     "name": "stdout",
     "output_type": "stream",
     "text": [
      "[0. 0. 0. 0. 0. 0. 0. 0. 0. 0.]\n",
      "[1. 1. 1. 1. 1. 1. 1. 1.]\n",
      "[[1. 1. 1. 1.]\n",
      " [1. 1. 1. 1.]\n",
      " [1. 1. 1. 1.]]\n"
     ]
    }
   ],
   "source": [
    "# 全零数组\n",
    "arr6 = np.zeros(10)\n",
    "print(arr6)\n",
    "# 全一数组\n",
    "arr7 = np.ones(8)\n",
    "print(arr7)\n",
    "# 经常用到的方法 快速生成二维全是1的数组\n",
    "arr8 = np.ones(12).reshape(3,4)\n",
    "print(arr8)"
   ]
  },
  {
   "cell_type": "markdown",
   "metadata": {},
   "source": [
    "### 随机数模块"
   ]
  },
  {
   "cell_type": "markdown",
   "metadata": {},
   "source": [
    "* 种子固定输出结果-ipython中固定一个文本框的结果，py中固定一个py文件的结果"
   ]
  },
  {
   "cell_type": "code",
   "execution_count": 29,
   "metadata": {},
   "outputs": [],
   "source": [
    "np.random.seed(100)"
   ]
  },
  {
   "cell_type": "markdown",
   "metadata": {},
   "source": [
    "* 标准正态分布的数据 -均值为0，标准差为1"
   ]
  },
  {
   "cell_type": "code",
   "execution_count": 32,
   "metadata": {},
   "outputs": [
    {
     "name": "stdout",
     "output_type": "stream",
     "text": [
      "[[-0.43813562 -1.11831825  1.61898166]\n",
      " [ 1.54160517 -0.25187914 -0.84243574]\n",
      " [ 0.18451869  0.9370822   0.73100034]]\n"
     ]
    }
   ],
   "source": [
    "# 3行3列\n",
    "# np.random.seed(100)\n",
    "data1 = np.random.randn(3,3)\n",
    "print(data1)"
   ]
  },
  {
   "cell_type": "markdown",
   "metadata": {},
   "source": [
    "* 随机整数"
   ]
  },
  {
   "cell_type": "code",
   "execution_count": 36,
   "metadata": {},
   "outputs": [
    {
     "name": "stdout",
     "output_type": "stream",
     "text": [
      "[[ 9 25 68 88 80]\n",
      " [49 11 95 53 99]\n",
      " [54 67 99 15 35]]\n"
     ]
    }
   ],
   "source": [
    "# 1-100以内，生成3行5列随机整数 \n",
    "np.random.seed(100)\n",
    "data2 = np.random.randint(1,100,[3,5])\n",
    "print(data2)"
   ]
  },
  {
   "cell_type": "markdown",
   "metadata": {},
   "source": [
    "* 0-1范围内的随机实数"
   ]
  },
  {
   "cell_type": "code",
   "execution_count": 38,
   "metadata": {},
   "outputs": [
    {
     "name": "stdout",
     "output_type": "stream",
     "text": [
      "[[0.10837689 0.21969749 0.97862378 0.81168315 0.17194101]\n",
      " [0.81622475 0.27407375 0.43170418 0.94002982 0.81764938]]\n"
     ]
    }
   ],
   "source": [
    "# 10 个 0-1范围内的随机实数\n",
    "data3=np.random.random(10).reshape(2,5)\n",
    "print(data3)"
   ]
  },
  {
   "cell_type": "markdown",
   "metadata": {},
   "source": [
    "# 利用numpy进行统计分析"
   ]
  },
  {
   "cell_type": "markdown",
   "metadata": {},
   "source": [
    "* 一维数组"
   ]
  },
  {
   "cell_type": "code",
   "execution_count": 39,
   "metadata": {},
   "outputs": [
    {
     "name": "stdout",
     "output_type": "stream",
     "text": [
      "[0 1 2 3 4 5 6 7 8 9]\n",
      "9\n",
      "[3 4 5]\n",
      "[8 6 4]\n",
      "[ 0  1 10 11  4  5  6  7  8  9]\n"
     ]
    }
   ],
   "source": [
    "arr01 = np.arange(10)\n",
    "print(arr01)\n",
    "print(arr01[-1])\n",
    "print(arr01[3:6])  # 左开右闭\n",
    "print(arr01[8:2:-2])  # 左开右闭 8 6 4 \n",
    "# 数组切片修改\n",
    "arr01[2:4]=10,11\n",
    "print(arr01)"
   ]
  },
  {
   "cell_type": "markdown",
   "metadata": {},
   "source": [
    "* 二维数组"
   ]
  },
  {
   "cell_type": "code",
   "execution_count": 51,
   "metadata": {},
   "outputs": [
    {
     "name": "stdout",
     "output_type": "stream",
     "text": [
      "[[ 0  1  2  3]\n",
      " [ 4  5  6  7]\n",
      " [ 8  9 10 11]]\n",
      "[[1 2]\n",
      " [5 6]]\n",
      "[5 6]\n",
      "[[0 1 2 3]\n",
      " [4 5 6 7]]\n",
      "[0 1 2 3]\n",
      "[[ 1  2]\n",
      " [ 5  6]\n",
      " [ 9 10]]\n",
      "[ 3  7 11]\n",
      "6\n",
      "6\n"
     ]
    }
   ],
   "source": [
    "arr02 = np.arange(12).reshape(3,4)\n",
    "print(arr02)\n",
    "# 对于行和列都有要求\n",
    "print(arr02[0:2,1:3])\n",
    "print(arr02[1,1:3]) # [5,6]\n",
    "# 选择行\n",
    "print(arr02[0:2]) # 第1，2行\n",
    "print(arr02[0]) # 第1行\n",
    "# 选择列\n",
    "print(arr02[:,1:3]) # 第2，3列\n",
    "print(arr02[:,3])# 第4列 \n",
    "# 一个值\n",
    "print(arr02[1,2]) # 6\n",
    "print(arr02[1][2]) # 6"
   ]
  },
  {
   "cell_type": "markdown",
   "metadata": {},
   "source": [
    "# 使用numpy进行文件读写"
   ]
  },
  {
   "cell_type": "markdown",
   "metadata": {},
   "source": [
    "* 存储 -numpy.savez('xxx',arr1,arr2) 不需要写后缀\n",
    "\n",
    "    如果存一个数组，生成npy文件，\n",
    "    \n",
    "    存两个数组，生成npz文件"
   ]
  },
  {
   "cell_type": "code",
   "execution_count": 58,
   "metadata": {},
   "outputs": [],
   "source": [
    "# 保存一个数组\n",
    "arr01 = np.arange(100).reshape(10,10)\n",
    "np.save('arr01',arr01)\n",
    "# 保存两个数组\n",
    "arr02 = np.random.randn(3,5)\n",
    "np.savez('arr02',arr01,arr02)"
   ]
  },
  {
   "cell_type": "markdown",
   "metadata": {},
   "source": [
    "* 载入 -numpy.load('xxx.npy|xxx.npz') 一定要写后缀"
   ]
  },
  {
   "cell_type": "code",
   "execution_count": 56,
   "metadata": {},
   "outputs": [
    {
     "name": "stdout",
     "output_type": "stream",
     "text": [
      "[[ 0  1  2  3  4  5  6  7  8  9]\n",
      " [10 11 12 13 14 15 16 17 18 19]\n",
      " [20 21 22 23 24 25 26 27 28 29]\n",
      " [30 31 32 33 34 35 36 37 38 39]\n",
      " [40 41 42 43 44 45 46 47 48 49]\n",
      " [50 51 52 53 54 55 56 57 58 59]\n",
      " [60 61 62 63 64 65 66 67 68 69]\n",
      " [70 71 72 73 74 75 76 77 78 79]\n",
      " [80 81 82 83 84 85 86 87 88 89]\n",
      " [90 91 92 93 94 95 96 97 98 99]]\n"
     ]
    }
   ],
   "source": [
    "# 读取npy文件\n",
    "load_data1 = np.load('arr01.npy')\n",
    "print(load_data1)"
   ]
  },
  {
   "cell_type": "code",
   "execution_count": 62,
   "metadata": {},
   "outputs": [
    {
     "name": "stdout",
     "output_type": "stream",
     "text": [
      "['arr_0', 'arr_1']\n",
      "[[ 0  1  2  3  4  5  6  7  8  9]\n",
      " [10 11 12 13 14 15 16 17 18 19]\n",
      " [20 21 22 23 24 25 26 27 28 29]\n",
      " [30 31 32 33 34 35 36 37 38 39]\n",
      " [40 41 42 43 44 45 46 47 48 49]\n",
      " [50 51 52 53 54 55 56 57 58 59]\n",
      " [60 61 62 63 64 65 66 67 68 69]\n",
      " [70 71 72 73 74 75 76 77 78 79]\n",
      " [80 81 82 83 84 85 86 87 88 89]\n",
      " [90 91 92 93 94 95 96 97 98 99]]\n",
      "[[-1.0075773  -0.50873443  0.78148842 -0.65438103  0.04117247]\n",
      " [-0.20191691 -0.87081315  0.22893207 -0.40803994 -0.10392514]\n",
      " [ 1.56717879  0.49702472  1.15587233  1.83861168  1.53572662]]\n"
     ]
    }
   ],
   "source": [
    "# 读取npz文件\n",
    "load_data2 = np.load('arr02.npz')\n",
    "# 先知道名字再读取\n",
    "print(load_data2.files)\n",
    "arr_data1=load_data2['arr_0']\n",
    "arr_data2=load_data2['arr_1']\n",
    "print(arr_data1)\n",
    "print(arr_data2)"
   ]
  },
  {
   "cell_type": "markdown",
   "metadata": {},
   "source": [
    "# 国民经济核算数据读取"
   ]
  },
  {
   "cell_type": "code",
   "execution_count": 69,
   "metadata": {},
   "outputs": [
    {
     "name": "stdout",
     "output_type": "stream",
     "text": [
      "['columns', 'values']\n"
     ]
    }
   ],
   "source": [
    "economical_data = np.load('国民经济核算季度数据.npz',allow_pickle=True)\n",
    "print(economical_data.files)"
   ]
  },
  {
   "cell_type": "code",
   "execution_count": 71,
   "metadata": {},
   "outputs": [
    {
     "name": "stdout",
     "output_type": "stream",
     "text": [
      "['序号' '时间' '国内生产总值_当季值(亿元)' '第一产业增加值_当季值(亿元)' '第二产业增加值_当季值(亿元)'\n",
      " '第三产业增加值_当季值(亿元)' '农林牧渔业增加值_当季值(亿元)' '工业增加值_当季值(亿元)' '建筑业增加值_当季值(亿元)'\n",
      " '批发和零售业增加值_当季值(亿元)' '交通运输、仓储和邮政业增加值_当季值(亿元)' '住宿和餐饮业增加值_当季值(亿元)'\n",
      " '金融业增加值_当季值(亿元)' '房地产业增加值_当季值(亿元)' '其他行业增加值_当季值(亿元)']\n",
      "[[1 '2000年第一季度' 21329.9 ... 1235.9 933.7 3586.1]\n",
      " [2 '2000年第二季度' 24043.4 ... 1124.0 904.7 3464.9]\n",
      " [3 '2000年第三季度' 25712.5 ... 1170.4 1070.9 3518.2]\n",
      " ...\n",
      " [67 '2016年第三季度' 190529.5 ... 15472.5 12164.1 37964.1]\n",
      " [68 '2016年第四季度' 211281.3 ... 15548.7 13214.9 39848.4]\n",
      " [69 '2017年第一季度' 180682.7 ... 17213.5 12393.4 42443.1]]\n"
     ]
    }
   ],
   "source": [
    "columns = economical_data['columns']\n",
    "values = economical_data['values']\n",
    "print(columns)\n",
    "print(values)"
   ]
  },
  {
   "cell_type": "markdown",
   "metadata": {},
   "source": [
    "# 简单统计"
   ]
  },
  {
   "cell_type": "markdown",
   "metadata": {},
   "source": [
    "* 排序"
   ]
  },
  {
   "cell_type": "code",
   "execution_count": 78,
   "metadata": {},
   "outputs": [
    {
     "name": "stdout",
     "output_type": "stream",
     "text": [
      "[[41 25 94 59 29 83 83  8 95  3]\n",
      " [64  3 88 18 91 94 97 75 54 31]\n",
      " [68 29 38 83 18 11 14 82 26 67]\n",
      " [16 12 39 23 56 58 88 52 49 54]\n",
      " [18 66 43 94 45 17 52 55 56 84]\n",
      " [43 62 38 81  3 63 82 17 71 54]\n",
      " [99 97 48 49 10 50 54 35  4 12]\n",
      " [50 30 37 94 68 27 53 37 74 32]\n",
      " [86 93 69 84 72 62 94 37 43 14]\n",
      " [49 83 33 39 41 54 94 15 39 87]]\n",
      "[[16  3 33 18  3 11 14  8  4  3]\n",
      " [18 12 37 23 10 17 52 15 26 12]\n",
      " [41 25 38 39 18 27 53 17 39 14]\n",
      " [43 29 38 49 29 50 54 35 43 31]\n",
      " [49 30 39 59 41 54 82 37 49 32]\n",
      " [50 62 43 81 45 58 83 37 54 54]\n",
      " [64 66 48 83 56 62 88 52 56 54]\n",
      " [68 83 69 84 68 63 94 55 71 67]\n",
      " [86 93 88 94 72 83 94 75 74 84]\n",
      " [99 97 94 94 91 94 97 82 95 87]]\n",
      "[[ 3  3  3  4  8 11 14 16 18 33]\n",
      " [10 12 12 15 17 18 23 26 37 52]\n",
      " [14 17 18 25 27 38 39 39 41 53]\n",
      " [29 29 31 35 38 43 43 49 50 54]\n",
      " [30 32 37 39 41 49 49 54 59 82]\n",
      " [37 43 45 50 54 54 58 62 81 83]\n",
      " [48 52 54 56 56 62 64 66 83 88]\n",
      " [55 63 67 68 68 69 71 83 84 94]\n",
      " [72 74 75 83 84 86 88 93 94 94]\n",
      " [82 87 91 94 94 94 95 97 97 99]]\n"
     ]
    }
   ],
   "source": [
    "arr03 = np.random.randint(1,100,[10,10])\n",
    "print(arr03)\n",
    "arr03.sort(axis=0)# 按照列递增\n",
    "print(arr03)\n",
    "arr03.sort(axis=1)# 按照行递增\n",
    "print(arr03)"
   ]
  },
  {
   "cell_type": "markdown",
   "metadata": {},
   "source": [
    "* 其他 sum mean std标准差 var方差 min max argmin最小值索引 argmax cumsum累加 aumprod累积"
   ]
  },
  {
   "cell_type": "code",
   "execution_count": 84,
   "metadata": {},
   "outputs": [
    {
     "name": "stdout",
     "output_type": "stream",
     "text": [
      "[[85 79  3 88 22 33 81 65 79 18]\n",
      " [50 18 53  5 32 50 26 62 81  2]\n",
      " [14 24 34 10 36 70 85 55 81 28]\n",
      " [68 38 33 47 81  5  5 27 61 60]\n",
      " [91 69 24 45 25 75 32 77 91 67]\n",
      " [79 79 34 72 18 61 57 90 61 13]\n",
      " [16 26 26  8 47 23 55 62 30 77]\n",
      " [10 66 11 78  8 39 57 30 66 80]\n",
      " [26 76 95 32 85 83  9 41 29 57]\n",
      " [53 26  9 75  9 29 35 74 25 99]]\n",
      "[29.49847454 24.4354251  25.15869631 29.87306479 25.91543941 23.95328787\n",
      " 26.08371139 19.40128862 23.07899478 31.06267857]\n",
      "[30.92264542 24.29588443 25.92701294 24.42232585 24.6868386  25.0926284\n",
      " 21.01903899 27.10811687 28.3867927  28.99034322]\n",
      "[[ 85  79   3  88  22  33  81  65  79  18]\n",
      " [135  97  56  93  54  83 107 127 160  20]\n",
      " [149 121  90 103  90 153 192 182 241  48]\n",
      " [217 159 123 150 171 158 197 209 302 108]\n",
      " [308 228 147 195 196 233 229 286 393 175]\n",
      " [387 307 181 267 214 294 286 376 454 188]\n",
      " [403 333 207 275 261 317 341 438 484 265]\n",
      " [413 399 218 353 269 356 398 468 550 345]\n",
      " [439 475 313 385 354 439 407 509 579 402]\n",
      " [492 501 322 460 363 468 442 583 604 501]]\n"
     ]
    }
   ],
   "source": [
    "arr03 = np.random.randint(1,100,[10,10])\n",
    "print(arr03)\n",
    "# 标准差\n",
    "print(arr03.std(axis=0))\n",
    "print(arr03.std(axis=1))\n",
    "# 累加\n",
    "print(np.cumsum(arr03,axis=0))"
   ]
  },
  {
   "cell_type": "code",
   "execution_count": null,
   "metadata": {},
   "outputs": [],
   "source": []
  },
  {
   "cell_type": "code",
   "execution_count": null,
   "metadata": {},
   "outputs": [],
   "source": []
  }
 ],
 "metadata": {
  "kernelspec": {
   "display_name": "Python 3",
   "language": "python",
   "name": "python3"
  },
  "language_info": {
   "codemirror_mode": {
    "name": "ipython",
    "version": 3
   },
   "file_extension": ".py",
   "mimetype": "text/x-python",
   "name": "python",
   "nbconvert_exporter": "python",
   "pygments_lexer": "ipython3",
   "version": "3.7.4"
  }
 },
 "nbformat": 4,
 "nbformat_minor": 4
}
