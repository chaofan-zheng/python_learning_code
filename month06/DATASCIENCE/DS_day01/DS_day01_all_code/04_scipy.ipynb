{
 "cells": [
  {
   "cell_type": "markdown",
   "metadata": {},
   "source": [
    "# scipy"
   ]
  },
  {
   "cell_type": "markdown",
   "metadata": {},
   "source": [
    "scipy 一般都是操控Numpy数组来进行科学计算。"
   ]
  },
  {
   "cell_type": "markdown",
   "metadata": {},
   "source": [
    "根据已有的数值行为，预测未知的数据，就是回归问题\n",
    "\n",
    "y的真实值=f(x)+e，e就是残值，也叫做误差"
   ]
  },
  {
   "cell_type": "markdown",
   "metadata": {},
   "source": [
    "最小二乘法的原则是以“残值平方和最小”确定直线位置"
   ]
  },
  {
   "cell_type": "markdown",
   "metadata": {},
   "source": [
    "scipy 的统计模块、优化模块，插值模块是会用到比较多的"
   ]
  },
  {
   "cell_type": "code",
   "execution_count": 1,
   "metadata": {},
   "outputs": [],
   "source": [
    "import numpy as np\n",
    "from scipy.optimize import leastsq"
   ]
  },
  {
   "cell_type": "markdown",
   "metadata": {},
   "source": [
    "leastsq的主要参数\n",
    "- func：误差函数\n",
    "- x0：表示函数的参数\n",
    "- args（）表示数据点"
   ]
  },
  {
   "cell_type": "code",
   "execution_count": 5,
   "metadata": {},
   "outputs": [
    {
     "name": "stdout",
     "output_type": "stream",
     "text": [
      "Test\n",
      "Test\n",
      "Test\n",
      "Test\n",
      "Test\n",
      "Test\n",
      "Test\n",
      "Test\n",
      "Test\n"
     ]
    },
    {
     "data": {
      "text/plain": [
       "9.835639820631616"
      ]
     },
     "execution_count": 5,
     "metadata": {},
     "output_type": "execute_result"
    }
   ],
   "source": [
    "# 导入样本数据\n",
    "Xi = np.array([6.19,2.51,7.29,7.01,5.7,2.66,3.98,2.5,9.1,4.2])\n",
    "Yi = np.array([5.25,2.83,6.41,6.71,5.1,4.23,5.05,1.98,10.5,6.3]) \n",
    "# 定义拟合函数kx+b \n",
    "def func(p,x):  # p作为这个函数的参数\n",
    "    k,b = p\n",
    "    return k*x +b\n",
    "\n",
    "# 定义误差函数，返回真实值和拟合值的误差\n",
    "def error(p,x,y,s):\n",
    "    print(s)\n",
    "    return func(p,x)-y\n",
    "s='Test' # 看打印了几次\n",
    "# 设置初始值\n",
    "p0=[1,1]\n",
    "\n",
    "# 主函数\n",
    "res = leastsq(func=error,x0=p0,args=(Xi,Yi,s))# args是用来给error函数传参数的\n",
    "# print(res) # (array([0.90045842, 0.83105566]), 1)\n",
    "k,b=res[0]\n",
    "k=np.round(k,2) # 四舍五入，小数点后两位\n",
    "b=np.round(b,2)\n",
    "\n",
    "# 预测10的y数据\n",
    "func(res[0],10)"
   ]
  },
  {
   "cell_type": "markdown",
   "metadata": {},
   "source": [
    "也可以用其他的拟合函数，比如抛物线，三角函数等等"
   ]
  },
  {
   "cell_type": "code",
   "execution_count": null,
   "metadata": {},
   "outputs": [],
   "source": []
  },
  {
   "cell_type": "code",
   "execution_count": null,
   "metadata": {},
   "outputs": [],
   "source": []
  }
 ],
 "metadata": {
  "kernelspec": {
   "display_name": "Python 3",
   "language": "python",
   "name": "python3"
  },
  "language_info": {
   "codemirror_mode": {
    "name": "ipython",
    "version": 3
   },
   "file_extension": ".py",
   "mimetype": "text/x-python",
   "name": "python",
   "nbconvert_exporter": "python",
   "pygments_lexer": "ipython3",
   "version": "3.7.4"
  },
  "varInspector": {
   "cols": {
    "lenName": 16,
    "lenType": 16,
    "lenVar": 40
   },
   "kernels_config": {
    "python": {
     "delete_cmd_postfix": "",
     "delete_cmd_prefix": "del ",
     "library": "var_list.py",
     "varRefreshCmd": "print(var_dic_list())"
    },
    "r": {
     "delete_cmd_postfix": ") ",
     "delete_cmd_prefix": "rm(",
     "library": "var_list.r",
     "varRefreshCmd": "cat(var_dic_list()) "
    }
   },
   "types_to_exclude": [
    "module",
    "function",
    "builtin_function_or_method",
    "instance",
    "_Feature"
   ],
   "window_display": false
  }
 },
 "nbformat": 4,
 "nbformat_minor": 4
}
