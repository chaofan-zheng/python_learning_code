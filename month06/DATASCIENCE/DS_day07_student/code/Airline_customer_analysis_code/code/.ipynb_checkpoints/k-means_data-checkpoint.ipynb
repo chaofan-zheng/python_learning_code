{
 "cells": [
  {
   "cell_type": "markdown",
   "metadata": {},
   "source": [
    "# 航空公司客户价值分析"
   ]
  },
  {
   "cell_type": "markdown",
   "metadata": {},
   "source": [
    "## 实验目的：<br>\n",
    "借助航空公司客户数据，对客户进行分类。<br>\n",
    "对不同的客户类别进行特征分析，比较不同类别客户的客户价值。<br>\n",
    "对不同价值的客户类别提供个性化服务，制定相应的营销策略。<br>"
   ]
  },
  {
   "cell_type": "markdown",
   "metadata": {},
   "source": [
    "### 读取数据，指定编码为gb18030"
   ]
  },
  {
   "cell_type": "code",
   "execution_count": 1,
   "metadata": {},
   "outputs": [],
   "source": [
    "import pandas as pd\n",
    "import numpy as np"
   ]
  },
  {
   "cell_type": "code",
   "execution_count": 2,
   "metadata": {},
   "outputs": [],
   "source": [
    "airline_data = pd.read_csv('../data/air_data.csv',encoding='gb18030')"
   ]
  },
  {
   "cell_type": "markdown",
   "metadata": {},
   "source": [
    "<img src='../data/data1.png'>"
   ]
  },
  {
   "cell_type": "markdown",
   "metadata": {},
   "source": [
    "<img src='../data/data2.png'>"
   ]
  },
  {
   "cell_type": "markdown",
   "metadata": {},
   "source": [
    "### 数据描述性分析"
   ]
  },
  {
   "cell_type": "code",
   "execution_count": 3,
   "metadata": {},
   "outputs": [
    {
     "name": "stdout",
     "output_type": "stream",
     "text": [
      "<class 'pandas.core.frame.DataFrame'>\n",
      "RangeIndex: 62988 entries, 0 to 62987\n",
      "Data columns (total 44 columns):\n",
      "MEMBER_NO                  62988 non-null int64\n",
      "FFP_DATE                   62988 non-null object\n",
      "FIRST_FLIGHT_DATE          62988 non-null object\n",
      "GENDER                     62985 non-null object\n",
      "FFP_TIER                   62988 non-null int64\n",
      "WORK_CITY                  60719 non-null object\n",
      "WORK_PROVINCE              59740 non-null object\n",
      "WORK_COUNTRY               62962 non-null object\n",
      "AGE                        62568 non-null float64\n",
      "LOAD_TIME                  62988 non-null object\n",
      "FLIGHT_COUNT               62988 non-null int64\n",
      "BP_SUM                     62988 non-null int64\n",
      "EP_SUM_YR_1                62988 non-null int64\n",
      "EP_SUM_YR_2                62988 non-null int64\n",
      "SUM_YR_1                   62437 non-null float64\n",
      "SUM_YR_2                   62850 non-null float64\n",
      "SEG_KM_SUM                 62988 non-null int64\n",
      "WEIGHTED_SEG_KM            62988 non-null float64\n",
      "LAST_FLIGHT_DATE           62988 non-null object\n",
      "AVG_FLIGHT_COUNT           62988 non-null float64\n",
      "AVG_BP_SUM                 62988 non-null float64\n",
      "BEGIN_TO_FIRST             62988 non-null int64\n",
      "LAST_TO_END                62988 non-null int64\n",
      "AVG_INTERVAL               62988 non-null float64\n",
      "MAX_INTERVAL               62988 non-null int64\n",
      "ADD_POINTS_SUM_YR_1        62988 non-null int64\n",
      "ADD_POINTS_SUM_YR_2        62988 non-null int64\n",
      "EXCHANGE_COUNT             62988 non-null int64\n",
      "avg_discount               62988 non-null float64\n",
      "P1Y_Flight_Count           62988 non-null int64\n",
      "L1Y_Flight_Count           62988 non-null int64\n",
      "P1Y_BP_SUM                 62988 non-null int64\n",
      "L1Y_BP_SUM                 62988 non-null int64\n",
      "EP_SUM                     62988 non-null int64\n",
      "ADD_Point_SUM              62988 non-null int64\n",
      "Eli_Add_Point_Sum          62988 non-null int64\n",
      "L1Y_ELi_Add_Points         62988 non-null int64\n",
      "Points_Sum                 62988 non-null int64\n",
      "L1Y_Points_Sum             62988 non-null int64\n",
      "Ration_L1Y_Flight_Count    62988 non-null float64\n",
      "Ration_P1Y_Flight_Count    62988 non-null float64\n",
      "Ration_P1Y_BPS             62988 non-null float64\n",
      "Ration_L1Y_BPS             62988 non-null float64\n",
      "Point_NotFlight            62988 non-null int64\n",
      "dtypes: float64(12), int64(24), object(8)\n",
      "memory usage: 21.1+ MB\n"
     ]
    }
   ],
   "source": [
    "airline_data.info()"
   ]
  },
  {
   "cell_type": "markdown",
   "metadata": {},
   "source": [
    "### 数据预处理<br>\n",
    "#### 1. 去除票价为空的数据\n"
   ]
  },
  {
   "cell_type": "markdown",
   "metadata": {},
   "source": [
    "#### 2.只保留票价不为0，平均折扣率不为0，总飞行公里数大于0的记录。"
   ]
  },
  {
   "cell_type": "markdown",
   "metadata": {},
   "source": [
    "### 构建特征"
   ]
  },
  {
   "cell_type": "markdown",
   "metadata": {},
   "source": [
    "<img src='../data/1.jpg'>"
   ]
  },
  {
   "cell_type": "markdown",
   "metadata": {},
   "source": [
    "L: LOAD_TIME  观测窗口的结束时间----FFP_DATE\t入会时间<br>\n",
    "R: LAST_TO_END  最后一次乘机时间至观测窗口结束时长<br>\n",
    "F: FLIGHT_COUNT 观测窗口内的飞行次数 <br>\n",
    "M: SEG_KM_SUM 观测窗口的总飞行公里数 <br>\n",
    "C: avg_discount 平均折扣率<br>\n"
   ]
  },
  {
   "cell_type": "markdown",
   "metadata": {},
   "source": [
    "### 数据标准化处理"
   ]
  },
  {
   "cell_type": "code",
   "execution_count": null,
   "metadata": {},
   "outputs": [],
   "source": []
  },
  {
   "cell_type": "markdown",
   "metadata": {},
   "source": [
    "### 使用k均值构建模型"
   ]
  },
  {
   "cell_type": "code",
   "execution_count": null,
   "metadata": {},
   "outputs": [],
   "source": []
  }
 ],
 "metadata": {
  "kernelspec": {
   "display_name": "Python 3",
   "language": "python",
   "name": "python3"
  },
  "language_info": {
   "codemirror_mode": {
    "name": "ipython",
    "version": 3
   },
   "file_extension": ".py",
   "mimetype": "text/x-python",
   "name": "python",
   "nbconvert_exporter": "python",
   "pygments_lexer": "ipython3",
   "version": "3.7.4"
  },
  "varInspector": {
   "cols": {
    "lenName": 16,
    "lenType": 16,
    "lenVar": 40
   },
   "kernels_config": {
    "python": {
     "delete_cmd_postfix": "",
     "delete_cmd_prefix": "del ",
     "library": "var_list.py",
     "varRefreshCmd": "print(var_dic_list())"
    },
    "r": {
     "delete_cmd_postfix": ") ",
     "delete_cmd_prefix": "rm(",
     "library": "var_list.r",
     "varRefreshCmd": "cat(var_dic_list()) "
    }
   },
   "types_to_exclude": [
    "module",
    "function",
    "builtin_function_or_method",
    "instance",
    "_Feature"
   ],
   "window_display": false
  }
 },
 "nbformat": 4,
 "nbformat_minor": 2
}
