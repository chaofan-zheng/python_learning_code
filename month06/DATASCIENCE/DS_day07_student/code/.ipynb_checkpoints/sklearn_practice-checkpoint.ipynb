{
 "cells": [
  {
   "cell_type": "code",
   "execution_count": 1,
   "metadata": {},
   "outputs": [],
   "source": [
    "# 加载breast_cancer数据集\n",
    "from sklearn.datasets import load_breast_cancer\n",
    "cancer=load_breast_cancer()\n",
    "# print(type(cancer))\n",
    "# print(cancer)"
   ]
  },
  {
   "cell_type": "code",
   "execution_count": 2,
   "metadata": {},
   "outputs": [],
   "source": [
    "# 加载数据集的数据\n",
    "cancer_data=cancer['data']\n",
    "# print(cancer_data)\n",
    "# 标签\n",
    "cancer_target=cancer['target']\n",
    "# print(cancer_target)\n",
    "# 特征名\n",
    "cancer_names=cancer['target_names']\n",
    "# print(cancer_names)\n",
    "# 描述信息\n",
    "cancer_desc=cancer['DESCR']\n",
    "# print(cancer_desc)\n"
   ]
  },
  {
   "cell_type": "code",
   "execution_count": 3,
   "metadata": {},
   "outputs": [
    {
     "name": "stdout",
     "output_type": "stream",
     "text": [
      "(569, 30)\n",
      "(569,)\n",
      "训练集数据的形状为： (426, 30)\n",
      "训练集标签的形状为： (426,)\n",
      "测试集数据的形状为： (143, 30)\n",
      "测试集标签的形状为： (143,)\n"
     ]
    }
   ],
   "source": [
    "# 原始数据形状\n",
    "print(cancer_data.shape)\n",
    "# 原始数据集标签形状\n",
    "print(cancer_target.shape)\n",
    "\n",
    "# # 对数据划分为训练集和测试集\n",
    "from sklearn.model_selection import train_test_split\n",
    "cancer_data_train, cancer_data_test, cancer_target_train, cancer_target_test\\\n",
    "    =train_test_split(cancer_data,cancer_target,test_size=0.25,random_state=10)\n",
    "print('训练集数据的形状为：',cancer_data_train.shape)\n",
    "print('训练集标签的形状为：',cancer_target_train.shape)\n",
    "\n",
    "print('测试集数据的形状为：',cancer_data_test.shape)\n",
    "print('测试集标签的形状为：',cancer_target_test.shape)"
   ]
  },
  {
   "cell_type": "code",
   "execution_count": 4,
   "metadata": {},
   "outputs": [
    {
     "name": "stdout",
     "output_type": "stream",
     "text": [
      "0.0\n",
      "0.0\n",
      "4254.0\n",
      "1.0000000000000002\n"
     ]
    }
   ],
   "source": [
    "import numpy as np\n",
    "from sklearn.preprocessing import MinMaxScaler\n",
    "# 生成规则 Scaler\n",
    "Scaler=MinMaxScaler().fit(cancer_data_train)\n",
    "##将规则应用于训练集\n",
    "cancer_trainScaler=Scaler.transform(cancer_data_train)\n",
    "##将规则应用于测试集\n",
    "cancer_testScaler=Scaler.transform(cancer_data_test)\n",
    "# 离差标准化前训练集数据的最小值\n",
    "print(np.min(cancer_data_train))\n",
    "# 离差标准化后训练集数据的最小值\n",
    "print(np.min(cancer_trainScaler))\n",
    "# 离差标准化前训练集数据的最大值\n",
    "print(np.max(cancer_data_train))\n",
    "# 离差标准化后训练集数据的最大值\n",
    "print(np.max(cancer_trainScaler))"
   ]
  },
  {
   "cell_type": "code",
   "execution_count": null,
   "metadata": {},
   "outputs": [],
   "source": []
  },
  {
   "cell_type": "code",
   "execution_count": null,
   "metadata": {},
   "outputs": [],
   "source": []
  },
  {
   "cell_type": "code",
   "execution_count": null,
   "metadata": {},
   "outputs": [],
   "source": []
  }
 ],
 "metadata": {
  "kernelspec": {
   "display_name": "Python 3",
   "language": "python",
   "name": "python3"
  },
  "language_info": {
   "codemirror_mode": {
    "name": "ipython",
    "version": 3
   },
   "file_extension": ".py",
   "mimetype": "text/x-python",
   "name": "python",
   "nbconvert_exporter": "python",
   "pygments_lexer": "ipython3",
   "version": "3.6.3"
  }
 },
 "nbformat": 4,
 "nbformat_minor": 2
}
