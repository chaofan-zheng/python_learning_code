{
 "cells": [
  {
   "cell_type": "code",
   "execution_count": 2,
   "metadata": {},
   "outputs": [],
   "source": [
    "import pandas as pd"
   ]
  },
  {
   "cell_type": "markdown",
   "metadata": {},
   "source": [
    "## 创建一个Series\n",
    "- data 数据数组\n",
    "- index 索引数组\n",
    "- dtype 数据类型"
   ]
  },
  {
   "cell_type": "code",
   "execution_count": 3,
   "metadata": {},
   "outputs": [
    {
     "data": {
      "text/plain": [
       "0    3\n",
       "1   -5\n",
       "2    7\n",
       "3    4\n",
       "dtype: int64"
      ]
     },
     "execution_count": 3,
     "metadata": {},
     "output_type": "execute_result"
    }
   ],
   "source": [
    "s1 = pd.Series(data=[3,-5,7,4])\n",
    "s1"
   ]
  },
  {
   "cell_type": "code",
   "execution_count": 9,
   "metadata": {},
   "outputs": [
    {
     "name": "stdout",
     "output_type": "stream",
     "text": [
      "a    3\n",
      "b   -5\n",
      "c    7\n",
      "d    4\n",
      "dtype: int32\n",
      "-5\n",
      "a     a\n",
      "b    -5\n",
      "c     7\n",
      "d     4\n",
      "dtype: object\n"
     ]
    }
   ],
   "source": [
    "s2 = pd.Series(data=[3,-5,7,4],index=list('abcd'),dtype='int32')\n",
    "print(s2)\n",
    "print(s2['b']) # -5\n",
    "# 修改\n",
    "s2['a']='a' # 会自动修改dtype\n",
    "print(s2)"
   ]
  },
  {
   "cell_type": "markdown",
   "metadata": {},
   "source": [
    "## 创建一个DataFrame\n",
    "- data 二维数组 也可以用字典，直接省略指定列索引，键是列名，值是列表，是值\n",
    "- index 行索引\n",
    "- columns 列索引\n",
    "- dtype 数据类型"
   ]
  },
  {
   "cell_type": "code",
   "execution_count": 14,
   "metadata": {},
   "outputs": [
    {
     "data": {
      "text/html": [
       "<div>\n",
       "<style scoped>\n",
       "    .dataframe tbody tr th:only-of-type {\n",
       "        vertical-align: middle;\n",
       "    }\n",
       "\n",
       "    .dataframe tbody tr th {\n",
       "        vertical-align: top;\n",
       "    }\n",
       "\n",
       "    .dataframe thead th {\n",
       "        text-align: right;\n",
       "    }\n",
       "</style>\n",
       "<table border=\"1\" class=\"dataframe\">\n",
       "  <thead>\n",
       "    <tr style=\"text-align: right;\">\n",
       "      <th></th>\n",
       "      <th>a</th>\n",
       "      <th>b</th>\n",
       "      <th>c</th>\n",
       "      <th>d</th>\n",
       "    </tr>\n",
       "  </thead>\n",
       "  <tbody>\n",
       "    <tr>\n",
       "      <td>2010-01-01</td>\n",
       "      <td>0.002875</td>\n",
       "      <td>-1.725133</td>\n",
       "      <td>-0.938804</td>\n",
       "      <td>-1.294390</td>\n",
       "    </tr>\n",
       "    <tr>\n",
       "      <td>2010-01-02</td>\n",
       "      <td>0.812594</td>\n",
       "      <td>-1.596208</td>\n",
       "      <td>1.476201</td>\n",
       "      <td>1.824755</td>\n",
       "    </tr>\n",
       "    <tr>\n",
       "      <td>2010-01-03</td>\n",
       "      <td>1.092390</td>\n",
       "      <td>0.974862</td>\n",
       "      <td>-1.386738</td>\n",
       "      <td>1.651267</td>\n",
       "    </tr>\n",
       "    <tr>\n",
       "      <td>2010-01-04</td>\n",
       "      <td>-1.746582</td>\n",
       "      <td>0.354002</td>\n",
       "      <td>-0.575350</td>\n",
       "      <td>-0.902434</td>\n",
       "    </tr>\n",
       "    <tr>\n",
       "      <td>2010-01-05</td>\n",
       "      <td>-0.019921</td>\n",
       "      <td>-0.616377</td>\n",
       "      <td>-2.274537</td>\n",
       "      <td>0.938830</td>\n",
       "    </tr>\n",
       "    <tr>\n",
       "      <td>2010-01-06</td>\n",
       "      <td>-0.071526</td>\n",
       "      <td>0.983821</td>\n",
       "      <td>-0.160476</td>\n",
       "      <td>-1.021960</td>\n",
       "    </tr>\n",
       "  </tbody>\n",
       "</table>\n",
       "</div>"
      ],
      "text/plain": [
       "                   a         b         c         d\n",
       "2010-01-01  0.002875 -1.725133 -0.938804 -1.294390\n",
       "2010-01-02  0.812594 -1.596208  1.476201  1.824755\n",
       "2010-01-03  1.092390  0.974862 -1.386738  1.651267\n",
       "2010-01-04 -1.746582  0.354002 -0.575350 -0.902434\n",
       "2010-01-05 -0.019921 -0.616377 -2.274537  0.938830\n",
       "2010-01-06 -0.071526  0.983821 -0.160476 -1.021960"
      ]
     },
     "execution_count": 14,
     "metadata": {},
     "output_type": "execute_result"
    }
   ],
   "source": [
    "date_list = pd.date_range(start='20100101',end='2010-01-06')\n",
    "df = pd.DataFrame(\n",
    "                    data=np.random.randn(6,4),# 6行4列的标准正态分布,\n",
    "                    index = date_list,\n",
    "                    columns=list('abcd'))\n",
    "df"
   ]
  },
  {
   "cell_type": "markdown",
   "metadata": {},
   "source": [
    "常见属性\n",
    "- columns index values dtypes size ndim shape"
   ]
  },
  {
   "cell_type": "code",
   "execution_count": 24,
   "metadata": {},
   "outputs": [
    {
     "data": {
      "text/plain": [
       "DatetimeIndex(['2010-01-01', '2010-01-02', '2010-01-03', '2010-01-04',\n",
       "               '2010-01-05', '2010-01-06'],\n",
       "              dtype='datetime64[ns]', freq='D')"
      ]
     },
     "execution_count": 24,
     "metadata": {},
     "output_type": "execute_result"
    }
   ],
   "source": [
    "df.index"
   ]
  },
  {
   "cell_type": "code",
   "execution_count": 25,
   "metadata": {},
   "outputs": [
    {
     "data": {
      "text/plain": [
       "array([[ 0.0028748 , -1.7251327 , -0.93880423, -1.29438955],\n",
       "       [ 0.81259392, -1.59620828,  1.47620139,  1.82475532],\n",
       "       [ 1.09238981,  0.97486176, -1.38673772,  1.65126749],\n",
       "       [-1.74658186,  0.35400246, -0.57534988, -0.90243438],\n",
       "       [-0.0199205 , -0.61637701, -2.27453659,  0.9388296 ],\n",
       "       [-0.07152566,  0.9838208 , -0.16047634, -1.02196019]])"
      ]
     },
     "execution_count": 25,
     "metadata": {},
     "output_type": "execute_result"
    }
   ],
   "source": [
    "df.values"
   ]
  },
  {
   "cell_type": "code",
   "execution_count": 26,
   "metadata": {},
   "outputs": [
    {
     "data": {
      "text/plain": [
       "Index(['a', 'b', 'c', 'd'], dtype='object')"
      ]
     },
     "execution_count": 26,
     "metadata": {},
     "output_type": "execute_result"
    }
   ],
   "source": [
    "df.columns"
   ]
  },
  {
   "cell_type": "code",
   "execution_count": 27,
   "metadata": {},
   "outputs": [
    {
     "data": {
      "text/plain": [
       "a    float64\n",
       "b    float64\n",
       "c    float64\n",
       "d    float64\n",
       "dtype: object"
      ]
     },
     "execution_count": 27,
     "metadata": {},
     "output_type": "execute_result"
    }
   ],
   "source": [
    "df.dtypes"
   ]
  },
  {
   "cell_type": "code",
   "execution_count": 29,
   "metadata": {},
   "outputs": [
    {
     "data": {
      "text/plain": [
       "(6, 4)"
      ]
     },
     "execution_count": 29,
     "metadata": {},
     "output_type": "execute_result"
    }
   ],
   "source": [
    "df.shape"
   ]
  },
  {
   "cell_type": "code",
   "execution_count": null,
   "metadata": {},
   "outputs": [],
   "source": []
  },
  {
   "cell_type": "code",
   "execution_count": 15,
   "metadata": {},
   "outputs": [
    {
     "data": {
      "text/html": [
       "<div>\n",
       "<style scoped>\n",
       "    .dataframe tbody tr th:only-of-type {\n",
       "        vertical-align: middle;\n",
       "    }\n",
       "\n",
       "    .dataframe tbody tr th {\n",
       "        vertical-align: top;\n",
       "    }\n",
       "\n",
       "    .dataframe thead th {\n",
       "        text-align: right;\n",
       "    }\n",
       "</style>\n",
       "<table border=\"1\" class=\"dataframe\">\n",
       "  <thead>\n",
       "    <tr style=\"text-align: right;\">\n",
       "      <th></th>\n",
       "      <th>姓名</th>\n",
       "      <th>年龄</th>\n",
       "    </tr>\n",
       "  </thead>\n",
       "  <tbody>\n",
       "    <tr>\n",
       "      <td>0</td>\n",
       "      <td>lisa</td>\n",
       "      <td>20</td>\n",
       "    </tr>\n",
       "    <tr>\n",
       "      <td>1</td>\n",
       "      <td>john</td>\n",
       "      <td>14</td>\n",
       "    </tr>\n",
       "  </tbody>\n",
       "</table>\n",
       "</div>"
      ],
      "text/plain": [
       "     姓名  年龄\n",
       "0  lisa  20\n",
       "1  john  14"
      ]
     },
     "execution_count": 15,
     "metadata": {},
     "output_type": "execute_result"
    }
   ],
   "source": [
    "df1=pd.DataFrame(data={'姓名':['lisa','john'],\n",
    "                      '年龄':[20,14]})\n",
    "df1"
   ]
  },
  {
   "cell_type": "code",
   "execution_count": 21,
   "metadata": {},
   "outputs": [
    {
     "name": "stdout",
     "output_type": "stream",
     "text": [
      "     姓名  年龄\n",
      "a  lisa  20\n",
      "b  john  14\n",
      "  index    姓名  年龄\n",
      "0     a  lisa  20\n",
      "1     b  john  14\n"
     ]
    }
   ],
   "source": [
    "# 去重置行索引\n",
    "df1.index=['a','b']\n",
    "print(df1)\n",
    "df2 = df1.reset_index()\n",
    "print(df2)"
   ]
  },
  {
   "cell_type": "markdown",
   "metadata": {},
   "source": [
    "## DF也是可以存储读取的，csv"
   ]
  },
  {
   "cell_type": "code",
   "execution_count": 22,
   "metadata": {},
   "outputs": [
    {
     "data": {
      "text/html": [
       "<div>\n",
       "<style scoped>\n",
       "    .dataframe tbody tr th:only-of-type {\n",
       "        vertical-align: middle;\n",
       "    }\n",
       "\n",
       "    .dataframe tbody tr th {\n",
       "        vertical-align: top;\n",
       "    }\n",
       "\n",
       "    .dataframe thead th {\n",
       "        text-align: right;\n",
       "    }\n",
       "</style>\n",
       "<table border=\"1\" class=\"dataframe\">\n",
       "  <thead>\n",
       "    <tr style=\"text-align: right;\">\n",
       "      <th></th>\n",
       "      <th>Unnamed: 0</th>\n",
       "      <th>姓名</th>\n",
       "      <th>年龄</th>\n",
       "    </tr>\n",
       "  </thead>\n",
       "  <tbody>\n",
       "    <tr>\n",
       "      <td>0</td>\n",
       "      <td>a</td>\n",
       "      <td>lisa</td>\n",
       "      <td>20</td>\n",
       "    </tr>\n",
       "    <tr>\n",
       "      <td>1</td>\n",
       "      <td>b</td>\n",
       "      <td>john</td>\n",
       "      <td>14</td>\n",
       "    </tr>\n",
       "  </tbody>\n",
       "</table>\n",
       "</div>"
      ],
      "text/plain": [
       "  Unnamed: 0    姓名  年龄\n",
       "0          a  lisa  20\n",
       "1          b  john  14"
      ]
     },
     "execution_count": 22,
     "metadata": {},
     "output_type": "execute_result"
    }
   ],
   "source": [
    "df1.to_csv('df1.csv')\n",
    "data = pd.read_csv('df1.csv')\n",
    "data"
   ]
  },
  {
   "cell_type": "code",
   "execution_count": 23,
   "metadata": {},
   "outputs": [
    {
     "data": {
      "text/html": [
       "<div>\n",
       "<style scoped>\n",
       "    .dataframe tbody tr th:only-of-type {\n",
       "        vertical-align: middle;\n",
       "    }\n",
       "\n",
       "    .dataframe tbody tr th {\n",
       "        vertical-align: top;\n",
       "    }\n",
       "\n",
       "    .dataframe thead th {\n",
       "        text-align: right;\n",
       "    }\n",
       "</style>\n",
       "<table border=\"1\" class=\"dataframe\">\n",
       "  <thead>\n",
       "    <tr style=\"text-align: right;\">\n",
       "      <th></th>\n",
       "      <th>姓名</th>\n",
       "      <th>年龄</th>\n",
       "    </tr>\n",
       "  </thead>\n",
       "  <tbody>\n",
       "    <tr>\n",
       "      <td>0</td>\n",
       "      <td>lisa</td>\n",
       "      <td>20</td>\n",
       "    </tr>\n",
       "    <tr>\n",
       "      <td>1</td>\n",
       "      <td>john</td>\n",
       "      <td>14</td>\n",
       "    </tr>\n",
       "  </tbody>\n",
       "</table>\n",
       "</div>"
      ],
      "text/plain": [
       "     姓名  年龄\n",
       "0  lisa  20\n",
       "1  john  14"
      ]
     },
     "execution_count": 23,
     "metadata": {},
     "output_type": "execute_result"
    }
   ],
   "source": [
    "df1.to_csv('df1.csv',index=False)\n",
    "data = pd.read_csv('df1.csv')\n",
    "data"
   ]
  },
  {
   "cell_type": "markdown",
   "metadata": {},
   "source": [
    "## 操作DF数据\n",
    "Numpy中DataFrame的单列数据就是一个Series"
   ]
  },
  {
   "cell_type": "code",
   "execution_count": 40,
   "metadata": {},
   "outputs": [
    {
     "name": "stdout",
     "output_type": "stream",
     "text": [
      "2010-01-01    0.002875\n",
      "2010-01-02    0.812594\n",
      "2010-01-03    1.092390\n",
      "2010-01-04   -1.746582\n",
      "2010-01-05   -0.019921\n",
      "2010-01-06   -0.071526\n",
      "Freq: D, Name: a, dtype: float64\n",
      "2010-01-01    0.002875\n",
      "2010-01-02    0.812594\n",
      "2010-01-03    1.092390\n",
      "2010-01-04   -1.746582\n",
      "2010-01-05   -0.019921\n",
      "2010-01-06   -0.071526\n",
      "Freq: D, Name: a, dtype: float64\n",
      "                   a         b\n",
      "2010-01-01  0.002875 -1.725133\n",
      "2010-01-02  0.812594 -1.596208\n",
      "2010-01-03  1.092390  0.974862\n",
      "2010-01-04 -1.746582  0.354002\n",
      "2010-01-05 -0.019921 -0.616377\n",
      "2010-01-06 -0.071526  0.983821\n"
     ]
    }
   ],
   "source": [
    "# 单列数据的访问\n",
    "print(df.a)\n",
    "print(df['a'])\n",
    "# 多列数据的访问\n",
    "print(df[['a','b']]) # df方括号里面再放一个列表"
   ]
  },
  {
   "cell_type": "code",
   "execution_count": 38,
   "metadata": {},
   "outputs": [
    {
     "name": "stdout",
     "output_type": "stream",
     "text": [
      "                   a         b         c         d\n",
      "2010-01-01  0.002875 -1.725133 -0.938804 -1.294390\n",
      "2010-01-02  0.812594 -1.596208  1.476201  1.824755\n",
      "2010-01-03  1.092390  0.974862 -1.386738  1.651267\n",
      "                   a         b         c         d\n",
      "2010-01-03  1.092390  0.974862 -1.386738  1.651267\n",
      "2010-01-04 -1.746582  0.354002 -0.575350 -0.902434\n",
      "2010-01-05 -0.019921 -0.616377 -2.274537  0.938830\n",
      "2010-01-06 -0.071526  0.983821 -0.160476 -1.021960\n"
     ]
    },
    {
     "data": {
      "text/html": [
       "<div>\n",
       "<style scoped>\n",
       "    .dataframe tbody tr th:only-of-type {\n",
       "        vertical-align: middle;\n",
       "    }\n",
       "\n",
       "    .dataframe tbody tr th {\n",
       "        vertical-align: top;\n",
       "    }\n",
       "\n",
       "    .dataframe thead th {\n",
       "        text-align: right;\n",
       "    }\n",
       "</style>\n",
       "<table border=\"1\" class=\"dataframe\">\n",
       "  <thead>\n",
       "    <tr style=\"text-align: right;\">\n",
       "      <th></th>\n",
       "      <th>a</th>\n",
       "      <th>b</th>\n",
       "      <th>c</th>\n",
       "      <th>d</th>\n",
       "    </tr>\n",
       "  </thead>\n",
       "  <tbody>\n",
       "    <tr>\n",
       "      <td>2010-01-01</td>\n",
       "      <td>0.002875</td>\n",
       "      <td>-1.725133</td>\n",
       "      <td>-0.938804</td>\n",
       "      <td>-1.294390</td>\n",
       "    </tr>\n",
       "    <tr>\n",
       "      <td>2010-01-02</td>\n",
       "      <td>0.812594</td>\n",
       "      <td>-1.596208</td>\n",
       "      <td>1.476201</td>\n",
       "      <td>1.824755</td>\n",
       "    </tr>\n",
       "    <tr>\n",
       "      <td>2010-01-03</td>\n",
       "      <td>1.092390</td>\n",
       "      <td>0.974862</td>\n",
       "      <td>-1.386738</td>\n",
       "      <td>1.651267</td>\n",
       "    </tr>\n",
       "  </tbody>\n",
       "</table>\n",
       "</div>"
      ],
      "text/plain": [
       "                   a         b         c         d\n",
       "2010-01-01  0.002875 -1.725133 -0.938804 -1.294390\n",
       "2010-01-02  0.812594 -1.596208  1.476201  1.824755\n",
       "2010-01-03  1.092390  0.974862 -1.386738  1.651267"
      ]
     },
     "execution_count": 38,
     "metadata": {},
     "output_type": "execute_result"
    }
   ],
   "source": [
    "# 对于行的访问\n",
    "print(df.head(3)) # 显示前3行，默认为5行\n",
    "print(df.tail(4))\n",
    "df[0:3] #前三行\n",
    "# 如果既要行，又要列，不同于numpy的[:,0:3]这样的写法，这个是不适用的\n",
    "# df我们这样做loc和iloc\n",
    "print(df)"
   ]
  },
  {
   "cell_type": "markdown",
   "metadata": {},
   "source": [
    "## loc 和 iloc \n",
    "- loc行索引名称\n",
    "- iloc列索引名称"
   ]
  },
  {
   "cell_type": "code",
   "execution_count": 41,
   "metadata": {},
   "outputs": [
    {
     "data": {
      "text/plain": [
       "-1.7251327041188842"
      ]
     },
     "execution_count": 41,
     "metadata": {},
     "output_type": "execute_result"
    }
   ],
   "source": [
    "df.iloc[0,1]"
   ]
  },
  {
   "cell_type": "code",
   "execution_count": 43,
   "metadata": {},
   "outputs": [
    {
     "data": {
      "text/html": [
       "<div>\n",
       "<style scoped>\n",
       "    .dataframe tbody tr th:only-of-type {\n",
       "        vertical-align: middle;\n",
       "    }\n",
       "\n",
       "    .dataframe tbody tr th {\n",
       "        vertical-align: top;\n",
       "    }\n",
       "\n",
       "    .dataframe thead th {\n",
       "        text-align: right;\n",
       "    }\n",
       "</style>\n",
       "<table border=\"1\" class=\"dataframe\">\n",
       "  <thead>\n",
       "    <tr style=\"text-align: right;\">\n",
       "      <th></th>\n",
       "      <th>a</th>\n",
       "      <th>b</th>\n",
       "    </tr>\n",
       "  </thead>\n",
       "  <tbody>\n",
       "    <tr>\n",
       "      <td>2010-01-01</td>\n",
       "      <td>0.002875</td>\n",
       "      <td>-1.725133</td>\n",
       "    </tr>\n",
       "    <tr>\n",
       "      <td>2010-01-02</td>\n",
       "      <td>0.812594</td>\n",
       "      <td>-1.596208</td>\n",
       "    </tr>\n",
       "    <tr>\n",
       "      <td>2010-01-03</td>\n",
       "      <td>1.092390</td>\n",
       "      <td>0.974862</td>\n",
       "    </tr>\n",
       "    <tr>\n",
       "      <td>2010-01-04</td>\n",
       "      <td>-1.746582</td>\n",
       "      <td>0.354002</td>\n",
       "    </tr>\n",
       "  </tbody>\n",
       "</table>\n",
       "</div>"
      ],
      "text/plain": [
       "                   a         b\n",
       "2010-01-01  0.002875 -1.725133\n",
       "2010-01-02  0.812594 -1.596208\n",
       "2010-01-03  1.092390  0.974862\n",
       "2010-01-04 -1.746582  0.354002"
      ]
     },
     "execution_count": 43,
     "metadata": {},
     "output_type": "execute_result"
    }
   ],
   "source": [
    "df.iloc[0:4,0:2] "
   ]
  },
  {
   "cell_type": "code",
   "execution_count": 45,
   "metadata": {},
   "outputs": [
    {
     "data": {
      "text/html": [
       "<div>\n",
       "<style scoped>\n",
       "    .dataframe tbody tr th:only-of-type {\n",
       "        vertical-align: middle;\n",
       "    }\n",
       "\n",
       "    .dataframe tbody tr th {\n",
       "        vertical-align: top;\n",
       "    }\n",
       "\n",
       "    .dataframe thead th {\n",
       "        text-align: right;\n",
       "    }\n",
       "</style>\n",
       "<table border=\"1\" class=\"dataframe\">\n",
       "  <thead>\n",
       "    <tr style=\"text-align: right;\">\n",
       "      <th></th>\n",
       "      <th>a</th>\n",
       "      <th>c</th>\n",
       "    </tr>\n",
       "  </thead>\n",
       "  <tbody>\n",
       "    <tr>\n",
       "      <td>2010-01-01</td>\n",
       "      <td>0.002875</td>\n",
       "      <td>-0.938804</td>\n",
       "    </tr>\n",
       "    <tr>\n",
       "      <td>2010-01-05</td>\n",
       "      <td>-0.019921</td>\n",
       "      <td>-2.274537</td>\n",
       "    </tr>\n",
       "  </tbody>\n",
       "</table>\n",
       "</div>"
      ],
      "text/plain": [
       "                   a         c\n",
       "2010-01-01  0.002875 -0.938804\n",
       "2010-01-05 -0.019921 -2.274537"
      ]
     },
     "execution_count": 45,
     "metadata": {},
     "output_type": "execute_result"
    }
   ],
   "source": [
    "df.iloc[[0,4],[0,2]]"
   ]
  },
  {
   "cell_type": "code",
   "execution_count": 46,
   "metadata": {},
   "outputs": [
    {
     "data": {
      "text/html": [
       "<div>\n",
       "<style scoped>\n",
       "    .dataframe tbody tr th:only-of-type {\n",
       "        vertical-align: middle;\n",
       "    }\n",
       "\n",
       "    .dataframe tbody tr th {\n",
       "        vertical-align: top;\n",
       "    }\n",
       "\n",
       "    .dataframe thead th {\n",
       "        text-align: right;\n",
       "    }\n",
       "</style>\n",
       "<table border=\"1\" class=\"dataframe\">\n",
       "  <thead>\n",
       "    <tr style=\"text-align: right;\">\n",
       "      <th></th>\n",
       "      <th>a</th>\n",
       "      <th>b</th>\n",
       "    </tr>\n",
       "  </thead>\n",
       "  <tbody>\n",
       "    <tr>\n",
       "      <td>2010-01-01</td>\n",
       "      <td>0.002875</td>\n",
       "      <td>-1.725133</td>\n",
       "    </tr>\n",
       "    <tr>\n",
       "      <td>2010-01-02</td>\n",
       "      <td>0.812594</td>\n",
       "      <td>-1.596208</td>\n",
       "    </tr>\n",
       "    <tr>\n",
       "      <td>2010-01-03</td>\n",
       "      <td>1.092390</td>\n",
       "      <td>0.974862</td>\n",
       "    </tr>\n",
       "    <tr>\n",
       "      <td>2010-01-04</td>\n",
       "      <td>-1.746582</td>\n",
       "      <td>0.354002</td>\n",
       "    </tr>\n",
       "  </tbody>\n",
       "</table>\n",
       "</div>"
      ],
      "text/plain": [
       "                   a         b\n",
       "2010-01-01  0.002875 -1.725133\n",
       "2010-01-02  0.812594 -1.596208\n",
       "2010-01-03  1.092390  0.974862\n",
       "2010-01-04 -1.746582  0.354002"
      ]
     },
     "execution_count": 46,
     "metadata": {},
     "output_type": "execute_result"
    }
   ],
   "source": [
    "df.loc['2010-01-01':'2010-01-04','a':'b'] # iloc数字切片是左闭右开的，loc切片是左闭右闭的 "
   ]
  },
  {
   "cell_type": "code",
   "execution_count": 47,
   "metadata": {},
   "outputs": [
    {
     "data": {
      "text/html": [
       "<div>\n",
       "<style scoped>\n",
       "    .dataframe tbody tr th:only-of-type {\n",
       "        vertical-align: middle;\n",
       "    }\n",
       "\n",
       "    .dataframe tbody tr th {\n",
       "        vertical-align: top;\n",
       "    }\n",
       "\n",
       "    .dataframe thead th {\n",
       "        text-align: right;\n",
       "    }\n",
       "</style>\n",
       "<table border=\"1\" class=\"dataframe\">\n",
       "  <thead>\n",
       "    <tr style=\"text-align: right;\">\n",
       "      <th></th>\n",
       "      <th>a</th>\n",
       "      <th>b</th>\n",
       "    </tr>\n",
       "  </thead>\n",
       "  <tbody>\n",
       "    <tr>\n",
       "      <td>2010-01-01</td>\n",
       "      <td>0.002875</td>\n",
       "      <td>-1.725133</td>\n",
       "    </tr>\n",
       "    <tr>\n",
       "      <td>2010-01-02</td>\n",
       "      <td>0.812594</td>\n",
       "      <td>-1.596208</td>\n",
       "    </tr>\n",
       "    <tr>\n",
       "      <td>2010-01-03</td>\n",
       "      <td>1.092390</td>\n",
       "      <td>0.974862</td>\n",
       "    </tr>\n",
       "  </tbody>\n",
       "</table>\n",
       "</div>"
      ],
      "text/plain": [
       "                   a         b\n",
       "2010-01-01  0.002875 -1.725133\n",
       "2010-01-02  0.812594 -1.596208\n",
       "2010-01-03  1.092390  0.974862"
      ]
     },
     "execution_count": 47,
     "metadata": {},
     "output_type": "execute_result"
    }
   ],
   "source": [
    "df.loc[df.index<'2010-01-04','a':'b'] # loc还可以用条件"
   ]
  },
  {
   "cell_type": "code",
   "execution_count": 51,
   "metadata": {},
   "outputs": [
    {
     "data": {
      "text/plain": [
       "0.0028748003005536634"
      ]
     },
     "execution_count": 51,
     "metadata": {},
     "output_type": "execute_result"
    }
   ],
   "source": [
    "df['a']['2010-01-01'] # 这样也是可以的 DataFrame不像是Numpy二维数组，是先列后行的 原理是匹配true or false"
   ]
  },
  {
   "cell_type": "code",
   "execution_count": 53,
   "metadata": {},
   "outputs": [
    {
     "data": {
      "text/plain": [
       "2010-01-01   -1.294390\n",
       "2010-01-02    1.824755\n",
       "2010-01-03    1.651267\n",
       "Freq: D, Name: d, dtype: float64"
      ]
     },
     "execution_count": 53,
     "metadata": {},
     "output_type": "execute_result"
    }
   ],
   "source": [
    "df['d'][df.index<'2010-01-04'] # 加条件也可以"
   ]
  },
  {
   "cell_type": "code",
   "execution_count": 55,
   "metadata": {},
   "outputs": [
    {
     "data": {
      "text/plain": [
       "2010-01-01   -1.294390\n",
       "2010-01-02    1.824755\n",
       "2010-01-03    1.651267\n",
       "Freq: D, Name: d, dtype: float64"
      ]
     },
     "execution_count": 55,
     "metadata": {},
     "output_type": "execute_result"
    }
   ],
   "source": [
    "# 等同于\n",
    "df3=df.loc[df.index<'2010-01-04','d'] # 用&符号接第二个条件\n",
    "df3"
   ]
  },
  {
   "cell_type": "markdown",
   "metadata": {},
   "source": [
    "## 删除某列或某行的数据\n",
    "- labels\n",
    "- axis \n",
    "- levels 层次索引\n",
    "- inplace 是否修改原数据"
   ]
  },
  {
   "cell_type": "code",
   "execution_count": 63,
   "metadata": {},
   "outputs": [
    {
     "data": {
      "text/html": [
       "<div>\n",
       "<style scoped>\n",
       "    .dataframe tbody tr th:only-of-type {\n",
       "        vertical-align: middle;\n",
       "    }\n",
       "\n",
       "    .dataframe tbody tr th {\n",
       "        vertical-align: top;\n",
       "    }\n",
       "\n",
       "    .dataframe thead th {\n",
       "        text-align: right;\n",
       "    }\n",
       "</style>\n",
       "<table border=\"1\" class=\"dataframe\">\n",
       "  <thead>\n",
       "    <tr style=\"text-align: right;\">\n",
       "      <th></th>\n",
       "      <th>c</th>\n",
       "      <th>d</th>\n",
       "    </tr>\n",
       "  </thead>\n",
       "  <tbody>\n",
       "    <tr>\n",
       "      <td>2010-01-01</td>\n",
       "      <td>-0.938804</td>\n",
       "      <td>-1.294390</td>\n",
       "    </tr>\n",
       "    <tr>\n",
       "      <td>2010-01-02</td>\n",
       "      <td>1.476201</td>\n",
       "      <td>1.824755</td>\n",
       "    </tr>\n",
       "    <tr>\n",
       "      <td>2010-01-03</td>\n",
       "      <td>-1.386738</td>\n",
       "      <td>1.651267</td>\n",
       "    </tr>\n",
       "    <tr>\n",
       "      <td>2010-01-04</td>\n",
       "      <td>-0.575350</td>\n",
       "      <td>-0.902434</td>\n",
       "    </tr>\n",
       "    <tr>\n",
       "      <td>2010-01-05</td>\n",
       "      <td>-2.274537</td>\n",
       "      <td>0.938830</td>\n",
       "    </tr>\n",
       "    <tr>\n",
       "      <td>2010-01-06</td>\n",
       "      <td>-0.160476</td>\n",
       "      <td>-1.021960</td>\n",
       "    </tr>\n",
       "  </tbody>\n",
       "</table>\n",
       "</div>"
      ],
      "text/plain": [
       "                   c         d\n",
       "2010-01-01 -0.938804 -1.294390\n",
       "2010-01-02  1.476201  1.824755\n",
       "2010-01-03 -1.386738  1.651267\n",
       "2010-01-04 -0.575350 -0.902434\n",
       "2010-01-05 -2.274537  0.938830\n",
       "2010-01-06 -0.160476 -1.021960"
      ]
     },
     "execution_count": 63,
     "metadata": {},
     "output_type": "execute_result"
    }
   ],
   "source": [
    "df4 = df.drop(labels=['a','b'],axis=1)\n",
    "df4"
   ]
  },
  {
   "cell_type": "code",
   "execution_count": 62,
   "metadata": {},
   "outputs": [
    {
     "data": {
      "text/html": [
       "<div>\n",
       "<style scoped>\n",
       "    .dataframe tbody tr th:only-of-type {\n",
       "        vertical-align: middle;\n",
       "    }\n",
       "\n",
       "    .dataframe tbody tr th {\n",
       "        vertical-align: top;\n",
       "    }\n",
       "\n",
       "    .dataframe thead th {\n",
       "        text-align: right;\n",
       "    }\n",
       "</style>\n",
       "<table border=\"1\" class=\"dataframe\">\n",
       "  <thead>\n",
       "    <tr style=\"text-align: right;\">\n",
       "      <th></th>\n",
       "      <th>a</th>\n",
       "      <th>b</th>\n",
       "      <th>c</th>\n",
       "      <th>d</th>\n",
       "    </tr>\n",
       "  </thead>\n",
       "  <tbody>\n",
       "    <tr>\n",
       "      <td>2010-01-01</td>\n",
       "      <td>0.002875</td>\n",
       "      <td>-1.725133</td>\n",
       "      <td>-0.938804</td>\n",
       "      <td>-1.294390</td>\n",
       "    </tr>\n",
       "    <tr>\n",
       "      <td>2010-01-02</td>\n",
       "      <td>0.812594</td>\n",
       "      <td>-1.596208</td>\n",
       "      <td>1.476201</td>\n",
       "      <td>1.824755</td>\n",
       "    </tr>\n",
       "    <tr>\n",
       "      <td>2010-01-03</td>\n",
       "      <td>1.092390</td>\n",
       "      <td>0.974862</td>\n",
       "      <td>-1.386738</td>\n",
       "      <td>1.651267</td>\n",
       "    </tr>\n",
       "    <tr>\n",
       "      <td>2010-01-04</td>\n",
       "      <td>-1.746582</td>\n",
       "      <td>0.354002</td>\n",
       "      <td>-0.575350</td>\n",
       "      <td>-0.902434</td>\n",
       "    </tr>\n",
       "    <tr>\n",
       "      <td>2010-01-05</td>\n",
       "      <td>-0.019921</td>\n",
       "      <td>-0.616377</td>\n",
       "      <td>-2.274537</td>\n",
       "      <td>0.938830</td>\n",
       "    </tr>\n",
       "    <tr>\n",
       "      <td>2010-01-06</td>\n",
       "      <td>-0.071526</td>\n",
       "      <td>0.983821</td>\n",
       "      <td>-0.160476</td>\n",
       "      <td>-1.021960</td>\n",
       "    </tr>\n",
       "  </tbody>\n",
       "</table>\n",
       "</div>"
      ],
      "text/plain": [
       "                   a         b         c         d\n",
       "2010-01-01  0.002875 -1.725133 -0.938804 -1.294390\n",
       "2010-01-02  0.812594 -1.596208  1.476201  1.824755\n",
       "2010-01-03  1.092390  0.974862 -1.386738  1.651267\n",
       "2010-01-04 -1.746582  0.354002 -0.575350 -0.902434\n",
       "2010-01-05 -0.019921 -0.616377 -2.274537  0.938830\n",
       "2010-01-06 -0.071526  0.983821 -0.160476 -1.021960"
      ]
     },
     "execution_count": 62,
     "metadata": {},
     "output_type": "execute_result"
    }
   ],
   "source": [
    "df"
   ]
  },
  {
   "cell_type": "code",
   "execution_count": 68,
   "metadata": {},
   "outputs": [
    {
     "data": {
      "text/html": [
       "<div>\n",
       "<style scoped>\n",
       "    .dataframe tbody tr th:only-of-type {\n",
       "        vertical-align: middle;\n",
       "    }\n",
       "\n",
       "    .dataframe tbody tr th {\n",
       "        vertical-align: top;\n",
       "    }\n",
       "\n",
       "    .dataframe thead th {\n",
       "        text-align: right;\n",
       "    }\n",
       "</style>\n",
       "<table border=\"1\" class=\"dataframe\">\n",
       "  <thead>\n",
       "    <tr style=\"text-align: right;\">\n",
       "      <th></th>\n",
       "      <th>a</th>\n",
       "      <th>b</th>\n",
       "      <th>c</th>\n",
       "      <th>d</th>\n",
       "    </tr>\n",
       "  </thead>\n",
       "  <tbody>\n",
       "    <tr>\n",
       "      <td>2010-01-02</td>\n",
       "      <td>0.812594</td>\n",
       "      <td>-1.596208</td>\n",
       "      <td>1.476201</td>\n",
       "      <td>1.824755</td>\n",
       "    </tr>\n",
       "    <tr>\n",
       "      <td>2010-01-03</td>\n",
       "      <td>1.092390</td>\n",
       "      <td>0.974862</td>\n",
       "      <td>-1.386738</td>\n",
       "      <td>1.651267</td>\n",
       "    </tr>\n",
       "    <tr>\n",
       "      <td>2010-01-04</td>\n",
       "      <td>-1.746582</td>\n",
       "      <td>0.354002</td>\n",
       "      <td>-0.575350</td>\n",
       "      <td>-0.902434</td>\n",
       "    </tr>\n",
       "    <tr>\n",
       "      <td>2010-01-05</td>\n",
       "      <td>-0.019921</td>\n",
       "      <td>-0.616377</td>\n",
       "      <td>-2.274537</td>\n",
       "      <td>0.938830</td>\n",
       "    </tr>\n",
       "    <tr>\n",
       "      <td>2010-01-06</td>\n",
       "      <td>-0.071526</td>\n",
       "      <td>0.983821</td>\n",
       "      <td>-0.160476</td>\n",
       "      <td>-1.021960</td>\n",
       "    </tr>\n",
       "  </tbody>\n",
       "</table>\n",
       "</div>"
      ],
      "text/plain": [
       "                   a         b         c         d\n",
       "2010-01-02  0.812594 -1.596208  1.476201  1.824755\n",
       "2010-01-03  1.092390  0.974862 -1.386738  1.651267\n",
       "2010-01-04 -1.746582  0.354002 -0.575350 -0.902434\n",
       "2010-01-05 -0.019921 -0.616377 -2.274537  0.938830\n",
       "2010-01-06 -0.071526  0.983821 -0.160476 -1.021960"
      ]
     },
     "execution_count": 68,
     "metadata": {},
     "output_type": "execute_result"
    }
   ],
   "source": [
    "# 删除行要特殊一点\n",
    "df5 = df.drop(labels=date_list[0],axis=0) # 不能直接['2020-01-01']\n",
    "df5"
   ]
  },
  {
   "cell_type": "code",
   "execution_count": 71,
   "metadata": {},
   "outputs": [
    {
     "data": {
      "text/html": [
       "<div>\n",
       "<style scoped>\n",
       "    .dataframe tbody tr th:only-of-type {\n",
       "        vertical-align: middle;\n",
       "    }\n",
       "\n",
       "    .dataframe tbody tr th {\n",
       "        vertical-align: top;\n",
       "    }\n",
       "\n",
       "    .dataframe thead th {\n",
       "        text-align: right;\n",
       "    }\n",
       "</style>\n",
       "<table border=\"1\" class=\"dataframe\">\n",
       "  <thead>\n",
       "    <tr style=\"text-align: right;\">\n",
       "      <th></th>\n",
       "      <th>a</th>\n",
       "      <th>b</th>\n",
       "      <th>c</th>\n",
       "      <th>d</th>\n",
       "    </tr>\n",
       "  </thead>\n",
       "  <tbody>\n",
       "    <tr>\n",
       "      <td>2010-01-06</td>\n",
       "      <td>-0.071526</td>\n",
       "      <td>0.983821</td>\n",
       "      <td>-0.160476</td>\n",
       "      <td>-1.021960</td>\n",
       "    </tr>\n",
       "    <tr>\n",
       "      <td>2010-01-05</td>\n",
       "      <td>-0.019921</td>\n",
       "      <td>-0.616377</td>\n",
       "      <td>-2.274537</td>\n",
       "      <td>0.938830</td>\n",
       "    </tr>\n",
       "    <tr>\n",
       "      <td>2010-01-04</td>\n",
       "      <td>-1.746582</td>\n",
       "      <td>0.354002</td>\n",
       "      <td>-0.575350</td>\n",
       "      <td>-0.902434</td>\n",
       "    </tr>\n",
       "    <tr>\n",
       "      <td>2010-01-03</td>\n",
       "      <td>1.092390</td>\n",
       "      <td>0.974862</td>\n",
       "      <td>-1.386738</td>\n",
       "      <td>1.651267</td>\n",
       "    </tr>\n",
       "    <tr>\n",
       "      <td>2010-01-02</td>\n",
       "      <td>0.812594</td>\n",
       "      <td>-1.596208</td>\n",
       "      <td>1.476201</td>\n",
       "      <td>1.824755</td>\n",
       "    </tr>\n",
       "    <tr>\n",
       "      <td>2010-01-01</td>\n",
       "      <td>0.002875</td>\n",
       "      <td>-1.725133</td>\n",
       "      <td>-0.938804</td>\n",
       "      <td>-1.294390</td>\n",
       "    </tr>\n",
       "  </tbody>\n",
       "</table>\n",
       "</div>"
      ],
      "text/plain": [
       "                   a         b         c         d\n",
       "2010-01-06 -0.071526  0.983821 -0.160476 -1.021960\n",
       "2010-01-05 -0.019921 -0.616377 -2.274537  0.938830\n",
       "2010-01-04 -1.746582  0.354002 -0.575350 -0.902434\n",
       "2010-01-03  1.092390  0.974862 -1.386738  1.651267\n",
       "2010-01-02  0.812594 -1.596208  1.476201  1.824755\n",
       "2010-01-01  0.002875 -1.725133 -0.938804 -1.294390"
      ]
     },
     "execution_count": 71,
     "metadata": {},
     "output_type": "execute_result"
    }
   ],
   "source": [
    "# 按照索引进行排序\n",
    "df_index_sort = df.sort_index(axis=0,ascending=False) # 表示行索引\n",
    "df_index_sort"
   ]
  },
  {
   "cell_type": "code",
   "execution_count": 72,
   "metadata": {},
   "outputs": [
    {
     "data": {
      "text/html": [
       "<div>\n",
       "<style scoped>\n",
       "    .dataframe tbody tr th:only-of-type {\n",
       "        vertical-align: middle;\n",
       "    }\n",
       "\n",
       "    .dataframe tbody tr th {\n",
       "        vertical-align: top;\n",
       "    }\n",
       "\n",
       "    .dataframe thead th {\n",
       "        text-align: right;\n",
       "    }\n",
       "</style>\n",
       "<table border=\"1\" class=\"dataframe\">\n",
       "  <thead>\n",
       "    <tr style=\"text-align: right;\">\n",
       "      <th></th>\n",
       "      <th>a</th>\n",
       "      <th>b</th>\n",
       "      <th>c</th>\n",
       "      <th>d</th>\n",
       "    </tr>\n",
       "  </thead>\n",
       "  <tbody>\n",
       "    <tr>\n",
       "      <td>2010-01-04</td>\n",
       "      <td>-1.746582</td>\n",
       "      <td>0.354002</td>\n",
       "      <td>-0.575350</td>\n",
       "      <td>-0.902434</td>\n",
       "    </tr>\n",
       "    <tr>\n",
       "      <td>2010-01-06</td>\n",
       "      <td>-0.071526</td>\n",
       "      <td>0.983821</td>\n",
       "      <td>-0.160476</td>\n",
       "      <td>-1.021960</td>\n",
       "    </tr>\n",
       "    <tr>\n",
       "      <td>2010-01-05</td>\n",
       "      <td>-0.019921</td>\n",
       "      <td>-0.616377</td>\n",
       "      <td>-2.274537</td>\n",
       "      <td>0.938830</td>\n",
       "    </tr>\n",
       "    <tr>\n",
       "      <td>2010-01-01</td>\n",
       "      <td>0.002875</td>\n",
       "      <td>-1.725133</td>\n",
       "      <td>-0.938804</td>\n",
       "      <td>-1.294390</td>\n",
       "    </tr>\n",
       "    <tr>\n",
       "      <td>2010-01-02</td>\n",
       "      <td>0.812594</td>\n",
       "      <td>-1.596208</td>\n",
       "      <td>1.476201</td>\n",
       "      <td>1.824755</td>\n",
       "    </tr>\n",
       "    <tr>\n",
       "      <td>2010-01-03</td>\n",
       "      <td>1.092390</td>\n",
       "      <td>0.974862</td>\n",
       "      <td>-1.386738</td>\n",
       "      <td>1.651267</td>\n",
       "    </tr>\n",
       "  </tbody>\n",
       "</table>\n",
       "</div>"
      ],
      "text/plain": [
       "                   a         b         c         d\n",
       "2010-01-04 -1.746582  0.354002 -0.575350 -0.902434\n",
       "2010-01-06 -0.071526  0.983821 -0.160476 -1.021960\n",
       "2010-01-05 -0.019921 -0.616377 -2.274537  0.938830\n",
       "2010-01-01  0.002875 -1.725133 -0.938804 -1.294390\n",
       "2010-01-02  0.812594 -1.596208  1.476201  1.824755\n",
       "2010-01-03  1.092390  0.974862 -1.386738  1.651267"
      ]
     },
     "execution_count": 72,
     "metadata": {},
     "output_type": "execute_result"
    }
   ],
   "source": [
    "# 按照数据中的某一列排序\n",
    "df_values_sort = df.sort_values(by='a',ascending=True)\n",
    "df_values_sort"
   ]
  },
  {
   "cell_type": "code",
   "execution_count": null,
   "metadata": {},
   "outputs": [],
   "source": []
  }
 ],
 "metadata": {
  "kernelspec": {
   "display_name": "Python 3",
   "language": "python",
   "name": "python3"
  },
  "language_info": {
   "codemirror_mode": {
    "name": "ipython",
    "version": 3
   },
   "file_extension": ".py",
   "mimetype": "text/x-python",
   "name": "python",
   "nbconvert_exporter": "python",
   "pygments_lexer": "ipython3",
   "version": "3.7.4"
  },
  "varInspector": {
   "cols": {
    "lenName": 16,
    "lenType": 16,
    "lenVar": 40
   },
   "kernels_config": {
    "python": {
     "delete_cmd_postfix": "",
     "delete_cmd_prefix": "del ",
     "library": "var_list.py",
     "varRefreshCmd": "print(var_dic_list())"
    },
    "r": {
     "delete_cmd_postfix": ") ",
     "delete_cmd_prefix": "rm(",
     "library": "var_list.r",
     "varRefreshCmd": "cat(var_dic_list()) "
    }
   },
   "types_to_exclude": [
    "module",
    "function",
    "builtin_function_or_method",
    "instance",
    "_Feature"
   ],
   "window_display": false
  }
 },
 "nbformat": 4,
 "nbformat_minor": 2
}
