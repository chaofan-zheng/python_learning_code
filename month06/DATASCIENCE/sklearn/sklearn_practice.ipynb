{
 "cells": [
  {
   "cell_type": "code",
   "execution_count": 20,
   "metadata": {},
   "outputs": [
    {
     "name": "stdout",
     "output_type": "stream",
     "text": [
      "<class 'sklearn.utils.Bunch'>\n"
     ]
    }
   ],
   "source": [
    "from sklearn.datasets import load_breast_cancer\n",
    "cancer=load_breast_cancer()\n",
    "print(type(cancer))\n",
    "# print(cancer)"
   ]
  },
  {
   "cell_type": "code",
   "execution_count": 22,
   "metadata": {},
   "outputs": [
    {
     "name": "stdout",
     "output_type": "stream",
     "text": [
      "['mean radius' 'mean texture' 'mean perimeter' 'mean area'\n",
      " 'mean smoothness' 'mean compactness' 'mean concavity'\n",
      " 'mean concave points' 'mean symmetry' 'mean fractal dimension'\n",
      " 'radius error' 'texture error' 'perimeter error' 'area error'\n",
      " 'smoothness error' 'compactness error' 'concavity error'\n",
      " 'concave points error' 'symmetry error' 'fractal dimension error'\n",
      " 'worst radius' 'worst texture' 'worst perimeter' 'worst area'\n",
      " 'worst smoothness' 'worst compactness' 'worst concavity'\n",
      " 'worst concave points' 'worst symmetry' 'worst fractal dimension']\n"
     ]
    }
   ],
   "source": [
    "cancer_data=cancer['data']\n",
    "# print(cancer_data)\n",
    "# print(cancer_data.shape)\n",
    "\n",
    "\n",
    "# 标签\n",
    "cancer_target=cancer['target']\n",
    "# print(cancer_target) [0,1]\n",
    "\n",
    "# 特征名\n",
    "cancer_feature_names=cancer['feature_names']\n",
    "print(cancer_feature_names)\n",
    "\n",
    "# 标签名\n",
    "# cancer_names=cancer['target_names']\n",
    "# print(cancer_names) ['malignant' 'benign']\n",
    "\n",
    "\n",
    "# 描述信息\n",
    "cancer_desc=cancer['DESCR']\n",
    "# print(cancer_desc)"
   ]
  },
  {
   "cell_type": "code",
   "execution_count": 13,
   "metadata": {},
   "outputs": [
    {
     "name": "stdout",
     "output_type": "stream",
     "text": [
      "(569, 30)\n",
      "(569,)\n",
      "训练集数据的形状为： (426, 30)\n",
      "训练集标签的形状为： (426,)\n",
      "测试集数据的形状为： (143, 30)\n",
      "测试集标签的形状为： (143,)\n"
     ]
    }
   ],
   "source": [
    "# 原始数据形状\n",
    "print(cancer_data.shape)   # 569行，30列，(569, 30) 说明有30个特征，569个病例的数据，可以理解为person_id\n",
    "# 原始数据集标签形状\n",
    "print(cancer_target.shape) # 569行，1列 (569,)\n",
    "\n",
    "# # 对数据划分为训练集和测试集\n",
    "from sklearn.model_selection import train_test_split\n",
    "cancer_data_train, cancer_data_test, cancer_target_train, cancer_target_test=train_test_split(cancer_data,cancer_target,test_size=0.25,random_state=10)\n",
    "print('训练集数据的形状为：',cancer_data_train.shape)\n",
    "print('训练集标签的形状为：',cancer_target_train.shape)\n",
    "\n",
    "print('测试集数据的形状为：',cancer_data_test.shape)\n",
    "print('测试集标签的形状为：',cancer_target_test.shape)"
   ]
  },
  {
   "cell_type": "code",
   "execution_count": 23,
   "metadata": {},
   "outputs": [
    {
     "name": "stdout",
     "output_type": "stream",
     "text": [
      "0.0\n",
      "0.0\n",
      "4254.0\n",
      "1.0000000000000002\n"
     ]
    }
   ],
   "source": [
    "import numpy as np\n",
    "from sklearn.preprocessing import MinMaxScaler\n",
    "# 生成规则 Scaler\n",
    "Scaler=MinMaxScaler().fit(cancer_data_train)\n",
    "##将规则应用于训练集\n",
    "cancer_trainScaler=Scaler.transform(cancer_data_train)\n",
    "##将规则应用于测试集\n",
    "cancer_testScaler=Scaler.transform(cancer_data_test)\n",
    "# 离差标准化前训练集数据的最小值\n",
    "print(np.min(cancer_data_train))\n",
    "# 离差标准化后训练集数据的最小值\n",
    "print(np.min(cancer_trainScaler))\n",
    "# 离差标准化前训练集数据的最大值\n",
    "print(np.max(cancer_data_train))\n",
    "# 离差标准化后训练集数据的最大值\n",
    "print(np.max(cancer_trainScaler))\n"
   ]
  },
  {
   "cell_type": "markdown",
   "metadata": {},
   "source": [
    "为什么要做离差标准化或者标准差标准化？\n",
    "1. 去除量纲\n",
    "2. 为了让算法模型跑的更快"
   ]
  },
  {
   "cell_type": "code",
   "execution_count": null,
   "metadata": {},
   "outputs": [],
   "source": []
  }
 ],
 "metadata": {
  "kernelspec": {
   "display_name": "Python 3",
   "language": "python",
   "name": "python3"
  },
  "language_info": {
   "codemirror_mode": {
    "name": "ipython",
    "version": 3
   },
   "file_extension": ".py",
   "mimetype": "text/x-python",
   "name": "python",
   "nbconvert_exporter": "python",
   "pygments_lexer": "ipython3",
   "version": "3.7.4"
  },
  "varInspector": {
   "cols": {
    "lenName": 16,
    "lenType": 16,
    "lenVar": 40
   },
   "kernels_config": {
    "python": {
     "delete_cmd_postfix": "",
     "delete_cmd_prefix": "del ",
     "library": "var_list.py",
     "varRefreshCmd": "print(var_dic_list())"
    },
    "r": {
     "delete_cmd_postfix": ") ",
     "delete_cmd_prefix": "rm(",
     "library": "var_list.r",
     "varRefreshCmd": "cat(var_dic_list()) "
    }
   },
   "types_to_exclude": [
    "module",
    "function",
    "builtin_function_or_method",
    "instance",
    "_Feature"
   ],
   "window_display": false
  }
 },
 "nbformat": 4,
 "nbformat_minor": 2
}
