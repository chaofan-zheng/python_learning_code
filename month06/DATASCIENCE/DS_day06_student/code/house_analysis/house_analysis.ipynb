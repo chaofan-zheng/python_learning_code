{
 "cells": [
  {
   "cell_type": "markdown",
   "metadata": {},
   "source": [
    "# 二手房源信息数据分析与可视化"
   ]
  },
  {
   "cell_type": "code",
   "execution_count": 32,
   "metadata": {},
   "outputs": [
    {
     "data": {
      "text/html": [
       "<div>\n",
       "<style scoped>\n",
       "    .dataframe tbody tr th:only-of-type {\n",
       "        vertical-align: middle;\n",
       "    }\n",
       "\n",
       "    .dataframe tbody tr th {\n",
       "        vertical-align: top;\n",
       "    }\n",
       "\n",
       "    .dataframe thead th {\n",
       "        text-align: right;\n",
       "    }\n",
       "</style>\n",
       "<table border=\"1\" class=\"dataframe\">\n",
       "  <thead>\n",
       "    <tr style=\"text-align: right;\">\n",
       "      <th></th>\n",
       "      <th>index</th>\n",
       "      <th>title</th>\n",
       "      <th>community</th>\n",
       "      <th>years</th>\n",
       "      <th>housetype</th>\n",
       "      <th>square</th>\n",
       "      <th>floor</th>\n",
       "      <th>taxtype</th>\n",
       "      <th>totalPrice</th>\n",
       "      <th>unitPrice</th>\n",
       "      <th>followInfo</th>\n",
       "    </tr>\n",
       "  </thead>\n",
       "  <tbody>\n",
       "    <tr>\n",
       "      <td>0</td>\n",
       "      <td>0</td>\n",
       "      <td>宝星华庭一层带花园，客厅挑高，通透四居室。房主自荐</td>\n",
       "      <td>宝星国际三期</td>\n",
       "      <td>底层(共22层)2010年建板塔结合</td>\n",
       "      <td>4室1厅</td>\n",
       "      <td>298.79平米</td>\n",
       "      <td>底层(共22层)2010年建板塔结合</td>\n",
       "      <td>距离15号线望京东站680米房本满五年</td>\n",
       "      <td>2598</td>\n",
       "      <td>86951</td>\n",
       "      <td>53人关注 / 共44次带看 / 一年前发布</td>\n",
       "    </tr>\n",
       "    <tr>\n",
       "      <td>1</td>\n",
       "      <td>1</td>\n",
       "      <td>三面采光全明南北朝向 正对小区绿地花园</td>\n",
       "      <td>顶秀青溪</td>\n",
       "      <td>中楼层(共11层)2008年建板塔结合</td>\n",
       "      <td>3室2厅</td>\n",
       "      <td>154.62平米</td>\n",
       "      <td>中楼层(共11层)2008年建板塔结合</td>\n",
       "      <td>距离5号线立水桥站1170米房本满两年随时看房</td>\n",
       "      <td>1000</td>\n",
       "      <td>64675</td>\n",
       "      <td>323人关注 / 共579次带看 / 一年前发布</td>\n",
       "    </tr>\n",
       "    <tr>\n",
       "      <td>2</td>\n",
       "      <td>2</td>\n",
       "      <td>沁园公寓 三居室 距离苏州街地铁站383米</td>\n",
       "      <td>沁园公寓</td>\n",
       "      <td>低楼层(共24层)1999年建塔楼</td>\n",
       "      <td>3室2厅</td>\n",
       "      <td>177.36平米</td>\n",
       "      <td>低楼层(共24层)1999年建塔楼</td>\n",
       "      <td>距离10号线苏州街站383米房本满五年</td>\n",
       "      <td>1200</td>\n",
       "      <td>67659</td>\n",
       "      <td>185人关注 / 共108次带看 / 一年前发布</td>\n",
       "    </tr>\n",
       "    <tr>\n",
       "      <td>3</td>\n",
       "      <td>3</td>\n",
       "      <td>金星园东南向户型，四居室设计，中间楼层</td>\n",
       "      <td>金星园</td>\n",
       "      <td>中楼层(共28层)2007年建塔楼</td>\n",
       "      <td>4室2厅</td>\n",
       "      <td>245.52平米</td>\n",
       "      <td>中楼层(共28层)2007年建塔楼</td>\n",
       "      <td>距离机场线三元桥站1153米房本满五年</td>\n",
       "      <td>1650</td>\n",
       "      <td>67205</td>\n",
       "      <td>157人关注 / 共35次带看 / 一年前发布</td>\n",
       "    </tr>\n",
       "    <tr>\n",
       "      <td>4</td>\n",
       "      <td>4</td>\n",
       "      <td>龙湾别墅 一期独栋 满五年 带下沉式庭院，精装</td>\n",
       "      <td>龙湾别墅</td>\n",
       "      <td>地下室(共3层)2006年建</td>\n",
       "      <td>3室3厅</td>\n",
       "      <td>351.48平米</td>\n",
       "      <td>地下室(共3层)2006年建</td>\n",
       "      <td>房本满五年</td>\n",
       "      <td>2400</td>\n",
       "      <td>68283</td>\n",
       "      <td>120人关注 / 共42次带看 / 一年前发布</td>\n",
       "    </tr>\n",
       "    <tr>\n",
       "      <td>5</td>\n",
       "      <td>5</td>\n",
       "      <td>长椿街★满五年★距离地铁259米</td>\n",
       "      <td>广信嘉园</td>\n",
       "      <td>低楼层(共22层)2002年建塔楼</td>\n",
       "      <td>3室1厅</td>\n",
       "      <td>130.03平米</td>\n",
       "      <td>低楼层(共22层)2002年建塔楼</td>\n",
       "      <td>距离7号线广安门内站397米房本满五年</td>\n",
       "      <td>1160</td>\n",
       "      <td>89211</td>\n",
       "      <td>376人关注 / 共79次带看 / 一年前发布</td>\n",
       "    </tr>\n",
       "    <tr>\n",
       "      <td>6</td>\n",
       "      <td>6</td>\n",
       "      <td>独栋别墅，小区花园好，四环内位置好</td>\n",
       "      <td>CBD国际高尔夫别墅</td>\n",
       "      <td>地下室(共2层)2006年建</td>\n",
       "      <td>5室2厅</td>\n",
       "      <td>396.82平米</td>\n",
       "      <td>地下室(共2层)2006年建</td>\n",
       "      <td>房本满五年</td>\n",
       "      <td>2800</td>\n",
       "      <td>70561</td>\n",
       "      <td>45人关注 / 共24次带看 / 一年前发布</td>\n",
       "    </tr>\n",
       "    <tr>\n",
       "      <td>7</td>\n",
       "      <td>7</td>\n",
       "      <td>御园平层 两卧客厅朝南 精装修 采光好 送车库房主自荐</td>\n",
       "      <td>御园</td>\n",
       "      <td>低楼层(共3层)2008年建</td>\n",
       "      <td>4室2厅</td>\n",
       "      <td>363.58平米</td>\n",
       "      <td>低楼层(共3层)2008年建</td>\n",
       "      <td>房本满两年</td>\n",
       "      <td>3900</td>\n",
       "      <td>107267</td>\n",
       "      <td>146人关注 / 共48次带看 / 一年前发布</td>\n",
       "    </tr>\n",
       "    <tr>\n",
       "      <td>8</td>\n",
       "      <td>8</td>\n",
       "      <td>华尔街观典 观湖大宅 南北通透 看房有钥匙房主自荐</td>\n",
       "      <td>华尔街观典</td>\n",
       "      <td>中楼层(共26层)2007年建板塔结合</td>\n",
       "      <td>5室2厅</td>\n",
       "      <td>439.18平米</td>\n",
       "      <td>中楼层(共26层)2007年建板塔结合</td>\n",
       "      <td>距离10号线莲花桥站1143米房本满五年随时看房</td>\n",
       "      <td>2628</td>\n",
       "      <td>59839</td>\n",
       "      <td>123人关注 / 共74次带看 / 一年前发布</td>\n",
       "    </tr>\n",
       "    <tr>\n",
       "      <td>9</td>\n",
       "      <td>9</td>\n",
       "      <td>怡升园 4室2厅 1950万房主自荐</td>\n",
       "      <td>怡升园</td>\n",
       "      <td>中楼层(共14层)2000年建板塔结合</td>\n",
       "      <td>4室2厅</td>\n",
       "      <td>256.11平米</td>\n",
       "      <td>中楼层(共14层)2000年建板塔结合</td>\n",
       "      <td>距离10号线知春里站887米房本满五年</td>\n",
       "      <td>1950</td>\n",
       "      <td>76140</td>\n",
       "      <td>98人关注 / 共40次带看 / 一年前发布</td>\n",
       "    </tr>\n",
       "    <tr>\n",
       "      <td>10</td>\n",
       "      <td>10</td>\n",
       "      <td>贵宾楼四居 挑高3.3米 仅交契税 保养好 赠送车位</td>\n",
       "      <td>棕榈泉国际公寓</td>\n",
       "      <td>底层(共30层)2003年建板楼</td>\n",
       "      <td>4室2厅</td>\n",
       "      <td>332.26平米</td>\n",
       "      <td>底层(共30层)2003年建板楼</td>\n",
       "      <td>距离14号线(东段)朝阳公园站369米房本满两年</td>\n",
       "      <td>2990</td>\n",
       "      <td>89990</td>\n",
       "      <td>205人关注 / 共28次带看 / 一年前发布</td>\n",
       "    </tr>\n",
       "    <tr>\n",
       "      <td>11</td>\n",
       "      <td>11</td>\n",
       "      <td>田村半壁店 南北通透大三居 户型方正 出行购物便利</td>\n",
       "      <td>田村33号院</td>\n",
       "      <td>顶层(共6层)1999年建塔楼</td>\n",
       "      <td>3室1厅</td>\n",
       "      <td>134.1平米</td>\n",
       "      <td>顶层(共6层)1999年建塔楼</td>\n",
       "      <td>房本满五年</td>\n",
       "      <td>690</td>\n",
       "      <td>51455</td>\n",
       "      <td>168人关注 / 共11次带看 / 一年前发布</td>\n",
       "    </tr>\n",
       "    <tr>\n",
       "      <td>12</td>\n",
       "      <td>12</td>\n",
       "      <td>望京新城，精装四居室，拎包入住，白家庄房主自荐</td>\n",
       "      <td>望京新城</td>\n",
       "      <td>低楼层(共26层)1998年建塔楼</td>\n",
       "      <td>4室1厅</td>\n",
       "      <td>132平米</td>\n",
       "      <td>低楼层(共26层)1998年建塔楼</td>\n",
       "      <td>距离14号线(东段)阜通站480米房本满两年</td>\n",
       "      <td>800</td>\n",
       "      <td>60607</td>\n",
       "      <td>494人关注 / 共117次带看 / 一年前发布</td>\n",
       "    </tr>\n",
       "    <tr>\n",
       "      <td>13</td>\n",
       "      <td>13</td>\n",
       "      <td>世桥国贸 西南向 高层观景大三居 满五年 业主诚意出售</td>\n",
       "      <td>世桥国贸</td>\n",
       "      <td>高楼层(共22层)2003年建塔楼</td>\n",
       "      <td>3室1厅</td>\n",
       "      <td>170.3平米</td>\n",
       "      <td>高楼层(共22层)2003年建塔楼</td>\n",
       "      <td>距离10号线双井站865米房本满五年</td>\n",
       "      <td>1490</td>\n",
       "      <td>87493</td>\n",
       "      <td>54人关注 / 共74次带看 / 一年前发布</td>\n",
       "    </tr>\n",
       "    <tr>\n",
       "      <td>14</td>\n",
       "      <td>14</td>\n",
       "      <td>九台庄园 独栋别墅 北五环品质住宅区 带2亩地院子</td>\n",
       "      <td>九台庄园</td>\n",
       "      <td>3层1999年建</td>\n",
       "      <td>2室3厅</td>\n",
       "      <td>359.84平米</td>\n",
       "      <td>3层1999年建</td>\n",
       "      <td>房本满五年</td>\n",
       "      <td>3600</td>\n",
       "      <td>100045</td>\n",
       "      <td>26人关注 / 共3次带看 / 一年前发布</td>\n",
       "    </tr>\n",
       "    <tr>\n",
       "      <td>15</td>\n",
       "      <td>15</td>\n",
       "      <td>西南大客厅两居 视野好直观鸟巢 双地铁交汇 可改三居房主自荐</td>\n",
       "      <td>安慧北里逸园</td>\n",
       "      <td>中楼层(共26层)1998年建塔楼</td>\n",
       "      <td>2室1厅</td>\n",
       "      <td>102.27平米</td>\n",
       "      <td>中楼层(共26层)1998年建塔楼</td>\n",
       "      <td>距离15号线安立路站591米房本满五年随时看房</td>\n",
       "      <td>650</td>\n",
       "      <td>63558</td>\n",
       "      <td>243人关注 / 共8次带看 / 一年前发布</td>\n",
       "    </tr>\n",
       "    <tr>\n",
       "      <td>16</td>\n",
       "      <td>16</td>\n",
       "      <td>峻峰华亭高楼层视野好采光棒已满五年</td>\n",
       "      <td>峻峰华亭</td>\n",
       "      <td>中楼层(共11层)2004年建塔楼</td>\n",
       "      <td>4室0厅</td>\n",
       "      <td>161.53平米</td>\n",
       "      <td>中楼层(共11层)2004年建塔楼</td>\n",
       "      <td>距离8号线奥体中心站990米房本满五年随时看房</td>\n",
       "      <td>720</td>\n",
       "      <td>44574</td>\n",
       "      <td>313人关注 / 共150次带看 / 一年前发布</td>\n",
       "    </tr>\n",
       "    <tr>\n",
       "      <td>17</td>\n",
       "      <td>17</td>\n",
       "      <td>金台路地铁，摩码大厦，东向，2003年小区</td>\n",
       "      <td>摩码大厦</td>\n",
       "      <td>低楼层(共20层)2003年建塔楼</td>\n",
       "      <td>1室0厅</td>\n",
       "      <td>98.75平米</td>\n",
       "      <td>低楼层(共20层)2003年建塔楼</td>\n",
       "      <td>距离6号线金台路站389米房本满五年</td>\n",
       "      <td>700</td>\n",
       "      <td>70887</td>\n",
       "      <td>9人关注 / 共7次带看 / 一年前发布</td>\n",
       "    </tr>\n",
       "    <tr>\n",
       "      <td>18</td>\n",
       "      <td>18</td>\n",
       "      <td>博龙家园 满五年 南北两居室 小区环境优美房主自荐</td>\n",
       "      <td>博龙家园</td>\n",
       "      <td>中楼层(共19层)2004年建板塔结合</td>\n",
       "      <td>2室2厅</td>\n",
       "      <td>112.19平米</td>\n",
       "      <td>中楼层(共19层)2004年建板塔结合</td>\n",
       "      <td>房本满五年</td>\n",
       "      <td>730</td>\n",
       "      <td>65069</td>\n",
       "      <td>151人关注 / 共158次带看 / 一年前发布</td>\n",
       "    </tr>\n",
       "    <tr>\n",
       "      <td>19</td>\n",
       "      <td>19</td>\n",
       "      <td>清芷园南北通透四居有花园诚心出售</td>\n",
       "      <td>清芷园</td>\n",
       "      <td>底层(共17层)2000年建板塔结合</td>\n",
       "      <td>4室2厅</td>\n",
       "      <td>181.16平米</td>\n",
       "      <td>底层(共17层)2000年建板塔结合</td>\n",
       "      <td>距离4号线陶然亭站906米房本满两年随时看房</td>\n",
       "      <td>1350</td>\n",
       "      <td>74520</td>\n",
       "      <td>211人关注 / 共376次带看 / 一年前发布</td>\n",
       "    </tr>\n",
       "  </tbody>\n",
       "</table>\n",
       "</div>"
      ],
      "text/plain": [
       "    index                           title   community                years  \\\n",
       "0       0       宝星华庭一层带花园，客厅挑高，通透四居室。房主自荐      宝星国际三期   底层(共22层)2010年建板塔结合   \n",
       "1       1             三面采光全明南北朝向 正对小区绿地花园        顶秀青溪  中楼层(共11层)2008年建板塔结合   \n",
       "2       2           沁园公寓 三居室 距离苏州街地铁站383米        沁园公寓    低楼层(共24层)1999年建塔楼   \n",
       "3       3             金星园东南向户型，四居室设计，中间楼层         金星园    中楼层(共28层)2007年建塔楼   \n",
       "4       4         龙湾别墅 一期独栋 满五年 带下沉式庭院，精装        龙湾别墅       地下室(共3层)2006年建   \n",
       "5       5                长椿街★满五年★距离地铁259米        广信嘉园    低楼层(共22层)2002年建塔楼   \n",
       "6       6               独栋别墅，小区花园好，四环内位置好  CBD国际高尔夫别墅       地下室(共2层)2006年建   \n",
       "7       7     御园平层 两卧客厅朝南 精装修 采光好 送车库房主自荐          御园       低楼层(共3层)2008年建   \n",
       "8       8       华尔街观典 观湖大宅 南北通透 看房有钥匙房主自荐       华尔街观典  中楼层(共26层)2007年建板塔结合   \n",
       "9       9              怡升园 4室2厅 1950万房主自荐         怡升园  中楼层(共14层)2000年建板塔结合   \n",
       "10     10      贵宾楼四居 挑高3.3米 仅交契税 保养好 赠送车位     棕榈泉国际公寓     底层(共30层)2003年建板楼   \n",
       "11     11       田村半壁店 南北通透大三居 户型方正 出行购物便利      田村33号院      顶层(共6层)1999年建塔楼   \n",
       "12     12         望京新城，精装四居室，拎包入住，白家庄房主自荐        望京新城    低楼层(共26层)1998年建塔楼   \n",
       "13     13     世桥国贸 西南向 高层观景大三居 满五年 业主诚意出售        世桥国贸    高楼层(共22层)2003年建塔楼   \n",
       "14     14       九台庄园 独栋别墅 北五环品质住宅区 带2亩地院子        九台庄园             3层1999年建   \n",
       "15     15  西南大客厅两居 视野好直观鸟巢 双地铁交汇 可改三居房主自荐      安慧北里逸园    中楼层(共26层)1998年建塔楼   \n",
       "16     16               峻峰华亭高楼层视野好采光棒已满五年        峻峰华亭    中楼层(共11层)2004年建塔楼   \n",
       "17     17           金台路地铁，摩码大厦，东向，2003年小区        摩码大厦    低楼层(共20层)2003年建塔楼   \n",
       "18     18       博龙家园 满五年 南北两居室 小区环境优美房主自荐        博龙家园  中楼层(共19层)2004年建板塔结合   \n",
       "19     19                清芷园南北通透四居有花园诚心出售         清芷园   底层(共17层)2000年建板塔结合   \n",
       "\n",
       "   housetype    square                floor                   taxtype  \\\n",
       "0       4室1厅  298.79平米   底层(共22层)2010年建板塔结合       距离15号线望京东站680米房本满五年   \n",
       "1       3室2厅  154.62平米  中楼层(共11层)2008年建板塔结合   距离5号线立水桥站1170米房本满两年随时看房   \n",
       "2       3室2厅  177.36平米    低楼层(共24层)1999年建塔楼       距离10号线苏州街站383米房本满五年   \n",
       "3       4室2厅  245.52平米    中楼层(共28层)2007年建塔楼       距离机场线三元桥站1153米房本满五年   \n",
       "4       3室3厅  351.48平米       地下室(共3层)2006年建                     房本满五年   \n",
       "5       3室1厅  130.03平米    低楼层(共22层)2002年建塔楼       距离7号线广安门内站397米房本满五年   \n",
       "6       5室2厅  396.82平米       地下室(共2层)2006年建                     房本满五年   \n",
       "7       4室2厅  363.58平米       低楼层(共3层)2008年建                     房本满两年   \n",
       "8       5室2厅  439.18平米  中楼层(共26层)2007年建板塔结合  距离10号线莲花桥站1143米房本满五年随时看房   \n",
       "9       4室2厅  256.11平米  中楼层(共14层)2000年建板塔结合       距离10号线知春里站887米房本满五年   \n",
       "10      4室2厅  332.26平米     底层(共30层)2003年建板楼  距离14号线(东段)朝阳公园站369米房本满两年   \n",
       "11      3室1厅   134.1平米      顶层(共6层)1999年建塔楼                     房本满五年   \n",
       "12      4室1厅     132平米    低楼层(共26层)1998年建塔楼    距离14号线(东段)阜通站480米房本满两年   \n",
       "13      3室1厅   170.3平米    高楼层(共22层)2003年建塔楼        距离10号线双井站865米房本满五年   \n",
       "14      2室3厅  359.84平米             3层1999年建                     房本满五年   \n",
       "15      2室1厅  102.27平米    中楼层(共26层)1998年建塔楼   距离15号线安立路站591米房本满五年随时看房   \n",
       "16      4室0厅  161.53平米    中楼层(共11层)2004年建塔楼   距离8号线奥体中心站990米房本满五年随时看房   \n",
       "17      1室0厅   98.75平米    低楼层(共20层)2003年建塔楼        距离6号线金台路站389米房本满五年   \n",
       "18      2室2厅  112.19平米  中楼层(共19层)2004年建板塔结合                     房本满五年   \n",
       "19      4室2厅  181.16平米   底层(共17层)2000年建板塔结合    距离4号线陶然亭站906米房本满两年随时看房   \n",
       "\n",
       "    totalPrice  unitPrice                followInfo  \n",
       "0         2598      86951    53人关注 / 共44次带看 / 一年前发布  \n",
       "1         1000      64675  323人关注 / 共579次带看 / 一年前发布  \n",
       "2         1200      67659  185人关注 / 共108次带看 / 一年前发布  \n",
       "3         1650      67205   157人关注 / 共35次带看 / 一年前发布  \n",
       "4         2400      68283   120人关注 / 共42次带看 / 一年前发布  \n",
       "5         1160      89211   376人关注 / 共79次带看 / 一年前发布  \n",
       "6         2800      70561    45人关注 / 共24次带看 / 一年前发布  \n",
       "7         3900     107267   146人关注 / 共48次带看 / 一年前发布  \n",
       "8         2628      59839   123人关注 / 共74次带看 / 一年前发布  \n",
       "9         1950      76140    98人关注 / 共40次带看 / 一年前发布  \n",
       "10        2990      89990   205人关注 / 共28次带看 / 一年前发布  \n",
       "11         690      51455   168人关注 / 共11次带看 / 一年前发布  \n",
       "12         800      60607  494人关注 / 共117次带看 / 一年前发布  \n",
       "13        1490      87493    54人关注 / 共74次带看 / 一年前发布  \n",
       "14        3600     100045     26人关注 / 共3次带看 / 一年前发布  \n",
       "15         650      63558    243人关注 / 共8次带看 / 一年前发布  \n",
       "16         720      44574  313人关注 / 共150次带看 / 一年前发布  \n",
       "17         700      70887      9人关注 / 共7次带看 / 一年前发布  \n",
       "18         730      65069  151人关注 / 共158次带看 / 一年前发布  \n",
       "19        1350      74520  211人关注 / 共376次带看 / 一年前发布  "
      ]
     },
     "execution_count": 32,
     "metadata": {},
     "output_type": "execute_result"
    }
   ],
   "source": [
    "# 导入模块\n",
    "import numpy as np\n",
    "import pandas as pd\n",
    "import matplotlib.pyplot as plt\n",
    "\n",
    "# 设置使中文显示完整\n",
    "plt.rcParams['font.sans-serif']=['SimHei']\n",
    "plt.rcParams['axes.unicode_minus']=False\n",
    "\n",
    "#所有房源信息\n",
    "house=pd.read_csv('house.csv')\n",
    "house.head(20)"
   ]
  },
  {
   "cell_type": "markdown",
   "metadata": {},
   "source": [
    "## 数据描述性分析"
   ]
  },
  {
   "cell_type": "code",
   "execution_count": 33,
   "metadata": {},
   "outputs": [
    {
     "name": "stdout",
     "output_type": "stream",
     "text": [
      "<class 'pandas.core.frame.DataFrame'>\n",
      "RangeIndex: 16108 entries, 0 to 16107\n",
      "Data columns (total 11 columns):\n",
      "index         16108 non-null int64\n",
      "title         16108 non-null object\n",
      "community     16108 non-null object\n",
      "years         16106 non-null object\n",
      "housetype     16108 non-null object\n",
      "square        16108 non-null object\n",
      "floor         16106 non-null object\n",
      "taxtype       15361 non-null object\n",
      "totalPrice    16108 non-null int64\n",
      "unitPrice     16108 non-null int64\n",
      "followInfo    16108 non-null object\n",
      "dtypes: int64(3), object(8)\n",
      "memory usage: 1.4+ MB\n"
     ]
    }
   ],
   "source": [
    "house.info()"
   ]
  },
  {
   "cell_type": "code",
   "execution_count": 34,
   "metadata": {},
   "outputs": [
    {
     "data": {
      "text/html": [
       "<div>\n",
       "<style scoped>\n",
       "    .dataframe tbody tr th:only-of-type {\n",
       "        vertical-align: middle;\n",
       "    }\n",
       "\n",
       "    .dataframe tbody tr th {\n",
       "        vertical-align: top;\n",
       "    }\n",
       "\n",
       "    .dataframe thead th {\n",
       "        text-align: right;\n",
       "    }\n",
       "</style>\n",
       "<table border=\"1\" class=\"dataframe\">\n",
       "  <thead>\n",
       "    <tr style=\"text-align: right;\">\n",
       "      <th></th>\n",
       "      <th>index</th>\n",
       "      <th>id</th>\n",
       "      <th>community</th>\n",
       "      <th>district</th>\n",
       "      <th>bizcircle</th>\n",
       "      <th>tagList</th>\n",
       "      <th>onsale</th>\n",
       "    </tr>\n",
       "  </thead>\n",
       "  <tbody>\n",
       "    <tr>\n",
       "      <td>0</td>\n",
       "      <td>0</td>\n",
       "      <td>1111000004310</td>\n",
       "      <td>什坊院甲3号院</td>\n",
       "      <td>海淀</td>\n",
       "      <td>田村</td>\n",
       "      <td>NaN</td>\n",
       "      <td>0</td>\n",
       "    </tr>\n",
       "    <tr>\n",
       "      <td>1</td>\n",
       "      <td>1</td>\n",
       "      <td>1111027373682</td>\n",
       "      <td>大慧寺6号院</td>\n",
       "      <td>海淀</td>\n",
       "      <td>白石桥</td>\n",
       "      <td>NaN</td>\n",
       "      <td>2</td>\n",
       "    </tr>\n",
       "    <tr>\n",
       "      <td>2</td>\n",
       "      <td>2</td>\n",
       "      <td>1111027373683</td>\n",
       "      <td>东花市北里东区</td>\n",
       "      <td>东城</td>\n",
       "      <td>东花市</td>\n",
       "      <td>近地铁1号线王府井站</td>\n",
       "      <td>0</td>\n",
       "    </tr>\n",
       "    <tr>\n",
       "      <td>3</td>\n",
       "      <td>3</td>\n",
       "      <td>1111027373684</td>\n",
       "      <td>东花市北里西区</td>\n",
       "      <td>东城</td>\n",
       "      <td>东花市</td>\n",
       "      <td>近地铁7号线广渠门内站</td>\n",
       "      <td>7</td>\n",
       "    </tr>\n",
       "    <tr>\n",
       "      <td>4</td>\n",
       "      <td>4</td>\n",
       "      <td>1111027373685</td>\n",
       "      <td>东花市北里中区</td>\n",
       "      <td>东城</td>\n",
       "      <td>东花市</td>\n",
       "      <td>近地铁2号线朝阳门站</td>\n",
       "      <td>9</td>\n",
       "    </tr>\n",
       "  </tbody>\n",
       "</table>\n",
       "</div>"
      ],
      "text/plain": [
       "   index             id community district bizcircle      tagList  onsale\n",
       "0      0  1111000004310   什坊院甲3号院       海淀        田村          NaN       0\n",
       "1      1  1111027373682    大慧寺6号院       海淀       白石桥          NaN       2\n",
       "2      2  1111027373683   东花市北里东区       东城       东花市   近地铁1号线王府井站       0\n",
       "3      3  1111027373684   东花市北里西区       东城       东花市  近地铁7号线广渠门内站       7\n",
       "4      4  1111027373685   东花市北里中区       东城       东花市   近地铁2号线朝阳门站       9"
      ]
     },
     "execution_count": 34,
     "metadata": {},
     "output_type": "execute_result"
    }
   ],
   "source": [
    "# 所有小区信息\n",
    "community=pd.read_csv('community_describe.csv')\n",
    "community.head()"
   ]
  },
  {
   "cell_type": "code",
   "execution_count": 35,
   "metadata": {},
   "outputs": [
    {
     "data": {
      "text/html": [
       "<div>\n",
       "<style scoped>\n",
       "    .dataframe tbody tr th:only-of-type {\n",
       "        vertical-align: middle;\n",
       "    }\n",
       "\n",
       "    .dataframe tbody tr th {\n",
       "        vertical-align: top;\n",
       "    }\n",
       "\n",
       "    .dataframe thead th {\n",
       "        text-align: right;\n",
       "    }\n",
       "</style>\n",
       "<table border=\"1\" class=\"dataframe\">\n",
       "  <thead>\n",
       "    <tr style=\"text-align: right;\">\n",
       "      <th></th>\n",
       "      <th>index_x</th>\n",
       "      <th>title</th>\n",
       "      <th>community</th>\n",
       "      <th>years</th>\n",
       "      <th>housetype</th>\n",
       "      <th>square</th>\n",
       "      <th>floor</th>\n",
       "      <th>taxtype</th>\n",
       "      <th>totalPrice</th>\n",
       "      <th>unitPrice</th>\n",
       "      <th>followInfo</th>\n",
       "      <th>index_y</th>\n",
       "      <th>id</th>\n",
       "      <th>district</th>\n",
       "      <th>bizcircle</th>\n",
       "      <th>tagList</th>\n",
       "      <th>onsale</th>\n",
       "    </tr>\n",
       "  </thead>\n",
       "  <tbody>\n",
       "    <tr>\n",
       "      <td>0</td>\n",
       "      <td>0</td>\n",
       "      <td>宝星华庭一层带花园，客厅挑高，通透四居室。房主自荐</td>\n",
       "      <td>宝星国际三期</td>\n",
       "      <td>底层(共22层)2010年建板塔结合</td>\n",
       "      <td>4室1厅</td>\n",
       "      <td>298.79平米</td>\n",
       "      <td>底层(共22层)2010年建板塔结合</td>\n",
       "      <td>距离15号线望京东站680米房本满五年</td>\n",
       "      <td>2598</td>\n",
       "      <td>86951</td>\n",
       "      <td>53人关注 / 共44次带看 / 一年前发布</td>\n",
       "      <td>1535</td>\n",
       "      <td>1111027376204</td>\n",
       "      <td>朝阳</td>\n",
       "      <td>望京</td>\n",
       "      <td>近地铁15号线望京东站</td>\n",
       "      <td>7</td>\n",
       "    </tr>\n",
       "  </tbody>\n",
       "</table>\n",
       "</div>"
      ],
      "text/plain": [
       "   index_x                      title community               years housetype  \\\n",
       "0        0  宝星华庭一层带花园，客厅挑高，通透四居室。房主自荐    宝星国际三期  底层(共22层)2010年建板塔结合      4室1厅   \n",
       "\n",
       "     square               floor              taxtype  totalPrice  unitPrice  \\\n",
       "0  298.79平米  底层(共22层)2010年建板塔结合  距离15号线望京东站680米房本满五年        2598      86951   \n",
       "\n",
       "               followInfo  index_y             id district bizcircle  \\\n",
       "0  53人关注 / 共44次带看 / 一年前发布     1535  1111027376204       朝阳        望京   \n",
       "\n",
       "       tagList  onsale  \n",
       "0  近地铁15号线望京东站       7  "
      ]
     },
     "execution_count": 35,
     "metadata": {},
     "output_type": "execute_result"
    }
   ],
   "source": [
    "# 合并小区信息和房源信息表，可以获得房源更详细的地理位置\n",
    "house_detail=pd.merge(house,community,on='community')\n",
    "# 打印数据\n",
    "house_detail.head(1)\n",
    "# len(house_detail)"
   ]
  },
  {
   "cell_type": "markdown",
   "metadata": {},
   "source": [
    "## 数值型数据描述"
   ]
  },
  {
   "cell_type": "code",
   "execution_count": 36,
   "metadata": {},
   "outputs": [
    {
     "data": {
      "text/html": [
       "<div>\n",
       "<style scoped>\n",
       "    .dataframe tbody tr th:only-of-type {\n",
       "        vertical-align: middle;\n",
       "    }\n",
       "\n",
       "    .dataframe tbody tr th {\n",
       "        vertical-align: top;\n",
       "    }\n",
       "\n",
       "    .dataframe thead th {\n",
       "        text-align: right;\n",
       "    }\n",
       "</style>\n",
       "<table border=\"1\" class=\"dataframe\">\n",
       "  <thead>\n",
       "    <tr style=\"text-align: right;\">\n",
       "      <th></th>\n",
       "      <th>index</th>\n",
       "      <th>totalPrice</th>\n",
       "      <th>unitPrice</th>\n",
       "    </tr>\n",
       "  </thead>\n",
       "  <tbody>\n",
       "    <tr>\n",
       "      <td>count</td>\n",
       "      <td>16108.000000</td>\n",
       "      <td>16108.000000</td>\n",
       "      <td>16108.000000</td>\n",
       "    </tr>\n",
       "    <tr>\n",
       "      <td>mean</td>\n",
       "      <td>8053.500000</td>\n",
       "      <td>747.983735</td>\n",
       "      <td>77656.823814</td>\n",
       "    </tr>\n",
       "    <tr>\n",
       "      <td>std</td>\n",
       "      <td>4650.123403</td>\n",
       "      <td>536.202306</td>\n",
       "      <td>23616.114546</td>\n",
       "    </tr>\n",
       "    <tr>\n",
       "      <td>min</td>\n",
       "      <td>0.000000</td>\n",
       "      <td>15.000000</td>\n",
       "      <td>2539.000000</td>\n",
       "    </tr>\n",
       "    <tr>\n",
       "      <td>25%</td>\n",
       "      <td>4026.750000</td>\n",
       "      <td>439.000000</td>\n",
       "      <td>60449.500000</td>\n",
       "    </tr>\n",
       "    <tr>\n",
       "      <td>50%</td>\n",
       "      <td>8053.500000</td>\n",
       "      <td>600.000000</td>\n",
       "      <td>75094.000000</td>\n",
       "    </tr>\n",
       "    <tr>\n",
       "      <td>75%</td>\n",
       "      <td>12080.250000</td>\n",
       "      <td>870.000000</td>\n",
       "      <td>91474.250000</td>\n",
       "    </tr>\n",
       "    <tr>\n",
       "      <td>max</td>\n",
       "      <td>16107.000000</td>\n",
       "      <td>12500.000000</td>\n",
       "      <td>159991.000000</td>\n",
       "    </tr>\n",
       "  </tbody>\n",
       "</table>\n",
       "</div>"
      ],
      "text/plain": [
       "              index    totalPrice      unitPrice\n",
       "count  16108.000000  16108.000000   16108.000000\n",
       "mean    8053.500000    747.983735   77656.823814\n",
       "std     4650.123403    536.202306   23616.114546\n",
       "min        0.000000     15.000000    2539.000000\n",
       "25%     4026.750000    439.000000   60449.500000\n",
       "50%     8053.500000    600.000000   75094.000000\n",
       "75%    12080.250000    870.000000   91474.250000\n",
       "max    16107.000000  12500.000000  159991.000000"
      ]
     },
     "execution_count": 36,
     "metadata": {},
     "output_type": "execute_result"
    }
   ],
   "source": [
    "house.describe()"
   ]
  },
  {
   "cell_type": "markdown",
   "metadata": {},
   "source": [
    "## 数据预处理1：将数据从字符串提取出来"
   ]
  },
  {
   "cell_type": "code",
   "execution_count": 37,
   "metadata": {},
   "outputs": [],
   "source": [
    "# 将字符串转换成数字\n",
    "def data_ad(select_data,str):\n",
    "    if str in select_data:\n",
    "       return float(select_data[0:select_data.find(str)])\n",
    "    else:\n",
    "       return None\n",
    "\n",
    "# 处理房屋面积数据\n",
    "house['square']=house['square'].apply(data_ad,str='平米')"
   ]
  },
  {
   "cell_type": "code",
   "execution_count": 38,
   "metadata": {},
   "outputs": [
    {
     "data": {
      "text/html": [
       "<div>\n",
       "<style scoped>\n",
       "    .dataframe tbody tr th:only-of-type {\n",
       "        vertical-align: middle;\n",
       "    }\n",
       "\n",
       "    .dataframe tbody tr th {\n",
       "        vertical-align: top;\n",
       "    }\n",
       "\n",
       "    .dataframe thead th {\n",
       "        text-align: right;\n",
       "    }\n",
       "</style>\n",
       "<table border=\"1\" class=\"dataframe\">\n",
       "  <thead>\n",
       "    <tr style=\"text-align: right;\">\n",
       "      <th></th>\n",
       "      <th>index</th>\n",
       "      <th>title</th>\n",
       "      <th>community</th>\n",
       "      <th>years</th>\n",
       "      <th>housetype</th>\n",
       "      <th>square</th>\n",
       "      <th>floor</th>\n",
       "      <th>taxtype</th>\n",
       "      <th>totalPrice</th>\n",
       "      <th>unitPrice</th>\n",
       "      <th>followInfo</th>\n",
       "    </tr>\n",
       "  </thead>\n",
       "  <tbody>\n",
       "    <tr>\n",
       "      <td>0</td>\n",
       "      <td>0</td>\n",
       "      <td>宝星华庭一层带花园，客厅挑高，通透四居室。房主自荐</td>\n",
       "      <td>宝星国际三期</td>\n",
       "      <td>底层(共22层)2010年建板塔结合</td>\n",
       "      <td>4室1厅</td>\n",
       "      <td>298.79</td>\n",
       "      <td>底层(共22层)2010年建板塔结合</td>\n",
       "      <td>距离15号线望京东站680米房本满五年</td>\n",
       "      <td>2598</td>\n",
       "      <td>86951</td>\n",
       "      <td>53人关注 / 共44次带看 / 一年前发布</td>\n",
       "    </tr>\n",
       "  </tbody>\n",
       "</table>\n",
       "</div>"
      ],
      "text/plain": [
       "   index                      title community               years housetype  \\\n",
       "0      0  宝星华庭一层带花园，客厅挑高，通透四居室。房主自荐    宝星国际三期  底层(共22层)2010年建板塔结合      4室1厅   \n",
       "\n",
       "   square               floor              taxtype  totalPrice  unitPrice  \\\n",
       "0  298.79  底层(共22层)2010年建板塔结合  距离15号线望京东站680米房本满五年        2598      86951   \n",
       "\n",
       "               followInfo  \n",
       "0  53人关注 / 共44次带看 / 一年前发布  "
      ]
     },
     "execution_count": 38,
     "metadata": {},
     "output_type": "execute_result"
    }
   ],
   "source": [
    "# 查看数据\n",
    "house.head(1)"
   ]
  },
  {
   "cell_type": "code",
   "execution_count": 39,
   "metadata": {},
   "outputs": [
    {
     "data": {
      "text/plain": [
       "2623.28"
      ]
     },
     "execution_count": 39,
     "metadata": {},
     "output_type": "execute_result"
    }
   ],
   "source": [
    "house['square'].max()"
   ]
  },
  {
   "cell_type": "code",
   "execution_count": 40,
   "metadata": {},
   "outputs": [
    {
     "data": {
      "text/html": [
       "<div>\n",
       "<style scoped>\n",
       "    .dataframe tbody tr th:only-of-type {\n",
       "        vertical-align: middle;\n",
       "    }\n",
       "\n",
       "    .dataframe tbody tr th {\n",
       "        vertical-align: top;\n",
       "    }\n",
       "\n",
       "    .dataframe thead th {\n",
       "        text-align: right;\n",
       "    }\n",
       "</style>\n",
       "<table border=\"1\" class=\"dataframe\">\n",
       "  <thead>\n",
       "    <tr style=\"text-align: right;\">\n",
       "      <th></th>\n",
       "      <th>index</th>\n",
       "      <th>square</th>\n",
       "      <th>totalPrice</th>\n",
       "      <th>unitPrice</th>\n",
       "    </tr>\n",
       "  </thead>\n",
       "  <tbody>\n",
       "    <tr>\n",
       "      <td>count</td>\n",
       "      <td>16108.000000</td>\n",
       "      <td>16058.000000</td>\n",
       "      <td>16108.000000</td>\n",
       "      <td>16108.000000</td>\n",
       "    </tr>\n",
       "    <tr>\n",
       "      <td>mean</td>\n",
       "      <td>8053.500000</td>\n",
       "      <td>95.870368</td>\n",
       "      <td>747.983735</td>\n",
       "      <td>77656.823814</td>\n",
       "    </tr>\n",
       "    <tr>\n",
       "      <td>std</td>\n",
       "      <td>4650.123403</td>\n",
       "      <td>57.622963</td>\n",
       "      <td>536.202306</td>\n",
       "      <td>23616.114546</td>\n",
       "    </tr>\n",
       "    <tr>\n",
       "      <td>min</td>\n",
       "      <td>0.000000</td>\n",
       "      <td>11.760000</td>\n",
       "      <td>15.000000</td>\n",
       "      <td>2539.000000</td>\n",
       "    </tr>\n",
       "    <tr>\n",
       "      <td>25%</td>\n",
       "      <td>4026.750000</td>\n",
       "      <td>61.042500</td>\n",
       "      <td>439.000000</td>\n",
       "      <td>60449.500000</td>\n",
       "    </tr>\n",
       "    <tr>\n",
       "      <td>50%</td>\n",
       "      <td>8053.500000</td>\n",
       "      <td>81.125000</td>\n",
       "      <td>600.000000</td>\n",
       "      <td>75094.000000</td>\n",
       "    </tr>\n",
       "    <tr>\n",
       "      <td>75%</td>\n",
       "      <td>12080.250000</td>\n",
       "      <td>112.695000</td>\n",
       "      <td>870.000000</td>\n",
       "      <td>91474.250000</td>\n",
       "    </tr>\n",
       "    <tr>\n",
       "      <td>max</td>\n",
       "      <td>16107.000000</td>\n",
       "      <td>2623.280000</td>\n",
       "      <td>12500.000000</td>\n",
       "      <td>159991.000000</td>\n",
       "    </tr>\n",
       "  </tbody>\n",
       "</table>\n",
       "</div>"
      ],
      "text/plain": [
       "              index        square    totalPrice      unitPrice\n",
       "count  16108.000000  16058.000000  16108.000000   16108.000000\n",
       "mean    8053.500000     95.870368    747.983735   77656.823814\n",
       "std     4650.123403     57.622963    536.202306   23616.114546\n",
       "min        0.000000     11.760000     15.000000    2539.000000\n",
       "25%     4026.750000     61.042500    439.000000   60449.500000\n",
       "50%     8053.500000     81.125000    600.000000   75094.000000\n",
       "75%    12080.250000    112.695000    870.000000   91474.250000\n",
       "max    16107.000000   2623.280000  12500.000000  159991.000000"
      ]
     },
     "execution_count": 40,
     "metadata": {},
     "output_type": "execute_result"
    }
   ],
   "source": [
    "house.describe()"
   ]
  },
  {
   "cell_type": "markdown",
   "metadata": {},
   "source": [
    "## 户型的种类"
   ]
  },
  {
   "cell_type": "code",
   "execution_count": 41,
   "metadata": {},
   "outputs": [
    {
     "data": {
      "text/plain": [
       "2室1厅     6582\n",
       "3室1厅     2534\n",
       "1室1厅     2472\n",
       "3室2厅     1424\n",
       "2室2厅     1018\n",
       "1室0厅      620\n",
       "4室2厅      496\n",
       "4室1厅      181\n",
       "2房间1卫     100\n",
       "5室2厅       92\n",
       "1房间1卫      87\n",
       "1室2厅       64\n",
       "4室3厅       55\n",
       "3房间1卫      44\n",
       "3室0厅       35\n",
       "2室0厅       34\n",
       "车位         32\n",
       "6室2厅       29\n",
       "5室3厅       22\n",
       "联排别墅       19\n",
       "1房间0卫      16\n",
       "5室1厅       15\n",
       "6室3厅       13\n",
       "独栋别墅       12\n",
       "3室3厅       11\n",
       "叠拼别墅       10\n",
       "4室0厅       10\n",
       "双拼别墅        9\n",
       "4房间2卫       9\n",
       "4房间1卫       6\n",
       "2房间2卫       6\n",
       "6室1厅        5\n",
       "5室4厅        4\n",
       "7室3厅        3\n",
       "3房间2卫       3\n",
       "6室4厅        3\n",
       "5室5厅        3\n",
       "6房间4卫       2\n",
       "7室2厅        2\n",
       "4房间3卫       2\n",
       "2室3厅        2\n",
       "2房间0卫       2\n",
       "5房间3卫       2\n",
       "6房间2卫       2\n",
       "3房间3卫       2\n",
       "9室4厅        2\n",
       "6室0厅        1\n",
       "3室4厅        1\n",
       "6房间3卫       1\n",
       "8室2厅        1\n",
       "8室4厅        1\n",
       "7室0厅        1\n",
       "5室0厅        1\n",
       "7室1厅        1\n",
       "8房间5卫       1\n",
       "2房间3卫       1\n",
       "4室4厅        1\n",
       "5房间2卫       1\n",
       "Name: housetype, dtype: int64"
      ]
     },
     "execution_count": 41,
     "metadata": {},
     "output_type": "execute_result"
    }
   ],
   "source": [
    "house.housetype.value_counts()"
   ]
  },
  {
   "cell_type": "markdown",
   "metadata": {},
   "source": [
    "## 数据预处理2：删除车位信息"
   ]
  },
  {
   "cell_type": "code",
   "execution_count": 43,
   "metadata": {},
   "outputs": [],
   "source": [
    "car=house[house.housetype.str.contains('车位')]\n",
    "# 记录中共有车位\n",
    "car.shape[0]\n",
    "# 删除车位信息\n",
    "house.drop(car.index,inplace=True)\n",
    "# 现在还剩?条记录\n",
    "# car.shape"
   ]
  },
  {
   "cell_type": "code",
   "execution_count": 44,
   "metadata": {},
   "outputs": [
    {
     "data": {
      "text/plain": [
       "32"
      ]
     },
     "execution_count": 44,
     "metadata": {},
     "output_type": "execute_result"
    }
   ],
   "source": [
    "car.shape[0]"
   ]
  },
  {
   "cell_type": "markdown",
   "metadata": {},
   "source": [
    "## 数据分析1：价格最高的5个别墅"
   ]
  },
  {
   "cell_type": "code",
   "execution_count": 45,
   "metadata": {},
   "outputs": [
    {
     "name": "stdout",
     "output_type": "stream",
     "text": [
      "50\n"
     ]
    },
    {
     "data": {
      "text/html": [
       "<div>\n",
       "<style scoped>\n",
       "    .dataframe tbody tr th:only-of-type {\n",
       "        vertical-align: middle;\n",
       "    }\n",
       "\n",
       "    .dataframe tbody tr th {\n",
       "        vertical-align: top;\n",
       "    }\n",
       "\n",
       "    .dataframe thead th {\n",
       "        text-align: right;\n",
       "    }\n",
       "</style>\n",
       "<table border=\"1\" class=\"dataframe\">\n",
       "  <thead>\n",
       "    <tr style=\"text-align: right;\">\n",
       "      <th></th>\n",
       "      <th>index</th>\n",
       "      <th>title</th>\n",
       "      <th>community</th>\n",
       "      <th>years</th>\n",
       "      <th>housetype</th>\n",
       "      <th>square</th>\n",
       "      <th>floor</th>\n",
       "      <th>taxtype</th>\n",
       "      <th>totalPrice</th>\n",
       "      <th>unitPrice</th>\n",
       "      <th>followInfo</th>\n",
       "    </tr>\n",
       "  </thead>\n",
       "  <tbody>\n",
       "    <tr>\n",
       "      <td>8020</td>\n",
       "      <td>8020</td>\n",
       "      <td>香山清琴二期独栋别墅，毛坯房原始户型，花园1200平米</td>\n",
       "      <td>香山清琴</td>\n",
       "      <td>2层2007年建</td>\n",
       "      <td>独栋别墅</td>\n",
       "      <td>NaN</td>\n",
       "      <td>2层2007年建</td>\n",
       "      <td>房本满五年</td>\n",
       "      <td>12500</td>\n",
       "      <td>124681</td>\n",
       "      <td>45人关注 / 共7次带看 / 2个月以前发布</td>\n",
       "    </tr>\n",
       "    <tr>\n",
       "      <td>102</td>\n",
       "      <td>102</td>\n",
       "      <td>千尺独栋 北入户 红顶商人金融界入住社区</td>\n",
       "      <td>龙湖颐和原著</td>\n",
       "      <td>2层2010年建</td>\n",
       "      <td>独栋别墅</td>\n",
       "      <td>NaN</td>\n",
       "      <td>2层2010年建</td>\n",
       "      <td>距离4号线西苑站839米房本满五年</td>\n",
       "      <td>12000</td>\n",
       "      <td>112012</td>\n",
       "      <td>231人关注 / 共26次带看 / 一年前发布</td>\n",
       "    </tr>\n",
       "    <tr>\n",
       "      <td>2729</td>\n",
       "      <td>2729</td>\n",
       "      <td>临湖独栋别墅 花园半亩 观景湖面和绿化 满五年有车库房主自荐</td>\n",
       "      <td>紫玉山庄</td>\n",
       "      <td>3层2000年建</td>\n",
       "      <td>独栋别墅</td>\n",
       "      <td>NaN</td>\n",
       "      <td>3层2000年建</td>\n",
       "      <td>房本满五年</td>\n",
       "      <td>6000</td>\n",
       "      <td>148618</td>\n",
       "      <td>108人关注 / 共16次带看 / 5个月以前发布</td>\n",
       "    </tr>\n",
       "    <tr>\n",
       "      <td>3141</td>\n",
       "      <td>3141</td>\n",
       "      <td>银湖别墅 独栋 望京公园旁 五环里 封闭式社区</td>\n",
       "      <td>银湖别墅</td>\n",
       "      <td>3层1998年建</td>\n",
       "      <td>独栋别墅</td>\n",
       "      <td>NaN</td>\n",
       "      <td>3层1998年建</td>\n",
       "      <td>房本满五年</td>\n",
       "      <td>5000</td>\n",
       "      <td>130348</td>\n",
       "      <td>9人关注 / 共3次带看 / 5个月以前发布</td>\n",
       "    </tr>\n",
       "    <tr>\n",
       "      <td>4112</td>\n",
       "      <td>4112</td>\n",
       "      <td>首排别墅 位置好 全景小区绿化和人工湖 有车库</td>\n",
       "      <td>亚运新新家园朗月园一期</td>\n",
       "      <td>1层2003年建</td>\n",
       "      <td>联排别墅</td>\n",
       "      <td>NaN</td>\n",
       "      <td>1层2003年建</td>\n",
       "      <td>房本满五年</td>\n",
       "      <td>3800</td>\n",
       "      <td>82364</td>\n",
       "      <td>0人关注 / 共4次带看 / 4个月以前发布</td>\n",
       "    </tr>\n",
       "  </tbody>\n",
       "</table>\n",
       "</div>"
      ],
      "text/plain": [
       "      index                           title    community     years housetype  \\\n",
       "8020   8020     香山清琴二期独栋别墅，毛坯房原始户型，花园1200平米         香山清琴  2层2007年建      独栋别墅   \n",
       "102     102            千尺独栋 北入户 红顶商人金融界入住社区       龙湖颐和原著  2层2010年建      独栋别墅   \n",
       "2729   2729  临湖独栋别墅 花园半亩 观景湖面和绿化 满五年有车库房主自荐         紫玉山庄  3层2000年建      独栋别墅   \n",
       "3141   3141         银湖别墅 独栋 望京公园旁 五环里 封闭式社区         银湖别墅  3层1998年建      独栋别墅   \n",
       "4112   4112         首排别墅 位置好 全景小区绿化和人工湖 有车库  亚运新新家园朗月园一期  1层2003年建      联排别墅   \n",
       "\n",
       "      square     floor            taxtype  totalPrice  unitPrice  \\\n",
       "8020     NaN  2层2007年建              房本满五年       12500     124681   \n",
       "102      NaN  2层2010年建  距离4号线西苑站839米房本满五年       12000     112012   \n",
       "2729     NaN  3层2000年建              房本满五年        6000     148618   \n",
       "3141     NaN  3层1998年建              房本满五年        5000     130348   \n",
       "4112     NaN  1层2003年建              房本满五年        3800      82364   \n",
       "\n",
       "                     followInfo  \n",
       "8020    45人关注 / 共7次带看 / 2个月以前发布  \n",
       "102     231人关注 / 共26次带看 / 一年前发布  \n",
       "2729  108人关注 / 共16次带看 / 5个月以前发布  \n",
       "3141     9人关注 / 共3次带看 / 5个月以前发布  \n",
       "4112     0人关注 / 共4次带看 / 4个月以前发布  "
      ]
     },
     "execution_count": 45,
     "metadata": {},
     "output_type": "execute_result"
    }
   ],
   "source": [
    "villa=house[house.housetype.str.contains('别墅')]\n",
    "# 记录中共有别墅?\n",
    "print(villa.shape[0])\n",
    "# 排序\n",
    "villa.sort_values(by='totalPrice',ascending=False).head(5)"
   ]
  },
  {
   "cell_type": "markdown",
   "metadata": {},
   "source": [
    "## 数据预处理3：删除别墅信息"
   ]
  },
  {
   "cell_type": "code",
   "execution_count": 14,
   "metadata": {},
   "outputs": [
    {
     "data": {
      "text/plain": [
       "16026"
      ]
     },
     "execution_count": 14,
     "metadata": {},
     "output_type": "execute_result"
    }
   ],
   "source": [
    "house.drop(villa.index,inplace=True) \n",
    "# 现在还剩下?条记录\n",
    "house.shape[0]"
   ]
  },
  {
   "cell_type": "markdown",
   "metadata": {},
   "source": [
    "## 数据分析2：找出数据中的住房户型分布"
   ]
  },
  {
   "cell_type": "code",
   "execution_count": 15,
   "metadata": {},
   "outputs": [
    {
     "data": {
      "text/plain": [
       "2室1厅     6582\n",
       "3室1厅     2534\n",
       "1室1厅     2472\n",
       "3室2厅     1424\n",
       "2室2厅     1018\n",
       "1室0厅      620\n",
       "4室2厅      496\n",
       "4室1厅      181\n",
       "2房间1卫     100\n",
       "5室2厅       92\n",
       "1房间1卫      87\n",
       "1室2厅       64\n",
       "4室3厅       55\n",
       "3房间1卫      44\n",
       "3室0厅       35\n",
       "2室0厅       34\n",
       "6室2厅       29\n",
       "5室3厅       22\n",
       "1房间0卫      16\n",
       "5室1厅       15\n",
       "6室3厅       13\n",
       "3室3厅       11\n",
       "4室0厅       10\n",
       "4房间2卫       9\n",
       "4房间1卫       6\n",
       "2房间2卫       6\n",
       "6室1厅        5\n",
       "5室4厅        4\n",
       "7室3厅        3\n",
       "3房间2卫       3\n",
       "6室4厅        3\n",
       "5室5厅        3\n",
       "7室2厅        2\n",
       "6房间4卫       2\n",
       "4房间3卫       2\n",
       "2室3厅        2\n",
       "3房间3卫       2\n",
       "6房间2卫       2\n",
       "5房间3卫       2\n",
       "9室4厅        2\n",
       "2房间0卫       2\n",
       "5房间2卫       1\n",
       "8室4厅        1\n",
       "7室0厅        1\n",
       "3室4厅        1\n",
       "8室2厅        1\n",
       "5室0厅        1\n",
       "7室1厅        1\n",
       "6房间3卫       1\n",
       "8房间5卫       1\n",
       "2房间3卫       1\n",
       "4室4厅        1\n",
       "6室0厅        1\n",
       "Name: housetype, dtype: int64"
      ]
     },
     "execution_count": 15,
     "metadata": {},
     "output_type": "execute_result"
    }
   ],
   "source": [
    "# 户型分布\n",
    "house.housetype.value_counts()"
   ]
  },
  {
   "cell_type": "code",
   "execution_count": 16,
   "metadata": {
    "scrolled": true
   },
   "outputs": [
    {
     "data": {
      "text/plain": [
       "<matplotlib.axes._subplots.AxesSubplot at 0x7fea29f02b50>"
      ]
     },
     "execution_count": 16,
     "metadata": {},
     "output_type": "execute_result"
    },
    {
     "data": {
      "image/png": "[encoded data removed]",
      "text/plain": [
       "<Figure size 432x288 with 1 Axes>"
      ]
     },
     "metadata": {
      "needs_background": "light"
     },
     "output_type": "display_data"
    }
   ],
   "source": [
    "# 可视化绘制\n",
    "house_type=house.housetype.value_counts()\n",
    "house_type.head(10).plot(kind='bar',title='户型数量分布',rot=30)\n",
    "# plt.show()"
   ]
  },
  {
   "cell_type": "markdown",
   "metadata": {},
   "source": [
    "## 数据分析3：找出关注人数最多的五套房子"
   ]
  },
  {
   "cell_type": "code",
   "execution_count": 17,
   "metadata": {},
   "outputs": [
    {
     "data": {
      "text/html": [
       "<div>\n",
       "<style scoped>\n",
       "    .dataframe tbody tr th:only-of-type {\n",
       "        vertical-align: middle;\n",
       "    }\n",
       "\n",
       "    .dataframe tbody tr th {\n",
       "        vertical-align: top;\n",
       "    }\n",
       "\n",
       "    .dataframe thead th {\n",
       "        text-align: right;\n",
       "    }\n",
       "</style>\n",
       "<table border=\"1\" class=\"dataframe\">\n",
       "  <thead>\n",
       "    <tr style=\"text-align: right;\">\n",
       "      <th></th>\n",
       "      <th>index</th>\n",
       "      <th>title</th>\n",
       "      <th>community</th>\n",
       "      <th>years</th>\n",
       "      <th>housetype</th>\n",
       "      <th>square</th>\n",
       "      <th>floor</th>\n",
       "      <th>taxtype</th>\n",
       "      <th>totalPrice</th>\n",
       "      <th>unitPrice</th>\n",
       "      <th>followInfo</th>\n",
       "      <th>attention</th>\n",
       "    </tr>\n",
       "  </thead>\n",
       "  <tbody>\n",
       "    <tr>\n",
       "      <td>47</td>\n",
       "      <td>47</td>\n",
       "      <td>弘善家园南向开间，满两年，免增值税</td>\n",
       "      <td>弘善家园</td>\n",
       "      <td>中楼层(共28层)2009年建塔楼</td>\n",
       "      <td>1室0厅</td>\n",
       "      <td>42.64</td>\n",
       "      <td>中楼层(共28层)2009年建塔楼</td>\n",
       "      <td>距离10号线十里河站698米房本满两年随时看房</td>\n",
       "      <td>265</td>\n",
       "      <td>62149</td>\n",
       "      <td>1401人关注 / 共305次带看 / 一年前发布</td>\n",
       "      <td>1401.0</td>\n",
       "    </tr>\n",
       "    <tr>\n",
       "      <td>2313</td>\n",
       "      <td>2313</td>\n",
       "      <td>四惠东 康家园 南向一居室 地铁1号线出行房主自荐</td>\n",
       "      <td>康家园</td>\n",
       "      <td>顶层(共6层)1995年建板楼</td>\n",
       "      <td>1室1厅</td>\n",
       "      <td>41.97</td>\n",
       "      <td>顶层(共6层)1995年建板楼</td>\n",
       "      <td>距离1号线四惠东站974米房本满五年随时看房</td>\n",
       "      <td>262</td>\n",
       "      <td>62426</td>\n",
       "      <td>1005人关注 / 共86次带看 / 6个月以前发布</td>\n",
       "      <td>1005.0</td>\n",
       "    </tr>\n",
       "    <tr>\n",
       "      <td>990</td>\n",
       "      <td>990</td>\n",
       "      <td>远见名苑  东南两居  满五年家庭唯一住房 诚心出售房主自荐</td>\n",
       "      <td>远见名苑</td>\n",
       "      <td>中楼层(共24层)2004年建塔楼</td>\n",
       "      <td>2室1厅</td>\n",
       "      <td>90.14</td>\n",
       "      <td>中楼层(共24层)2004年建塔楼</td>\n",
       "      <td>距离7号线达官营站516米房本满五年</td>\n",
       "      <td>811</td>\n",
       "      <td>89972</td>\n",
       "      <td>979人关注 / 共50次带看 / 8个月以前发布</td>\n",
       "      <td>979.0</td>\n",
       "    </tr>\n",
       "    <tr>\n",
       "      <td>2331</td>\n",
       "      <td>2331</td>\n",
       "      <td>荣丰二期朝南复式无遮挡全天采光房主自荐</td>\n",
       "      <td>荣丰2008</td>\n",
       "      <td>中楼层(共10层)2005年建塔楼</td>\n",
       "      <td>1室1厅</td>\n",
       "      <td>32.54</td>\n",
       "      <td>中楼层(共10层)2005年建塔楼</td>\n",
       "      <td>距离7号线达官营站1028米房本满五年随时看房</td>\n",
       "      <td>400</td>\n",
       "      <td>122926</td>\n",
       "      <td>972人关注 / 共369次带看 / 6个月以前发布</td>\n",
       "      <td>972.0</td>\n",
       "    </tr>\n",
       "    <tr>\n",
       "      <td>915</td>\n",
       "      <td>915</td>\n",
       "      <td>通州万达北苑地铁站 天时名苑 大两居可改3居</td>\n",
       "      <td>天时名苑</td>\n",
       "      <td>顶层(共9层)2009年建板塔结合</td>\n",
       "      <td>2室2厅</td>\n",
       "      <td>121.30</td>\n",
       "      <td>顶层(共9层)2009年建板塔结合</td>\n",
       "      <td>距离八通线通州北苑站602米房本满五年</td>\n",
       "      <td>645</td>\n",
       "      <td>53174</td>\n",
       "      <td>894人关注 / 共228次带看 / 8个月以前发布</td>\n",
       "      <td>894.0</td>\n",
       "    </tr>\n",
       "  </tbody>\n",
       "</table>\n",
       "</div>"
      ],
      "text/plain": [
       "      index                           title community              years  \\\n",
       "47       47               弘善家园南向开间，满两年，免增值税      弘善家园  中楼层(共28层)2009年建塔楼   \n",
       "2313   2313       四惠东 康家园 南向一居室 地铁1号线出行房主自荐       康家园    顶层(共6层)1995年建板楼   \n",
       "990     990  远见名苑  东南两居  满五年家庭唯一住房 诚心出售房主自荐      远见名苑  中楼层(共24层)2004年建塔楼   \n",
       "2331   2331             荣丰二期朝南复式无遮挡全天采光房主自荐    荣丰2008  中楼层(共10层)2005年建塔楼   \n",
       "915     915          通州万达北苑地铁站 天时名苑 大两居可改3居      天时名苑  顶层(共9层)2009年建板塔结合   \n",
       "\n",
       "     housetype  square              floor                  taxtype  \\\n",
       "47        1室0厅   42.64  中楼层(共28层)2009年建塔楼  距离10号线十里河站698米房本满两年随时看房   \n",
       "2313      1室1厅   41.97    顶层(共6层)1995年建板楼   距离1号线四惠东站974米房本满五年随时看房   \n",
       "990       2室1厅   90.14  中楼层(共24层)2004年建塔楼       距离7号线达官营站516米房本满五年   \n",
       "2331      1室1厅   32.54  中楼层(共10层)2005年建塔楼  距离7号线达官营站1028米房本满五年随时看房   \n",
       "915       2室2厅  121.30  顶层(共9层)2009年建板塔结合      距离八通线通州北苑站602米房本满五年   \n",
       "\n",
       "      totalPrice  unitPrice                  followInfo  attention  \n",
       "47           265      62149   1401人关注 / 共305次带看 / 一年前发布     1401.0  \n",
       "2313         262      62426  1005人关注 / 共86次带看 / 6个月以前发布     1005.0  \n",
       "990          811      89972   979人关注 / 共50次带看 / 8个月以前发布      979.0  \n",
       "2331         400     122926  972人关注 / 共369次带看 / 6个月以前发布      972.0  \n",
       "915          645      53174  894人关注 / 共228次带看 / 8个月以前发布      894.0  "
      ]
     },
     "execution_count": 17,
     "metadata": {},
     "output_type": "execute_result"
    }
   ],
   "source": [
    "house['attention']=house['followInfo'].apply(data_ad,str='人关注')\n",
    "house.head(5)\n",
    "data1=house.sort_values(by='attention',ascending=False).head()\n",
    "data1"
   ]
  },
  {
   "cell_type": "markdown",
   "metadata": {},
   "source": [
    "## 数据分析4：户型和关注人数分布"
   ]
  },
  {
   "cell_type": "code",
   "execution_count": 18,
   "metadata": {},
   "outputs": [
    {
     "data": {
      "text/html": [
       "<div>\n",
       "<style scoped>\n",
       "    .dataframe tbody tr th:only-of-type {\n",
       "        vertical-align: middle;\n",
       "    }\n",
       "\n",
       "    .dataframe tbody tr th {\n",
       "        vertical-align: top;\n",
       "    }\n",
       "\n",
       "    .dataframe thead th {\n",
       "        text-align: right;\n",
       "    }\n",
       "</style>\n",
       "<table border=\"1\" class=\"dataframe\">\n",
       "  <thead>\n",
       "    <tr style=\"text-align: right;\">\n",
       "      <th></th>\n",
       "      <th>housetype</th>\n",
       "      <th>attention</th>\n",
       "    </tr>\n",
       "    <tr>\n",
       "      <th>housetype</th>\n",
       "      <th></th>\n",
       "      <th></th>\n",
       "    </tr>\n",
       "  </thead>\n",
       "  <tbody>\n",
       "    <tr>\n",
       "      <td>1室0厅</td>\n",
       "      <td>620</td>\n",
       "      <td>32920.0</td>\n",
       "    </tr>\n",
       "    <tr>\n",
       "      <td>1室1厅</td>\n",
       "      <td>2472</td>\n",
       "      <td>141893.0</td>\n",
       "    </tr>\n",
       "    <tr>\n",
       "      <td>1室2厅</td>\n",
       "      <td>64</td>\n",
       "      <td>2614.0</td>\n",
       "    </tr>\n",
       "    <tr>\n",
       "      <td>1房间1卫</td>\n",
       "      <td>87</td>\n",
       "      <td>2267.0</td>\n",
       "    </tr>\n",
       "    <tr>\n",
       "      <td>2室1厅</td>\n",
       "      <td>6582</td>\n",
       "      <td>394987.0</td>\n",
       "    </tr>\n",
       "    <tr>\n",
       "      <td>2室2厅</td>\n",
       "      <td>1018</td>\n",
       "      <td>49526.0</td>\n",
       "    </tr>\n",
       "    <tr>\n",
       "      <td>2房间1卫</td>\n",
       "      <td>100</td>\n",
       "      <td>3006.0</td>\n",
       "    </tr>\n",
       "    <tr>\n",
       "      <td>3室1厅</td>\n",
       "      <td>2534</td>\n",
       "      <td>162205.0</td>\n",
       "    </tr>\n",
       "    <tr>\n",
       "      <td>3室2厅</td>\n",
       "      <td>1424</td>\n",
       "      <td>81140.0</td>\n",
       "    </tr>\n",
       "    <tr>\n",
       "      <td>4室1厅</td>\n",
       "      <td>181</td>\n",
       "      <td>10667.0</td>\n",
       "    </tr>\n",
       "    <tr>\n",
       "      <td>4室2厅</td>\n",
       "      <td>496</td>\n",
       "      <td>30661.0</td>\n",
       "    </tr>\n",
       "    <tr>\n",
       "      <td>4室3厅</td>\n",
       "      <td>55</td>\n",
       "      <td>2846.0</td>\n",
       "    </tr>\n",
       "    <tr>\n",
       "      <td>5室2厅</td>\n",
       "      <td>92</td>\n",
       "      <td>4703.0</td>\n",
       "    </tr>\n",
       "  </tbody>\n",
       "</table>\n",
       "</div>"
      ],
      "text/plain": [
       "           housetype  attention\n",
       "housetype                      \n",
       "1室0厅             620    32920.0\n",
       "1室1厅            2472   141893.0\n",
       "1室2厅              64     2614.0\n",
       "1房间1卫             87     2267.0\n",
       "2室1厅            6582   394987.0\n",
       "2室2厅            1018    49526.0\n",
       "2房间1卫            100     3006.0\n",
       "3室1厅            2534   162205.0\n",
       "3室2厅            1424    81140.0\n",
       "4室1厅             181    10667.0\n",
       "4室2厅             496    30661.0\n",
       "4室3厅              55     2846.0\n",
       "5室2厅              92     4703.0"
      ]
     },
     "execution_count": 18,
     "metadata": {},
     "output_type": "execute_result"
    },
    {
     "data": {
      "image/png": "[encoded data removed]",
      "text/plain": [
       "<Figure size 432x288 with 1 Axes>"
      ]
     },
     "metadata": {
      "needs_background": "light"
     },
     "output_type": "display_data"
    }
   ],
   "source": [
    "#取户型>50的数据进行可视化\n",
    "type_interest_group=house.groupby(house['housetype']).agg({'housetype':'count','attention':'sum'})\n",
    "\n",
    "interest_sort=type_interest_group[type_interest_group['housetype']>50]\n",
    "interest_sort.plot(kind='barh',title='二手房户型和关注人数分布')\n",
    "interest_sort"
   ]
  },
  {
   "cell_type": "markdown",
   "metadata": {},
   "source": [
    "## 数据分析5：面积分布"
   ]
  },
  {
   "cell_type": "code",
   "execution_count": 19,
   "metadata": {},
   "outputs": [
    {
     "data": {
      "text/plain": [
       "<matplotlib.axes._subplots.AxesSubplot at 0x7fea29a99550>"
      ]
     },
     "execution_count": 19,
     "metadata": {},
     "output_type": "execute_result"
    },
    {
     "data": {
      "image/png": "[encoded data removed]",
      "text/plain": [
       "<Figure size 432x288 with 1 Axes>"
      ]
     },
     "metadata": {
      "needs_background": "light"
     },
     "output_type": "display_data"
    }
   ],
   "source": [
    "# 面积分布\n",
    "area_level=[0,50,100,150,200,250,300,350,400,450,500]\n",
    "label_level=['小于50','50-100','100-150','150-200','200-250','250-300','300-350','350-400','400-450','450-500']\n",
    "area_cut=pd.cut(house['square'],bins=area_level,labels=label_level)\n",
    "area_cut.value_counts().plot(kind='bar',rot=0,grid=True,title='二手房面积分布',fontsize='small')"
   ]
  },
  {
   "cell_type": "markdown",
   "metadata": {},
   "source": [
    "## 数据分析6：各个行政区房源单价均价"
   ]
  },
  {
   "cell_type": "code",
   "execution_count": 20,
   "metadata": {},
   "outputs": [
    {
     "data": {
      "text/plain": [
       "<matplotlib.axes._subplots.AxesSubplot at 0x7fea29b66810>"
      ]
     },
     "execution_count": 20,
     "metadata": {},
     "output_type": "execute_result"
    },
    {
     "data": {
      "image/png": "[encoded data removed]",
      "text/plain": [
       "<Figure size 432x288 with 1 Axes>"
      ]
     },
     "metadata": {
      "needs_background": "light"
     },
     "output_type": "display_data"
    }
   ],
   "source": [
    "house_unitPrice=house_detail.groupby('district')['unitPrice'].mean()\n",
    "house_unitPrice.plot(kind='bar',rot=30,title='各个行政区房源均价')\n",
    "# agg({'unitPrice':'mean'})"
   ]
  },
  {
   "cell_type": "markdown",
   "metadata": {},
   "source": [
    "各个行政区房源价钱箱线图绘制"
   ]
  },
  {
   "cell_type": "code",
   "execution_count": 47,
   "metadata": {},
   "outputs": [
    {
     "data": {
      "text/plain": [
       "<matplotlib.axes._subplots.AxesSubplot at 0x7fea2dc74610>"
      ]
     },
     "execution_count": 47,
     "metadata": {},
     "output_type": "execute_result"
    },
    {
     "data": {
      "image/png": "[encoded data removed]",
      "text/plain": [
       "<Figure size 432x288 with 1 Axes>"
      ]
     },
     "metadata": {
      "needs_background": "light"
     },
     "output_type": "display_data"
    }
   ],
   "source": [
    "import seaborn as sns\n",
    "price=house_detail[['district','unitPrice']]\n",
    "price\n",
    "sns.boxplot(x='district',y='unitPrice',data=price)\n"
   ]
  },
  {
   "cell_type": "markdown",
   "metadata": {},
   "source": [
    "各个行政区房源在售数量"
   ]
  },
  {
   "cell_type": "code",
   "execution_count": 22,
   "metadata": {},
   "outputs": [
    {
     "data": {
      "text/plain": [
       "<matplotlib.axes._subplots.AxesSubplot at 0x7fea2bd7ba50>"
      ]
     },
     "execution_count": 22,
     "metadata": {},
     "output_type": "execute_result"
    },
    {
     "data": {
      "image/png": "[encoded data removed]",
      "text/plain": [
       "<Figure size 432x288 with 1 Axes>"
      ]
     },
     "metadata": {
      "needs_background": "light"
     },
     "output_type": "display_data"
    }
   ],
   "source": [
    "house_onsale=house_detail.groupby('district')['onsale'].count()\n",
    "house_onsale.plot(kind='bar',rot=30,title='各个行政区房源在售数量')"
   ]
  },
  {
   "cell_type": "markdown",
   "metadata": {},
   "source": [
    "## 数据分析7：各个行政区的房源总价对比"
   ]
  },
  {
   "cell_type": "code",
   "execution_count": 23,
   "metadata": {},
   "outputs": [
    {
     "data": {
      "text/plain": [
       "(0, 6000)"
      ]
     },
     "execution_count": 23,
     "metadata": {},
     "output_type": "execute_result"
    },
    {
     "data": {
      "image/png": "[encoded data removed]",
      "text/plain": [
       "<Figure size 432x288 with 1 Axes>"
      ]
     },
     "metadata": {
      "needs_background": "light"
     },
     "output_type": "display_data"
    }
   ],
   "source": [
    "price=house_detail[['district','totalPrice']]\n",
    "sns.boxplot(x='district',y='totalPrice',data=price)\n",
    "plt.ylim((0,6000))"
   ]
  },
  {
   "cell_type": "markdown",
   "metadata": {},
   "source": [
    "通过箱型图看到，各大区域房屋总价中位数都都在1000万以下，且房屋总价离散值较高"
   ]
  },
  {
   "cell_type": "markdown",
   "metadata": {},
   "source": [
    "## 数据分析8：按照地铁信息对各个区域每平米均价排序，柱形图绘制"
   ]
  },
  {
   "cell_type": "code",
   "execution_count": 24,
   "metadata": {},
   "outputs": [
    {
     "data": {
      "text/plain": [
       "<matplotlib.legend.Legend at 0x7fea2be48850>"
      ]
     },
     "execution_count": 24,
     "metadata": {},
     "output_type": "execute_result"
    },
    {
     "data": {
      "image/png": "[encoded data removed]",
      "text/plain": [
       "<Figure size 432x288 with 1 Axes>"
      ]
     },
     "metadata": {
      "needs_background": "light"
     },
     "output_type": "display_data"
    }
   ],
   "source": [
    "bizcircle_unitPrice=house_detail.groupby('bizcircle')['unitPrice'].mean().sort_values(ascending=False)\n",
    "bizcircle_unitPrice.head(15).plot(kind='bar',title='各个区域均价分布',rot=30)\n",
    "plt.legend(['均价'])\n",
    "# plt.show()"
   ]
  },
  {
   "cell_type": "markdown",
   "metadata": {},
   "source": [
    "## 数据分析9：按小区均价排序"
   ]
  },
  {
   "cell_type": "code",
   "execution_count": 25,
   "metadata": {
    "scrolled": true
   },
   "outputs": [
    {
     "data": {
      "text/plain": [
       "<matplotlib.legend.Legend at 0x7fea298c5890>"
      ]
     },
     "execution_count": 25,
     "metadata": {},
     "output_type": "execute_result"
    },
    {
     "data": {
      "image/png": "[encoded data removed]",
      "text/plain": [
       "<Figure size 432x288 with 1 Axes>"
      ]
     },
     "metadata": {
      "needs_background": "light"
     },
     "output_type": "display_data"
    }
   ],
   "source": [
    "community_unitPrice=house_detail.groupby('community')['unitPrice'].mean().sort_values(ascending=False)\n",
    "community_unitPrice.head(10).plot(kind='bar',title='各个小区均价分布',rot=30)\n",
    "plt.legend(['均价'])"
   ]
  },
  {
   "cell_type": "markdown",
   "metadata": {},
   "source": [
    "## 综合：紧邻望京地铁站,三室一厅，400万-500万，大于80平米的房子"
   ]
  },
  {
   "cell_type": "markdown",
   "metadata": {},
   "source": [
    "### 第一步：找出望京附近的房屋信息"
   ]
  },
  {
   "cell_type": "code",
   "execution_count": 26,
   "metadata": {},
   "outputs": [
    {
     "data": {
      "text/plain": [
       "896"
      ]
     },
     "execution_count": 26,
     "metadata": {},
     "output_type": "execute_result"
    }
   ],
   "source": [
    "myhouse=house_detail[house_detail.bizcircle.str.contains('望京')]\n",
    "# myhouse.head(2)\n",
    "len(myhouse)"
   ]
  },
  {
   "cell_type": "markdown",
   "metadata": {},
   "source": [
    "### 第二步：查看分布情况"
   ]
  },
  {
   "cell_type": "code",
   "execution_count": 27,
   "metadata": {
    "scrolled": true
   },
   "outputs": [
    {
     "data": {
      "text/plain": [
       "2室1厅     230\n",
       "3室2厅     155\n",
       "2室2厅     134\n",
       "1室1厅     117\n",
       "3室1厅     108\n",
       "4室2厅      55\n",
       "1室0厅      25\n",
       "4室1厅      25\n",
       "2房间1卫     13\n",
       "5室2厅       8\n",
       "Name: housetype, dtype: int64"
      ]
     },
     "execution_count": 27,
     "metadata": {},
     "output_type": "execute_result"
    },
    {
     "data": {
      "image/png": "[encoded data removed]",
      "text/plain": [
       "<Figure size 432x288 with 1 Axes>"
      ]
     },
     "metadata": {
      "needs_background": "light"
     },
     "output_type": "display_data"
    }
   ],
   "source": [
    "house_type=myhouse['housetype'].value_counts()\n",
    "house_type.head(10).plot(kind='bar',title='户型数量分布',rot=30)\n",
    "house_type.head(10)"
   ]
  },
  {
   "cell_type": "markdown",
   "metadata": {},
   "source": [
    "### 第三步：找到三室一厅的房源信息以及400万-500万，大于80平米的房源信息"
   ]
  },
  {
   "cell_type": "code",
   "execution_count": 28,
   "metadata": {},
   "outputs": [
    {
     "data": {
      "text/plain": [
       "108"
      ]
     },
     "execution_count": 28,
     "metadata": {},
     "output_type": "execute_result"
    }
   ],
   "source": [
    "# 1 找到三室一厅的房源信息\n",
    "myhouse=myhouse[myhouse.housetype.str.contains('3室1厅')]\n",
    "len(myhouse)"
   ]
  },
  {
   "cell_type": "code",
   "execution_count": 29,
   "metadata": {},
   "outputs": [
    {
     "data": {
      "text/plain": [
       "7"
      ]
     },
     "execution_count": 29,
     "metadata": {},
     "output_type": "execute_result"
    }
   ],
   "source": [
    "# 2 房屋总价400万-500万之间\n",
    "myhouse=myhouse.loc[(myhouse['totalPrice']>400)&(myhouse['totalPrice']<500)]\n",
    "myhouse.head()\n",
    "len(myhouse)"
   ]
  },
  {
   "cell_type": "code",
   "execution_count": 30,
   "metadata": {},
   "outputs": [],
   "source": [
    "# 处理房屋面积数据\n",
    "myhouse['square']=myhouse['square'].apply(data_ad,str='平米')"
   ]
  },
  {
   "cell_type": "code",
   "execution_count": 31,
   "metadata": {},
   "outputs": [
    {
     "data": {
      "text/html": [
       "<div>\n",
       "<style scoped>\n",
       "    .dataframe tbody tr th:only-of-type {\n",
       "        vertical-align: middle;\n",
       "    }\n",
       "\n",
       "    .dataframe tbody tr th {\n",
       "        vertical-align: top;\n",
       "    }\n",
       "\n",
       "    .dataframe thead th {\n",
       "        text-align: right;\n",
       "    }\n",
       "</style>\n",
       "<table border=\"1\" class=\"dataframe\">\n",
       "  <thead>\n",
       "    <tr style=\"text-align: right;\">\n",
       "      <th></th>\n",
       "      <th>index_x</th>\n",
       "      <th>title</th>\n",
       "      <th>community</th>\n",
       "      <th>years</th>\n",
       "      <th>housetype</th>\n",
       "      <th>square</th>\n",
       "      <th>floor</th>\n",
       "      <th>taxtype</th>\n",
       "      <th>totalPrice</th>\n",
       "      <th>unitPrice</th>\n",
       "      <th>followInfo</th>\n",
       "      <th>index_y</th>\n",
       "      <th>id</th>\n",
       "      <th>district</th>\n",
       "      <th>bizcircle</th>\n",
       "      <th>tagList</th>\n",
       "      <th>onsale</th>\n",
       "    </tr>\n",
       "  </thead>\n",
       "  <tbody>\n",
       "    <tr>\n",
       "      <td>7824</td>\n",
       "      <td>2806</td>\n",
       "      <td>花家地西里一区东西向三居室 中间楼层 带电梯房主自荐</td>\n",
       "      <td>花家地西里一区</td>\n",
       "      <td>中楼层(共12层)1997年建板塔结合</td>\n",
       "      <td>3室1厅</td>\n",
       "      <td>82.10</td>\n",
       "      <td>中楼层(共12层)1997年建板塔结合</td>\n",
       "      <td>房本满五年随时看房</td>\n",
       "      <td>480</td>\n",
       "      <td>58466</td>\n",
       "      <td>245人关注 / 共75次带看 / 5个月以前发布</td>\n",
       "      <td>820</td>\n",
       "      <td>1111027375067</td>\n",
       "      <td>朝阳</td>\n",
       "      <td>望京</td>\n",
       "      <td>近地铁14号线(东段)阜通站</td>\n",
       "      <td>8</td>\n",
       "    </tr>\n",
       "    <tr>\n",
       "      <td>14022</td>\n",
       "      <td>8669</td>\n",
       "      <td>经典三居室格局合理社区安静配套成熟房主自荐</td>\n",
       "      <td>中环南路5号院</td>\n",
       "      <td>顶层(共6层)1996年建板楼</td>\n",
       "      <td>3室1厅</td>\n",
       "      <td>88.51</td>\n",
       "      <td>顶层(共6层)1996年建板楼</td>\n",
       "      <td>距离14号线(东段)望京南站701米房本满两年</td>\n",
       "      <td>495</td>\n",
       "      <td>55926</td>\n",
       "      <td>35人关注 / 共0次带看 / 2个月以前发布</td>\n",
       "      <td>4718</td>\n",
       "      <td>1111027382477</td>\n",
       "      <td>朝阳</td>\n",
       "      <td>望京</td>\n",
       "      <td>近地铁14号线(东段)望京南站</td>\n",
       "      <td>1</td>\n",
       "    </tr>\n",
       "  </tbody>\n",
       "</table>\n",
       "</div>"
      ],
      "text/plain": [
       "       index_x                       title community                years  \\\n",
       "7824      2806  花家地西里一区东西向三居室 中间楼层 带电梯房主自荐   花家地西里一区  中楼层(共12层)1997年建板塔结合   \n",
       "14022     8669       经典三居室格局合理社区安静配套成熟房主自荐   中环南路5号院      顶层(共6层)1996年建板楼   \n",
       "\n",
       "      housetype  square                floor                  taxtype  \\\n",
       "7824       3室1厅   82.10  中楼层(共12层)1997年建板塔结合                房本满五年随时看房   \n",
       "14022      3室1厅   88.51      顶层(共6层)1996年建板楼  距离14号线(东段)望京南站701米房本满两年   \n",
       "\n",
       "       totalPrice  unitPrice                 followInfo  index_y  \\\n",
       "7824          480      58466  245人关注 / 共75次带看 / 5个月以前发布      820   \n",
       "14022         495      55926    35人关注 / 共0次带看 / 2个月以前发布     4718   \n",
       "\n",
       "                  id district bizcircle          tagList  onsale  \n",
       "7824   1111027375067       朝阳        望京   近地铁14号线(东段)阜通站       8  \n",
       "14022  1111027382477       朝阳        望京  近地铁14号线(东段)望京南站       1  "
      ]
     },
     "execution_count": 31,
     "metadata": {},
     "output_type": "execute_result"
    }
   ],
   "source": [
    "# 3 房屋面积大于80平米\n",
    "myhouse=myhouse[myhouse.square>80]\n",
    "len(myhouse)\n",
    "myhouse.head()"
   ]
  }
 ],
 "metadata": {
  "kernelspec": {
   "display_name": "Python 3",
   "language": "python",
   "name": "python3"
  },
  "language_info": {
   "codemirror_mode": {
    "name": "ipython",
    "version": 3
   },
   "file_extension": ".py",
   "mimetype": "text/x-python",
   "name": "python",
   "nbconvert_exporter": "python",
   "pygments_lexer": "ipython3",
   "version": "3.7.4"
  },
  "varInspector": {
   "cols": {
    "lenName": 16,
    "lenType": 16,
    "lenVar": 40
   },
   "kernels_config": {
    "python": {
     "delete_cmd_postfix": "",
     "delete_cmd_prefix": "del ",
     "library": "var_list.py",
     "varRefreshCmd": "print(var_dic_list())"
    },
    "r": {
     "delete_cmd_postfix": ") ",
     "delete_cmd_prefix": "rm(",
     "library": "var_list.r",
     "varRefreshCmd": "cat(var_dic_list()) "
    }
   },
   "types_to_exclude": [
    "module",
    "function",
    "builtin_function_or_method",
    "instance",
    "_Feature"
   ],
   "window_display": false
  }
 },
 "nbformat": 4,
 "nbformat_minor": 2
}
