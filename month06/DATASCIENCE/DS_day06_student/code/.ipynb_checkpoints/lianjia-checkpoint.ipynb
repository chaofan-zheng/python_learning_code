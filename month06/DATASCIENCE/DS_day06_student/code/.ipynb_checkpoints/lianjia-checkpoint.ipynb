{
 "cells": [
  {
   "cell_type": "markdown",
   "metadata": {},
   "source": [
    "# 利用Python对链家网北京主城区二手房进行数据分析\n",
    "* 主要讲述如何通过pandas对爬虫下来的链家数据进行相应的二手房数据分析，主要分析内容包括各个行政区，各个小区的房源信息情况。\n"
   ]
  },
  {
   "cell_type": "markdown",
   "metadata": {},
   "source": [
    "## 导入链家网二手房在售房源的文件"
   ]
  },
  {
   "cell_type": "code",
   "execution_count": 5,
   "metadata": {},
   "outputs": [
    {
     "data": {
      "text/html": [
       "<div>\n",
       "<style scoped>\n",
       "    .dataframe tbody tr th:only-of-type {\n",
       "        vertical-align: middle;\n",
       "    }\n",
       "\n",
       "    .dataframe tbody tr th {\n",
       "        vertical-align: top;\n",
       "    }\n",
       "\n",
       "    .dataframe thead th {\n",
       "        text-align: right;\n",
       "    }\n",
       "</style>\n",
       "<table border=\"1\" class=\"dataframe\">\n",
       "  <thead>\n",
       "    <tr style=\"text-align: right;\">\n",
       "      <th></th>\n",
       "      <th>houseID</th>\n",
       "      <th>title</th>\n",
       "      <th>link</th>\n",
       "      <th>community</th>\n",
       "      <th>years</th>\n",
       "      <th>housetype</th>\n",
       "      <th>square</th>\n",
       "      <th>direction</th>\n",
       "      <th>floor</th>\n",
       "      <th>taxtype</th>\n",
       "      <th>totalPrice</th>\n",
       "      <th>unitPrice</th>\n",
       "      <th>followInfo</th>\n",
       "      <th>validdate</th>\n",
       "    </tr>\n",
       "  </thead>\n",
       "  <tbody>\n",
       "    <tr>\n",
       "      <th>16107</th>\n",
       "      <td>101102349938</td>\n",
       "      <td>海淀知本时代 板楼2居 东西 诚心出售新上</td>\n",
       "      <td>https://bj.lianjia.com/ershoufang/101102349938...</td>\n",
       "      <td>知本时代</td>\n",
       "      <td>低楼层(共6层)2004年建板楼</td>\n",
       "      <td>2室1厅</td>\n",
       "      <td>91.66平米</td>\n",
       "      <td>东 西</td>\n",
       "      <td>低楼层(共6层)2004年建板楼</td>\n",
       "      <td>距离8号线霍营站1085米房本满两年</td>\n",
       "      <td>575</td>\n",
       "      <td>62732</td>\n",
       "      <td>1人关注 / 共0次带看 / 刚刚发布</td>\n",
       "      <td>2017-11-29 13:46:36</td>\n",
       "    </tr>\n",
       "  </tbody>\n",
       "</table>\n",
       "</div>"
      ],
      "text/plain": [
       "            houseID                  title  \\\n",
       "16107  101102349938  海淀知本时代 板楼2居 东西 诚心出售新上   \n",
       "\n",
       "                                                    link community  \\\n",
       "16107  https://bj.lianjia.com/ershoufang/101102349938...      知本时代   \n",
       "\n",
       "                  years housetype   square direction             floor  \\\n",
       "16107  低楼层(共6层)2004年建板楼      2室1厅  91.66平米       东 西  低楼层(共6层)2004年建板楼   \n",
       "\n",
       "                  taxtype  totalPrice  unitPrice           followInfo  \\\n",
       "16107  距离8号线霍营站1085米房本满两年         575      62732  1人关注 / 共0次带看 / 刚刚发布   \n",
       "\n",
       "                 validdate  \n",
       "16107  2017-11-29 13:46:36  "
      ]
     },
     "execution_count": 5,
     "metadata": {},
     "output_type": "execute_result"
    }
   ],
   "source": [
    "import pandas as pd\n",
    "import numpy as np\n",
    "import matplotlib.pyplot as plt\n",
    "from sklearn.cluster import KMeans\n",
    "\n",
    "plt.rcParams['font.sans-serif'] = ['SimHei']    \n",
    "plt.rcParams['axes.unicode_minus'] = False\n",
    "\n",
    "#所有在售房源信息\n",
    "house=pd.read_csv('houseinfo.csv')\n",
    "house.tail(1)"
   ]
  },
  {
   "cell_type": "code",
   "execution_count": 3,
   "metadata": {},
   "outputs": [
    {
     "name": "stdout",
     "output_type": "stream",
     "text": [
      "<class 'pandas.core.frame.DataFrame'>\n",
      "RangeIndex: 16108 entries, 0 to 16107\n",
      "Data columns (total 14 columns):\n",
      "houseID       16108 non-null int64\n",
      "title         16108 non-null object\n",
      "link          16108 non-null object\n",
      "community     16108 non-null object\n",
      "years         16106 non-null object\n",
      "housetype     16108 non-null object\n",
      "square        16108 non-null object\n",
      "direction     16108 non-null object\n",
      "floor         16106 non-null object\n",
      "taxtype       15361 non-null object\n",
      "totalPrice    16108 non-null int64\n",
      "unitPrice     16108 non-null int64\n",
      "followInfo    16108 non-null object\n",
      "validdate     16108 non-null object\n",
      "dtypes: int64(3), object(11)\n",
      "memory usage: 1.7+ MB\n"
     ]
    }
   ],
   "source": [
    "house.info()"
   ]
  },
  {
   "cell_type": "code",
   "execution_count": 4,
   "metadata": {},
   "outputs": [
    {
     "data": {
      "text/html": [
       "<div>\n",
       "<style scoped>\n",
       "    .dataframe tbody tr th:only-of-type {\n",
       "        vertical-align: middle;\n",
       "    }\n",
       "\n",
       "    .dataframe tbody tr th {\n",
       "        vertical-align: top;\n",
       "    }\n",
       "\n",
       "    .dataframe thead th {\n",
       "        text-align: right;\n",
       "    }\n",
       "</style>\n",
       "<table border=\"1\" class=\"dataframe\">\n",
       "  <thead>\n",
       "    <tr style=\"text-align: right;\">\n",
       "      <th></th>\n",
       "      <th>id</th>\n",
       "      <th>title</th>\n",
       "      <th>link</th>\n",
       "      <th>district</th>\n",
       "      <th>bizcircle</th>\n",
       "      <th>tagList</th>\n",
       "      <th>onsale</th>\n",
       "      <th>validdate</th>\n",
       "    </tr>\n",
       "  </thead>\n",
       "  <tbody>\n",
       "    <tr>\n",
       "      <th>6054</th>\n",
       "      <td>1120025930935091</td>\n",
       "      <td>京铁新苑</td>\n",
       "      <td>https://bj.lianjia.com/xiaoqu/1120025930935091/</td>\n",
       "      <td>朝阳</td>\n",
       "      <td>双桥</td>\n",
       "      <td>NaN</td>\n",
       "      <td>0</td>\n",
       "      <td>2017-11-29 14:25:50</td>\n",
       "    </tr>\n",
       "    <tr>\n",
       "      <th>6055</th>\n",
       "      <td>1120025986510071</td>\n",
       "      <td>双清路2号院</td>\n",
       "      <td>https://bj.lianjia.com/xiaoqu/1120025986510071/</td>\n",
       "      <td>海淀</td>\n",
       "      <td>学院路</td>\n",
       "      <td>NaN</td>\n",
       "      <td>0</td>\n",
       "      <td>2017-11-29 15:50:32</td>\n",
       "    </tr>\n",
       "    <tr>\n",
       "      <th>6056</th>\n",
       "      <td>1120026065591183</td>\n",
       "      <td>柳浪家园东里</td>\n",
       "      <td>https://bj.lianjia.com/xiaoqu/1120026065591183/</td>\n",
       "      <td>海淀</td>\n",
       "      <td>马连洼</td>\n",
       "      <td>NaN</td>\n",
       "      <td>0</td>\n",
       "      <td>2017-11-29 15:47:55</td>\n",
       "    </tr>\n",
       "    <tr>\n",
       "      <th>6057</th>\n",
       "      <td>1120026412710300</td>\n",
       "      <td>城家公寓</td>\n",
       "      <td>https://bj.lianjia.com/xiaoqu/1120026412710300/</td>\n",
       "      <td>朝阳</td>\n",
       "      <td>欢乐谷</td>\n",
       "      <td>NaN</td>\n",
       "      <td>0</td>\n",
       "      <td>2017-11-29 14:25:51</td>\n",
       "    </tr>\n",
       "    <tr>\n",
       "      <th>6058</th>\n",
       "      <td>1120026510229447</td>\n",
       "      <td>厢白旗甲15号院</td>\n",
       "      <td>https://bj.lianjia.com/xiaoqu/1120026510229447/</td>\n",
       "      <td>海淀</td>\n",
       "      <td>海淀北部新区</td>\n",
       "      <td>NaN</td>\n",
       "      <td>0</td>\n",
       "      <td>2017-11-29 15:52:28</td>\n",
       "    </tr>\n",
       "  </tbody>\n",
       "</table>\n",
       "</div>"
      ],
      "text/plain": [
       "                    id     title  \\\n",
       "6054  1120025930935091      京铁新苑   \n",
       "6055  1120025986510071    双清路2号院   \n",
       "6056  1120026065591183    柳浪家园东里   \n",
       "6057  1120026412710300      城家公寓   \n",
       "6058  1120026510229447  厢白旗甲15号院   \n",
       "\n",
       "                                                 link district bizcircle  \\\n",
       "6054  https://bj.lianjia.com/xiaoqu/1120025930935091/       朝阳        双桥   \n",
       "6055  https://bj.lianjia.com/xiaoqu/1120025986510071/       海淀       学院路   \n",
       "6056  https://bj.lianjia.com/xiaoqu/1120026065591183/       海淀       马连洼   \n",
       "6057  https://bj.lianjia.com/xiaoqu/1120026412710300/       朝阳       欢乐谷   \n",
       "6058  https://bj.lianjia.com/xiaoqu/1120026510229447/       海淀    海淀北部新区   \n",
       "\n",
       "     tagList  onsale            validdate  \n",
       "6054     NaN       0  2017-11-29 14:25:50  \n",
       "6055     NaN       0  2017-11-29 15:50:32  \n",
       "6056     NaN       0  2017-11-29 15:47:55  \n",
       "6057     NaN       0  2017-11-29 14:25:51  \n",
       "6058     NaN       0  2017-11-29 15:52:28  "
      ]
     },
     "execution_count": 4,
     "metadata": {},
     "output_type": "execute_result"
    }
   ],
   "source": [
    "# 所有小区信息\n",
    "community=pd.read_csv('community.csv')\n",
    "community.tail()"
   ]
  },
  {
   "cell_type": "code",
   "execution_count": 47,
   "metadata": {},
   "outputs": [
    {
     "data": {
      "text/html": [
       "<div>\n",
       "<style scoped>\n",
       "    .dataframe tbody tr th:only-of-type {\n",
       "        vertical-align: middle;\n",
       "    }\n",
       "\n",
       "    .dataframe tbody tr th {\n",
       "        vertical-align: top;\n",
       "    }\n",
       "\n",
       "    .dataframe thead th {\n",
       "        text-align: right;\n",
       "    }\n",
       "</style>\n",
       "<table border=\"1\" class=\"dataframe\">\n",
       "  <thead>\n",
       "    <tr style=\"text-align: right;\">\n",
       "      <th></th>\n",
       "      <th>houseID</th>\n",
       "      <th>title_x</th>\n",
       "      <th>link_x</th>\n",
       "      <th>community</th>\n",
       "      <th>years</th>\n",
       "      <th>housetype</th>\n",
       "      <th>square</th>\n",
       "      <th>direction</th>\n",
       "      <th>floor</th>\n",
       "      <th>taxtype</th>\n",
       "      <th>totalPrice</th>\n",
       "      <th>unitPrice</th>\n",
       "      <th>followInfo</th>\n",
       "      <th>validdate_x</th>\n",
       "      <th>id</th>\n",
       "      <th>title_y</th>\n",
       "      <th>link_y</th>\n",
       "      <th>district</th>\n",
       "      <th>bizcircle</th>\n",
       "      <th>tagList</th>\n",
       "      <th>onsale</th>\n",
       "      <th>validdate_y</th>\n",
       "    </tr>\n",
       "  </thead>\n",
       "  <tbody>\n",
       "    <tr>\n",
       "      <th>0</th>\n",
       "      <td>101087602731</td>\n",
       "      <td>宝星华庭一层带花园，客厅挑高，通透四居室。房主自荐</td>\n",
       "      <td>https://bj.lianjia.com/ershoufang/101087602731...</td>\n",
       "      <td>宝星国际三期</td>\n",
       "      <td>底层(共22层)2010年建板塔结合</td>\n",
       "      <td>4室1厅</td>\n",
       "      <td>298.79000</td>\n",
       "      <td>东南</td>\n",
       "      <td>底层(共22层)2010年建板塔结合</td>\n",
       "      <td>距离15号线望京东站680米房本满五年</td>\n",
       "      <td>2598</td>\n",
       "      <td>86951</td>\n",
       "      <td>53人关注 / 共44次带看 / 一年前发布</td>\n",
       "      <td>2017-11-28 16:13:34</td>\n",
       "      <td>1111027376204</td>\n",
       "      <td>宝星国际三期</td>\n",
       "      <td>https://bj.lianjia.com/xiaoqu/1111027376204/</td>\n",
       "      <td>朝阳</td>\n",
       "      <td>望京</td>\n",
       "      <td>近地铁15号线望京东站</td>\n",
       "      <td>7</td>\n",
       "      <td>2017-11-29 14:06:41</td>\n",
       "    </tr>\n",
       "  </tbody>\n",
       "</table>\n",
       "</div>"
      ],
      "text/plain": [
       "        houseID                    title_x  \\\n",
       "0  101087602731  宝星华庭一层带花园，客厅挑高，通透四居室。房主自荐   \n",
       "\n",
       "                                              link_x community  \\\n",
       "0  https://bj.lianjia.com/ershoufang/101087602731...    宝星国际三期   \n",
       "\n",
       "                years housetype    square direction               floor  \\\n",
       "0  底层(共22层)2010年建板塔结合      4室1厅 298.79000        东南  底层(共22层)2010年建板塔结合   \n",
       "\n",
       "               taxtype  totalPrice  unitPrice              followInfo  \\\n",
       "0  距离15号线望京东站680米房本满五年        2598      86951  53人关注 / 共44次带看 / 一年前发布   \n",
       "\n",
       "           validdate_x             id title_y  \\\n",
       "0  2017-11-28 16:13:34  1111027376204  宝星国际三期   \n",
       "\n",
       "                                         link_y district bizcircle  \\\n",
       "0  https://bj.lianjia.com/xiaoqu/1111027376204/       朝阳        望京   \n",
       "\n",
       "       tagList  onsale          validdate_y  \n",
       "0  近地铁15号线望京东站       7  2017-11-29 14:06:41  "
      ]
     },
     "execution_count": 47,
     "metadata": {},
     "output_type": "execute_result"
    }
   ],
   "source": [
    "# 合并小区信息和房源信息表，可以获得房源更详细的地理位置\n",
    "community['community'] = community['title']\n",
    "house_detail = pd.merge(house, community, on='community')\n",
    "# 使数据显示完整\n",
    "pd.set_option('max_columns',1000) \n",
    "pd.set_option('max_row',300) \n",
    "pd.set_option('display.float_format',lambda x:'%.5f' % x)\n",
    "# 打印数据\n",
    "house_detail.head(1)"
   ]
  },
  {
   "cell_type": "markdown",
   "metadata": {},
   "source": [
    "## 将数据从字符串提取出来"
   ]
  },
  {
   "cell_type": "code",
   "execution_count": 36,
   "metadata": {},
   "outputs": [],
   "source": [
    "# 将字符串转换成数字\n",
    "def data_adj(area_data, str):       \n",
    "    if str in area_data :        \n",
    "        return float(area_data[0 : area_data.find(str)])    \n",
    "    else :        \n",
    "        return None\n",
    "# 处理房屋面积数据\n",
    "house['square'] = house['square'].apply(data_adj,str = '平米')"
   ]
  },
  {
   "cell_type": "code",
   "execution_count": 38,
   "metadata": {},
   "outputs": [
    {
     "data": {
      "text/html": [
       "<div>\n",
       "<style scoped>\n",
       "    .dataframe tbody tr th:only-of-type {\n",
       "        vertical-align: middle;\n",
       "    }\n",
       "\n",
       "    .dataframe tbody tr th {\n",
       "        vertical-align: top;\n",
       "    }\n",
       "\n",
       "    .dataframe thead th {\n",
       "        text-align: right;\n",
       "    }\n",
       "</style>\n",
       "<table border=\"1\" class=\"dataframe\">\n",
       "  <thead>\n",
       "    <tr style=\"text-align: right;\">\n",
       "      <th></th>\n",
       "      <th>houseID</th>\n",
       "      <th>title</th>\n",
       "      <th>link</th>\n",
       "      <th>community</th>\n",
       "      <th>years</th>\n",
       "      <th>housetype</th>\n",
       "      <th>square</th>\n",
       "      <th>direction</th>\n",
       "      <th>floor</th>\n",
       "      <th>taxtype</th>\n",
       "      <th>totalPrice</th>\n",
       "      <th>unitPrice</th>\n",
       "      <th>followInfo</th>\n",
       "      <th>validdate</th>\n",
       "    </tr>\n",
       "  </thead>\n",
       "  <tbody>\n",
       "    <tr>\n",
       "      <th>0</th>\n",
       "      <td>101087602731</td>\n",
       "      <td>宝星华庭一层带花园，客厅挑高，通透四居室。房主自荐</td>\n",
       "      <td>https://bj.lianjia.com/ershoufang/101087602731...</td>\n",
       "      <td>宝星国际三期</td>\n",
       "      <td>底层(共22层)2010年建板塔结合</td>\n",
       "      <td>4室1厅</td>\n",
       "      <td>298.79000</td>\n",
       "      <td>东南</td>\n",
       "      <td>底层(共22层)2010年建板塔结合</td>\n",
       "      <td>距离15号线望京东站680米房本满五年</td>\n",
       "      <td>2598</td>\n",
       "      <td>86951</td>\n",
       "      <td>53人关注 / 共44次带看 / 一年前发布</td>\n",
       "      <td>2017-11-28 16:13:34</td>\n",
       "    </tr>\n",
       "    <tr>\n",
       "      <th>1</th>\n",
       "      <td>101087933454</td>\n",
       "      <td>三面采光全明南北朝向 正对小区绿地花园</td>\n",
       "      <td>https://bj.lianjia.com/ershoufang/101087933454...</td>\n",
       "      <td>顶秀青溪</td>\n",
       "      <td>中楼层(共11层)2008年建板塔结合</td>\n",
       "      <td>3室2厅</td>\n",
       "      <td>154.62000</td>\n",
       "      <td>东 南 北</td>\n",
       "      <td>中楼层(共11层)2008年建板塔结合</td>\n",
       "      <td>距离5号线立水桥站1170米房本满两年随时看房</td>\n",
       "      <td>1000</td>\n",
       "      <td>64675</td>\n",
       "      <td>323人关注 / 共579次带看 / 一年前发布</td>\n",
       "      <td>2017-11-29 14:59:38</td>\n",
       "    </tr>\n",
       "    <tr>\n",
       "      <th>2</th>\n",
       "      <td>101088604521</td>\n",
       "      <td>沁园公寓 三居室 距离苏州街地铁站383米</td>\n",
       "      <td>https://bj.lianjia.com/ershoufang/101088604521...</td>\n",
       "      <td>沁园公寓</td>\n",
       "      <td>低楼层(共24层)1999年建塔楼</td>\n",
       "      <td>3室2厅</td>\n",
       "      <td>177.36000</td>\n",
       "      <td>南 西 北</td>\n",
       "      <td>低楼层(共24层)1999年建塔楼</td>\n",
       "      <td>距离10号线苏州街站383米房本满五年</td>\n",
       "      <td>1200</td>\n",
       "      <td>67659</td>\n",
       "      <td>185人关注 / 共108次带看 / 一年前发布</td>\n",
       "      <td>2017-11-28 15:22:22</td>\n",
       "    </tr>\n",
       "    <tr>\n",
       "      <th>3</th>\n",
       "      <td>101089774839</td>\n",
       "      <td>金星园东南向户型，四居室设计，中间楼层</td>\n",
       "      <td>https://bj.lianjia.com/ershoufang/101089774839...</td>\n",
       "      <td>金星园</td>\n",
       "      <td>中楼层(共28层)2007年建塔楼</td>\n",
       "      <td>4室2厅</td>\n",
       "      <td>245.52000</td>\n",
       "      <td>东南</td>\n",
       "      <td>中楼层(共28层)2007年建塔楼</td>\n",
       "      <td>距离机场线三元桥站1153米房本满五年</td>\n",
       "      <td>1650</td>\n",
       "      <td>67205</td>\n",
       "      <td>157人关注 / 共35次带看 / 一年前发布</td>\n",
       "      <td>2017-11-28 17:27:38</td>\n",
       "    </tr>\n",
       "    <tr>\n",
       "      <th>4</th>\n",
       "      <td>101089821842</td>\n",
       "      <td>龙湾别墅 一期独栋 满五年 带下沉式庭院，精装</td>\n",
       "      <td>https://bj.lianjia.com/ershoufang/101089821842...</td>\n",
       "      <td>龙湾别墅</td>\n",
       "      <td>地下室(共3层)2006年建</td>\n",
       "      <td>3室3厅</td>\n",
       "      <td>351.48000</td>\n",
       "      <td>南 北</td>\n",
       "      <td>地下室(共3层)2006年建</td>\n",
       "      <td>房本满五年</td>\n",
       "      <td>2400</td>\n",
       "      <td>68283</td>\n",
       "      <td>120人关注 / 共42次带看 / 一年前发布</td>\n",
       "      <td>2017-11-29 11:01:25</td>\n",
       "    </tr>\n",
       "    <tr>\n",
       "      <th>5</th>\n",
       "      <td>101090342189</td>\n",
       "      <td>长椿街★满五年★距离地铁259米</td>\n",
       "      <td>https://bj.lianjia.com/ershoufang/101090342189...</td>\n",
       "      <td>广信嘉园</td>\n",
       "      <td>低楼层(共22层)2002年建塔楼</td>\n",
       "      <td>3室1厅</td>\n",
       "      <td>130.03000</td>\n",
       "      <td>西北</td>\n",
       "      <td>低楼层(共22层)2002年建塔楼</td>\n",
       "      <td>距离7号线广安门内站397米房本满五年</td>\n",
       "      <td>1160</td>\n",
       "      <td>89211</td>\n",
       "      <td>376人关注 / 共79次带看 / 一年前发布</td>\n",
       "      <td>2017-11-29 10:42:02</td>\n",
       "    </tr>\n",
       "    <tr>\n",
       "      <th>6</th>\n",
       "      <td>101090450515</td>\n",
       "      <td>独栋别墅，小区花园好，四环内位置好</td>\n",
       "      <td>https://bj.lianjia.com/ershoufang/101090450515...</td>\n",
       "      <td>CBD国际高尔夫别墅</td>\n",
       "      <td>地下室(共2层)2006年建</td>\n",
       "      <td>5室2厅</td>\n",
       "      <td>396.82000</td>\n",
       "      <td>南 北</td>\n",
       "      <td>地下室(共2层)2006年建</td>\n",
       "      <td>房本满五年</td>\n",
       "      <td>2800</td>\n",
       "      <td>70561</td>\n",
       "      <td>45人关注 / 共24次带看 / 一年前发布</td>\n",
       "      <td>2017-11-28 15:17:01</td>\n",
       "    </tr>\n",
       "    <tr>\n",
       "      <th>7</th>\n",
       "      <td>101090693857</td>\n",
       "      <td>御园平层 两卧客厅朝南 精装修 采光好 送车库房主自荐</td>\n",
       "      <td>https://bj.lianjia.com/ershoufang/101090693857...</td>\n",
       "      <td>御园</td>\n",
       "      <td>低楼层(共3层)2008年建</td>\n",
       "      <td>4室2厅</td>\n",
       "      <td>363.58000</td>\n",
       "      <td>南 北</td>\n",
       "      <td>低楼层(共3层)2008年建</td>\n",
       "      <td>房本满两年</td>\n",
       "      <td>3900</td>\n",
       "      <td>107267</td>\n",
       "      <td>146人关注 / 共48次带看 / 一年前发布</td>\n",
       "      <td>2017-11-29 14:31:15</td>\n",
       "    </tr>\n",
       "    <tr>\n",
       "      <th>8</th>\n",
       "      <td>101091025374</td>\n",
       "      <td>华尔街观典 观湖大宅 南北通透 看房有钥匙房主自荐</td>\n",
       "      <td>https://bj.lianjia.com/ershoufang/101091025374...</td>\n",
       "      <td>华尔街观典</td>\n",
       "      <td>中楼层(共26层)2007年建板塔结合</td>\n",
       "      <td>5室2厅</td>\n",
       "      <td>439.18000</td>\n",
       "      <td>南 北</td>\n",
       "      <td>中楼层(共26层)2007年建板塔结合</td>\n",
       "      <td>距离10号线莲花桥站1143米房本满五年随时看房</td>\n",
       "      <td>2628</td>\n",
       "      <td>59839</td>\n",
       "      <td>123人关注 / 共74次带看 / 一年前发布</td>\n",
       "      <td>2017-11-29 14:50:06</td>\n",
       "    </tr>\n",
       "    <tr>\n",
       "      <th>9</th>\n",
       "      <td>101091179432</td>\n",
       "      <td>怡升园 4室2厅 1950万房主自荐</td>\n",
       "      <td>https://bj.lianjia.com/ershoufang/101091179432...</td>\n",
       "      <td>怡升园</td>\n",
       "      <td>中楼层(共14层)2000年建板塔结合</td>\n",
       "      <td>4室2厅</td>\n",
       "      <td>256.11000</td>\n",
       "      <td>南 北</td>\n",
       "      <td>中楼层(共14层)2000年建板塔结合</td>\n",
       "      <td>距离10号线知春里站887米房本满五年</td>\n",
       "      <td>1950</td>\n",
       "      <td>76140</td>\n",
       "      <td>98人关注 / 共40次带看 / 一年前发布</td>\n",
       "      <td>2017-11-29 14:20:31</td>\n",
       "    </tr>\n",
       "    <tr>\n",
       "      <th>10</th>\n",
       "      <td>101091179490</td>\n",
       "      <td>贵宾楼四居 挑高3.3米 仅交契税 保养好 赠送车位</td>\n",
       "      <td>https://bj.lianjia.com/ershoufang/101091179490...</td>\n",
       "      <td>棕榈泉国际公寓</td>\n",
       "      <td>底层(共30层)2003年建板楼</td>\n",
       "      <td>4室2厅</td>\n",
       "      <td>332.26000</td>\n",
       "      <td>南 北</td>\n",
       "      <td>底层(共30层)2003年建板楼</td>\n",
       "      <td>距离14号线(东段)朝阳公园站369米房本满两年</td>\n",
       "      <td>2990</td>\n",
       "      <td>89990</td>\n",
       "      <td>205人关注 / 共28次带看 / 一年前发布</td>\n",
       "      <td>2017-11-28 18:02:38</td>\n",
       "    </tr>\n",
       "    <tr>\n",
       "      <th>11</th>\n",
       "      <td>101091399833</td>\n",
       "      <td>田村半壁店 南北通透大三居 户型方正 出行购物便利</td>\n",
       "      <td>https://bj.lianjia.com/ershoufang/101091399833...</td>\n",
       "      <td>田村33号院</td>\n",
       "      <td>顶层(共6层)1999年建塔楼</td>\n",
       "      <td>3室1厅</td>\n",
       "      <td>134.10000</td>\n",
       "      <td>南 北</td>\n",
       "      <td>顶层(共6层)1999年建塔楼</td>\n",
       "      <td>房本满五年</td>\n",
       "      <td>690</td>\n",
       "      <td>51455</td>\n",
       "      <td>168人关注 / 共11次带看 / 一年前发布</td>\n",
       "      <td>2017-11-29 14:41:43</td>\n",
       "    </tr>\n",
       "    <tr>\n",
       "      <th>12</th>\n",
       "      <td>101091533314</td>\n",
       "      <td>望京新城，精装四居室，拎包入住，白家庄房主自荐</td>\n",
       "      <td>https://bj.lianjia.com/ershoufang/101091533314...</td>\n",
       "      <td>望京新城</td>\n",
       "      <td>低楼层(共26层)1998年建塔楼</td>\n",
       "      <td>4室1厅</td>\n",
       "      <td>132.00000</td>\n",
       "      <td>南 西 北</td>\n",
       "      <td>低楼层(共26层)1998年建塔楼</td>\n",
       "      <td>距离14号线(东段)阜通站480米房本满两年</td>\n",
       "      <td>800</td>\n",
       "      <td>60607</td>\n",
       "      <td>494人关注 / 共117次带看 / 一年前发布</td>\n",
       "      <td>2017-11-29 09:38:28</td>\n",
       "    </tr>\n",
       "    <tr>\n",
       "      <th>13</th>\n",
       "      <td>101091627556</td>\n",
       "      <td>世桥国贸 西南向 高层观景大三居 满五年 业主诚意出售</td>\n",
       "      <td>https://bj.lianjia.com/ershoufang/101091627556...</td>\n",
       "      <td>世桥国贸</td>\n",
       "      <td>高楼层(共22层)2003年建塔楼</td>\n",
       "      <td>3室1厅</td>\n",
       "      <td>170.30000</td>\n",
       "      <td>西南</td>\n",
       "      <td>高楼层(共22层)2003年建塔楼</td>\n",
       "      <td>距离10号线双井站865米房本满五年</td>\n",
       "      <td>1490</td>\n",
       "      <td>87493</td>\n",
       "      <td>54人关注 / 共74次带看 / 一年前发布</td>\n",
       "      <td>2017-11-28 15:49:09</td>\n",
       "    </tr>\n",
       "    <tr>\n",
       "      <th>14</th>\n",
       "      <td>101091650145</td>\n",
       "      <td>九台庄园 独栋别墅 北五环品质住宅区 带2亩地院子</td>\n",
       "      <td>https://bj.lianjia.com/ershoufang/101091650145...</td>\n",
       "      <td>九台庄园</td>\n",
       "      <td>3层1999年建</td>\n",
       "      <td>2室3厅</td>\n",
       "      <td>359.84000</td>\n",
       "      <td>南 北</td>\n",
       "      <td>3层1999年建</td>\n",
       "      <td>房本满五年</td>\n",
       "      <td>3600</td>\n",
       "      <td>100045</td>\n",
       "      <td>26人关注 / 共3次带看 / 一年前发布</td>\n",
       "      <td>2017-11-29 11:04:34</td>\n",
       "    </tr>\n",
       "    <tr>\n",
       "      <th>15</th>\n",
       "      <td>101091681477</td>\n",
       "      <td>西南大客厅两居 视野好直观鸟巢 双地铁交汇 可改三居房主自荐</td>\n",
       "      <td>https://bj.lianjia.com/ershoufang/101091681477...</td>\n",
       "      <td>安慧北里逸园</td>\n",
       "      <td>中楼层(共26层)1998年建塔楼</td>\n",
       "      <td>2室1厅</td>\n",
       "      <td>102.27000</td>\n",
       "      <td>南 西</td>\n",
       "      <td>中楼层(共26层)1998年建塔楼</td>\n",
       "      <td>距离15号线安立路站591米房本满五年随时看房</td>\n",
       "      <td>650</td>\n",
       "      <td>63558</td>\n",
       "      <td>243人关注 / 共8次带看 / 一年前发布</td>\n",
       "      <td>2017-11-29 09:44:40</td>\n",
       "    </tr>\n",
       "    <tr>\n",
       "      <th>16</th>\n",
       "      <td>101091703968</td>\n",
       "      <td>峻峰华亭高楼层视野好采光棒已满五年</td>\n",
       "      <td>https://bj.lianjia.com/ershoufang/101091703968...</td>\n",
       "      <td>峻峰华亭</td>\n",
       "      <td>中楼层(共11层)2004年建塔楼</td>\n",
       "      <td>4室0厅</td>\n",
       "      <td>161.53000</td>\n",
       "      <td>东 西</td>\n",
       "      <td>中楼层(共11层)2004年建塔楼</td>\n",
       "      <td>距离8号线奥体中心站990米房本满五年随时看房</td>\n",
       "      <td>720</td>\n",
       "      <td>44574</td>\n",
       "      <td>313人关注 / 共150次带看 / 一年前发布</td>\n",
       "      <td>2017-11-28 16:10:13</td>\n",
       "    </tr>\n",
       "    <tr>\n",
       "      <th>17</th>\n",
       "      <td>101091723624</td>\n",
       "      <td>金台路地铁，摩码大厦，东向，2003年小区</td>\n",
       "      <td>https://bj.lianjia.com/ershoufang/101091723624...</td>\n",
       "      <td>摩码大厦</td>\n",
       "      <td>低楼层(共20层)2003年建塔楼</td>\n",
       "      <td>1室0厅</td>\n",
       "      <td>98.75000</td>\n",
       "      <td>东</td>\n",
       "      <td>低楼层(共20层)2003年建塔楼</td>\n",
       "      <td>距离6号线金台路站389米房本满五年</td>\n",
       "      <td>700</td>\n",
       "      <td>70887</td>\n",
       "      <td>9人关注 / 共7次带看 / 一年前发布</td>\n",
       "      <td>2017-11-28 15:47:59</td>\n",
       "    </tr>\n",
       "    <tr>\n",
       "      <th>18</th>\n",
       "      <td>101091794562</td>\n",
       "      <td>博龙家园 满五年 南北两居室 小区环境优美房主自荐</td>\n",
       "      <td>https://bj.lianjia.com/ershoufang/101091794562...</td>\n",
       "      <td>博龙家园</td>\n",
       "      <td>中楼层(共19层)2004年建板塔结合</td>\n",
       "      <td>2室2厅</td>\n",
       "      <td>112.19000</td>\n",
       "      <td>南 北</td>\n",
       "      <td>中楼层(共19层)2004年建板塔结合</td>\n",
       "      <td>房本满五年</td>\n",
       "      <td>730</td>\n",
       "      <td>65069</td>\n",
       "      <td>151人关注 / 共158次带看 / 一年前发布</td>\n",
       "      <td>2017-11-29 15:07:20</td>\n",
       "    </tr>\n",
       "    <tr>\n",
       "      <th>19</th>\n",
       "      <td>101091800128</td>\n",
       "      <td>清芷园南北通透四居有花园诚心出售</td>\n",
       "      <td>https://bj.lianjia.com/ershoufang/101091800128...</td>\n",
       "      <td>清芷园</td>\n",
       "      <td>底层(共17层)2000年建板塔结合</td>\n",
       "      <td>4室2厅</td>\n",
       "      <td>181.16000</td>\n",
       "      <td>南 北</td>\n",
       "      <td>底层(共17层)2000年建板塔结合</td>\n",
       "      <td>距离4号线陶然亭站906米房本满两年随时看房</td>\n",
       "      <td>1350</td>\n",
       "      <td>74520</td>\n",
       "      <td>211人关注 / 共376次带看 / 一年前发布</td>\n",
       "      <td>2017-11-29 10:12:30</td>\n",
       "    </tr>\n",
       "  </tbody>\n",
       "</table>\n",
       "</div>"
      ],
      "text/plain": [
       "         houseID                           title  \\\n",
       "0   101087602731       宝星华庭一层带花园，客厅挑高，通透四居室。房主自荐   \n",
       "1   101087933454             三面采光全明南北朝向 正对小区绿地花园   \n",
       "2   101088604521           沁园公寓 三居室 距离苏州街地铁站383米   \n",
       "3   101089774839             金星园东南向户型，四居室设计，中间楼层   \n",
       "4   101089821842         龙湾别墅 一期独栋 满五年 带下沉式庭院，精装   \n",
       "5   101090342189                长椿街★满五年★距离地铁259米   \n",
       "6   101090450515               独栋别墅，小区花园好，四环内位置好   \n",
       "7   101090693857     御园平层 两卧客厅朝南 精装修 采光好 送车库房主自荐   \n",
       "8   101091025374       华尔街观典 观湖大宅 南北通透 看房有钥匙房主自荐   \n",
       "9   101091179432              怡升园 4室2厅 1950万房主自荐   \n",
       "10  101091179490      贵宾楼四居 挑高3.3米 仅交契税 保养好 赠送车位   \n",
       "11  101091399833       田村半壁店 南北通透大三居 户型方正 出行购物便利   \n",
       "12  101091533314         望京新城，精装四居室，拎包入住，白家庄房主自荐   \n",
       "13  101091627556     世桥国贸 西南向 高层观景大三居 满五年 业主诚意出售   \n",
       "14  101091650145       九台庄园 独栋别墅 北五环品质住宅区 带2亩地院子   \n",
       "15  101091681477  西南大客厅两居 视野好直观鸟巢 双地铁交汇 可改三居房主自荐   \n",
       "16  101091703968               峻峰华亭高楼层视野好采光棒已满五年   \n",
       "17  101091723624           金台路地铁，摩码大厦，东向，2003年小区   \n",
       "18  101091794562       博龙家园 满五年 南北两居室 小区环境优美房主自荐   \n",
       "19  101091800128                清芷园南北通透四居有花园诚心出售   \n",
       "\n",
       "                                                 link   community  \\\n",
       "0   https://bj.lianjia.com/ershoufang/101087602731...      宝星国际三期   \n",
       "1   https://bj.lianjia.com/ershoufang/101087933454...        顶秀青溪   \n",
       "2   https://bj.lianjia.com/ershoufang/101088604521...        沁园公寓   \n",
       "3   https://bj.lianjia.com/ershoufang/101089774839...         金星园   \n",
       "4   https://bj.lianjia.com/ershoufang/101089821842...        龙湾别墅   \n",
       "5   https://bj.lianjia.com/ershoufang/101090342189...        广信嘉园   \n",
       "6   https://bj.lianjia.com/ershoufang/101090450515...  CBD国际高尔夫别墅   \n",
       "7   https://bj.lianjia.com/ershoufang/101090693857...          御园   \n",
       "8   https://bj.lianjia.com/ershoufang/101091025374...       华尔街观典   \n",
       "9   https://bj.lianjia.com/ershoufang/101091179432...         怡升园   \n",
       "10  https://bj.lianjia.com/ershoufang/101091179490...     棕榈泉国际公寓   \n",
       "11  https://bj.lianjia.com/ershoufang/101091399833...      田村33号院   \n",
       "12  https://bj.lianjia.com/ershoufang/101091533314...        望京新城   \n",
       "13  https://bj.lianjia.com/ershoufang/101091627556...        世桥国贸   \n",
       "14  https://bj.lianjia.com/ershoufang/101091650145...        九台庄园   \n",
       "15  https://bj.lianjia.com/ershoufang/101091681477...      安慧北里逸园   \n",
       "16  https://bj.lianjia.com/ershoufang/101091703968...        峻峰华亭   \n",
       "17  https://bj.lianjia.com/ershoufang/101091723624...        摩码大厦   \n",
       "18  https://bj.lianjia.com/ershoufang/101091794562...        博龙家园   \n",
       "19  https://bj.lianjia.com/ershoufang/101091800128...         清芷园   \n",
       "\n",
       "                  years housetype    square direction                floor  \\\n",
       "0    底层(共22层)2010年建板塔结合      4室1厅 298.79000        东南   底层(共22层)2010年建板塔结合   \n",
       "1   中楼层(共11层)2008年建板塔结合      3室2厅 154.62000     东 南 北  中楼层(共11层)2008年建板塔结合   \n",
       "2     低楼层(共24层)1999年建塔楼      3室2厅 177.36000     南 西 北    低楼层(共24层)1999年建塔楼   \n",
       "3     中楼层(共28层)2007年建塔楼      4室2厅 245.52000        东南    中楼层(共28层)2007年建塔楼   \n",
       "4        地下室(共3层)2006年建      3室3厅 351.48000       南 北       地下室(共3层)2006年建   \n",
       "5     低楼层(共22层)2002年建塔楼      3室1厅 130.03000        西北    低楼层(共22层)2002年建塔楼   \n",
       "6        地下室(共2层)2006年建      5室2厅 396.82000       南 北       地下室(共2层)2006年建   \n",
       "7        低楼层(共3层)2008年建      4室2厅 363.58000       南 北       低楼层(共3层)2008年建   \n",
       "8   中楼层(共26层)2007年建板塔结合      5室2厅 439.18000       南 北  中楼层(共26层)2007年建板塔结合   \n",
       "9   中楼层(共14层)2000年建板塔结合      4室2厅 256.11000       南 北  中楼层(共14层)2000年建板塔结合   \n",
       "10     底层(共30层)2003年建板楼      4室2厅 332.26000       南 北     底层(共30层)2003年建板楼   \n",
       "11      顶层(共6层)1999年建塔楼      3室1厅 134.10000       南 北      顶层(共6层)1999年建塔楼   \n",
       "12    低楼层(共26层)1998年建塔楼      4室1厅 132.00000     南 西 北    低楼层(共26层)1998年建塔楼   \n",
       "13    高楼层(共22层)2003年建塔楼      3室1厅 170.30000        西南    高楼层(共22层)2003年建塔楼   \n",
       "14             3层1999年建      2室3厅 359.84000       南 北             3层1999年建   \n",
       "15    中楼层(共26层)1998年建塔楼      2室1厅 102.27000       南 西    中楼层(共26层)1998年建塔楼   \n",
       "16    中楼层(共11层)2004年建塔楼      4室0厅 161.53000       东 西    中楼层(共11层)2004年建塔楼   \n",
       "17    低楼层(共20层)2003年建塔楼      1室0厅  98.75000         东    低楼层(共20层)2003年建塔楼   \n",
       "18  中楼层(共19层)2004年建板塔结合      2室2厅 112.19000       南 北  中楼层(共19层)2004年建板塔结合   \n",
       "19   底层(共17层)2000年建板塔结合      4室2厅 181.16000       南 北   底层(共17层)2000年建板塔结合   \n",
       "\n",
       "                     taxtype  totalPrice  unitPrice                followInfo  \\\n",
       "0        距离15号线望京东站680米房本满五年        2598      86951    53人关注 / 共44次带看 / 一年前发布   \n",
       "1    距离5号线立水桥站1170米房本满两年随时看房        1000      64675  323人关注 / 共579次带看 / 一年前发布   \n",
       "2        距离10号线苏州街站383米房本满五年        1200      67659  185人关注 / 共108次带看 / 一年前发布   \n",
       "3        距离机场线三元桥站1153米房本满五年        1650      67205   157人关注 / 共35次带看 / 一年前发布   \n",
       "4                      房本满五年        2400      68283   120人关注 / 共42次带看 / 一年前发布   \n",
       "5        距离7号线广安门内站397米房本满五年        1160      89211   376人关注 / 共79次带看 / 一年前发布   \n",
       "6                      房本满五年        2800      70561    45人关注 / 共24次带看 / 一年前发布   \n",
       "7                      房本满两年        3900     107267   146人关注 / 共48次带看 / 一年前发布   \n",
       "8   距离10号线莲花桥站1143米房本满五年随时看房        2628      59839   123人关注 / 共74次带看 / 一年前发布   \n",
       "9        距离10号线知春里站887米房本满五年        1950      76140    98人关注 / 共40次带看 / 一年前发布   \n",
       "10  距离14号线(东段)朝阳公园站369米房本满两年        2990      89990   205人关注 / 共28次带看 / 一年前发布   \n",
       "11                     房本满五年         690      51455   168人关注 / 共11次带看 / 一年前发布   \n",
       "12    距离14号线(东段)阜通站480米房本满两年         800      60607  494人关注 / 共117次带看 / 一年前发布   \n",
       "13        距离10号线双井站865米房本满五年        1490      87493    54人关注 / 共74次带看 / 一年前发布   \n",
       "14                     房本满五年        3600     100045     26人关注 / 共3次带看 / 一年前发布   \n",
       "15   距离15号线安立路站591米房本满五年随时看房         650      63558    243人关注 / 共8次带看 / 一年前发布   \n",
       "16   距离8号线奥体中心站990米房本满五年随时看房         720      44574  313人关注 / 共150次带看 / 一年前发布   \n",
       "17        距离6号线金台路站389米房本满五年         700      70887      9人关注 / 共7次带看 / 一年前发布   \n",
       "18                     房本满五年         730      65069  151人关注 / 共158次带看 / 一年前发布   \n",
       "19    距离4号线陶然亭站906米房本满两年随时看房        1350      74520  211人关注 / 共376次带看 / 一年前发布   \n",
       "\n",
       "              validdate  \n",
       "0   2017-11-28 16:13:34  \n",
       "1   2017-11-29 14:59:38  \n",
       "2   2017-11-28 15:22:22  \n",
       "3   2017-11-28 17:27:38  \n",
       "4   2017-11-29 11:01:25  \n",
       "5   2017-11-29 10:42:02  \n",
       "6   2017-11-28 15:17:01  \n",
       "7   2017-11-29 14:31:15  \n",
       "8   2017-11-29 14:50:06  \n",
       "9   2017-11-29 14:20:31  \n",
       "10  2017-11-28 18:02:38  \n",
       "11  2017-11-29 14:41:43  \n",
       "12  2017-11-29 09:38:28  \n",
       "13  2017-11-28 15:49:09  \n",
       "14  2017-11-29 11:04:34  \n",
       "15  2017-11-29 09:44:40  \n",
       "16  2017-11-28 16:10:13  \n",
       "17  2017-11-28 15:47:59  \n",
       "18  2017-11-29 15:07:20  \n",
       "19  2017-11-29 10:12:30  "
      ]
     },
     "execution_count": 38,
     "metadata": {},
     "output_type": "execute_result"
    }
   ],
   "source": [
    "house.head(20)"
   ]
  },
  {
   "cell_type": "code",
   "execution_count": 44,
   "metadata": {},
   "outputs": [
    {
     "data": {
      "text/html": [
       "<div>\n",
       "<style scoped>\n",
       "    .dataframe tbody tr th:only-of-type {\n",
       "        vertical-align: middle;\n",
       "    }\n",
       "\n",
       "    .dataframe tbody tr th {\n",
       "        vertical-align: top;\n",
       "    }\n",
       "\n",
       "    .dataframe thead th {\n",
       "        text-align: right;\n",
       "    }\n",
       "</style>\n",
       "<table border=\"1\" class=\"dataframe\">\n",
       "  <thead>\n",
       "    <tr style=\"text-align: right;\">\n",
       "      <th></th>\n",
       "      <th>houseID</th>\n",
       "      <th>square</th>\n",
       "      <th>totalPrice</th>\n",
       "      <th>unitPrice</th>\n",
       "    </tr>\n",
       "  </thead>\n",
       "  <tbody>\n",
       "    <tr>\n",
       "      <th>count</th>\n",
       "      <td>16076.00000</td>\n",
       "      <td>16026.00000</td>\n",
       "      <td>16076.00000</td>\n",
       "      <td>16076.00000</td>\n",
       "    </tr>\n",
       "    <tr>\n",
       "      <th>mean</th>\n",
       "      <td>101101954012.40277</td>\n",
       "      <td>95.99725</td>\n",
       "      <td>749.39935</td>\n",
       "      <td>77780.37460</td>\n",
       "    </tr>\n",
       "    <tr>\n",
       "      <th>std</th>\n",
       "      <td>586898.19500</td>\n",
       "      <td>57.60627</td>\n",
       "      <td>535.79460</td>\n",
       "      <td>23467.73555</td>\n",
       "    </tr>\n",
       "    <tr>\n",
       "      <th>min</th>\n",
       "      <td>101087602731.00000</td>\n",
       "      <td>15.29000</td>\n",
       "      <td>40.00000</td>\n",
       "      <td>11393.00000</td>\n",
       "    </tr>\n",
       "    <tr>\n",
       "      <th>25%</th>\n",
       "      <td>101101787585.25000</td>\n",
       "      <td>61.11000</td>\n",
       "      <td>440.00000</td>\n",
       "      <td>60518.75000</td>\n",
       "    </tr>\n",
       "    <tr>\n",
       "      <th>50%</th>\n",
       "      <td>101102079434.00000</td>\n",
       "      <td>81.20000</td>\n",
       "      <td>600.00000</td>\n",
       "      <td>75164.00000</td>\n",
       "    </tr>\n",
       "    <tr>\n",
       "      <th>75%</th>\n",
       "      <td>101102244734.00000</td>\n",
       "      <td>112.75750</td>\n",
       "      <td>870.00000</td>\n",
       "      <td>91557.50000</td>\n",
       "    </tr>\n",
       "    <tr>\n",
       "      <th>max</th>\n",
       "      <td>101102349938.00000</td>\n",
       "      <td>2623.28000</td>\n",
       "      <td>12500.00000</td>\n",
       "      <td>159991.00000</td>\n",
       "    </tr>\n",
       "  </tbody>\n",
       "</table>\n",
       "</div>"
      ],
      "text/plain": [
       "                 houseID      square  totalPrice    unitPrice\n",
       "count        16076.00000 16026.00000 16076.00000  16076.00000\n",
       "mean  101101954012.40277    95.99725   749.39935  77780.37460\n",
       "std         586898.19500    57.60627   535.79460  23467.73555\n",
       "min   101087602731.00000    15.29000    40.00000  11393.00000\n",
       "25%   101101787585.25000    61.11000   440.00000  60518.75000\n",
       "50%   101102079434.00000    81.20000   600.00000  75164.00000\n",
       "75%   101102244734.00000   112.75750   870.00000  91557.50000\n",
       "max   101102349938.00000  2623.28000 12500.00000 159991.00000"
      ]
     },
     "execution_count": 44,
     "metadata": {},
     "output_type": "execute_result"
    }
   ],
   "source": [
    "house.describe()"
   ]
  },
  {
   "cell_type": "markdown",
   "metadata": {},
   "source": [
    "## 删除车位信息"
   ]
  },
  {
   "cell_type": "code",
   "execution_count": 56,
   "metadata": {},
   "outputs": [
    {
     "data": {
      "text/plain": [
       "16026"
      ]
     },
     "execution_count": 56,
     "metadata": {},
     "output_type": "execute_result"
    }
   ],
   "source": [
    "car=house[house.housetype.str.contains('车位')]\n",
    "# 记录中共有车位\n",
    "car.shape[0]\n",
    "house.drop(car.index,inplace=True)\n",
    "# 现在还剩?条记录\n",
    "house.shape[0]"
   ]
  },
  {
   "cell_type": "markdown",
   "metadata": {},
   "source": [
    "## 价格最高的5个别墅"
   ]
  },
  {
   "cell_type": "code",
   "execution_count": 57,
   "metadata": {},
   "outputs": [
    {
     "data": {
      "text/html": [
       "<div>\n",
       "<style scoped>\n",
       "    .dataframe tbody tr th:only-of-type {\n",
       "        vertical-align: middle;\n",
       "    }\n",
       "\n",
       "    .dataframe tbody tr th {\n",
       "        vertical-align: top;\n",
       "    }\n",
       "\n",
       "    .dataframe thead th {\n",
       "        text-align: right;\n",
       "    }\n",
       "</style>\n",
       "<table border=\"1\" class=\"dataframe\">\n",
       "  <thead>\n",
       "    <tr style=\"text-align: right;\">\n",
       "      <th></th>\n",
       "      <th>houseID</th>\n",
       "      <th>title</th>\n",
       "      <th>link</th>\n",
       "      <th>community</th>\n",
       "      <th>years</th>\n",
       "      <th>housetype</th>\n",
       "      <th>square</th>\n",
       "      <th>direction</th>\n",
       "      <th>floor</th>\n",
       "      <th>taxtype</th>\n",
       "      <th>totalPrice</th>\n",
       "      <th>unitPrice</th>\n",
       "      <th>followInfo</th>\n",
       "      <th>validdate</th>\n",
       "    </tr>\n",
       "  </thead>\n",
       "  <tbody>\n",
       "  </tbody>\n",
       "</table>\n",
       "</div>"
      ],
      "text/plain": [
       "Empty DataFrame\n",
       "Columns: [houseID, title, link, community, years, housetype, square, direction, floor, taxtype, totalPrice, unitPrice, followInfo, validdate]\n",
       "Index: []"
      ]
     },
     "execution_count": 57,
     "metadata": {},
     "output_type": "execute_result"
    }
   ],
   "source": [
    "bieshu=house[house.housetype.str.contains('别墅')]\n",
    "# 记录中共有别墅?栋\n",
    "bieshu.shape[0]\n",
    "bieshu.sort_values('totalPrice',ascending=False).head()"
   ]
  },
  {
   "cell_type": "markdown",
   "metadata": {},
   "source": [
    "## 删除别墅信息"
   ]
  },
  {
   "cell_type": "code",
   "execution_count": 50,
   "metadata": {},
   "outputs": [
    {
     "data": {
      "text/plain": [
       "16026"
      ]
     },
     "execution_count": 50,
     "metadata": {},
     "output_type": "execute_result"
    }
   ],
   "source": [
    "house.drop(bieshu.index,inplace=True)\n",
    "# 现在还剩下?条记录\n",
    "house.shape[0]"
   ]
  },
  {
   "cell_type": "markdown",
   "metadata": {},
   "source": [
    "## 获取总价前五的房源信息"
   ]
  },
  {
   "cell_type": "code",
   "execution_count": 58,
   "metadata": {},
   "outputs": [
    {
     "data": {
      "text/html": [
       "<div>\n",
       "<style scoped>\n",
       "    .dataframe tbody tr th:only-of-type {\n",
       "        vertical-align: middle;\n",
       "    }\n",
       "\n",
       "    .dataframe tbody tr th {\n",
       "        vertical-align: top;\n",
       "    }\n",
       "\n",
       "    .dataframe thead th {\n",
       "        text-align: right;\n",
       "    }\n",
       "</style>\n",
       "<table border=\"1\" class=\"dataframe\">\n",
       "  <thead>\n",
       "    <tr style=\"text-align: right;\">\n",
       "      <th></th>\n",
       "      <th>houseID</th>\n",
       "      <th>title</th>\n",
       "      <th>link</th>\n",
       "      <th>community</th>\n",
       "      <th>years</th>\n",
       "      <th>housetype</th>\n",
       "      <th>square</th>\n",
       "      <th>direction</th>\n",
       "      <th>floor</th>\n",
       "      <th>taxtype</th>\n",
       "      <th>totalPrice</th>\n",
       "      <th>unitPrice</th>\n",
       "      <th>followInfo</th>\n",
       "      <th>validdate</th>\n",
       "    </tr>\n",
       "  </thead>\n",
       "  <tbody>\n",
       "    <tr>\n",
       "      <th>8571</th>\n",
       "      <td>101102105035</td>\n",
       "      <td>中关村创业大街对过 有名的公司入驻其中正规写字楼</td>\n",
       "      <td>https://bj.lianjia.com/ershoufang/101102105035...</td>\n",
       "      <td>银科大厦</td>\n",
       "      <td>低楼层(共22层)2004年建塔楼</td>\n",
       "      <td>1房间0卫</td>\n",
       "      <td>2623.28000</td>\n",
       "      <td>东 南 西 北</td>\n",
       "      <td>低楼层(共22层)2004年建塔楼</td>\n",
       "      <td>距离10号线苏州街站898米房本满五年</td>\n",
       "      <td>12000</td>\n",
       "      <td>45745</td>\n",
       "      <td>1人关注 / 共0次带看 / 2个月以前发布</td>\n",
       "      <td>2017-11-29 14:07:32</td>\n",
       "    </tr>\n",
       "  </tbody>\n",
       "</table>\n",
       "</div>"
      ],
      "text/plain": [
       "           houseID                     title  \\\n",
       "8571  101102105035  中关村创业大街对过 有名的公司入驻其中正规写字楼   \n",
       "\n",
       "                                                   link community  \\\n",
       "8571  https://bj.lianjia.com/ershoufang/101102105035...      银科大厦   \n",
       "\n",
       "                  years housetype     square direction              floor  \\\n",
       "8571  低楼层(共22层)2004年建塔楼     1房间0卫 2623.28000   东 南 西 北  低楼层(共22层)2004年建塔楼   \n",
       "\n",
       "                  taxtype  totalPrice  unitPrice              followInfo  \\\n",
       "8571  距离10号线苏州街站898米房本满五年       12000      45745  1人关注 / 共0次带看 / 2个月以前发布   \n",
       "\n",
       "                validdate  \n",
       "8571  2017-11-29 14:07:32  "
      ]
     },
     "execution_count": 58,
     "metadata": {},
     "output_type": "execute_result"
    }
   ],
   "source": [
    "house.sort_values('totalPrice',ascending=False).head(1)"
   ]
  },
  {
   "cell_type": "markdown",
   "metadata": {},
   "source": [
    "## 获取户型数量分布信息"
   ]
  },
  {
   "cell_type": "code",
   "execution_count": 52,
   "metadata": {},
   "outputs": [
    {
     "data": {
      "image/png": "[encoded data removed]",
      "text/plain": [
       "<matplotlib.figure.Figure at 0x12dea782b38>"
      ]
     },
     "metadata": {},
     "output_type": "display_data"
    }
   ],
   "source": [
    "housetype = house['housetype'].value_counts()\n",
    "housetype.head(8).plot(kind='bar',x='housetype',y='size', title='户型数量分布')\n",
    "plt.legend(['数量']) \n",
    "plt.show()"
   ]
  },
  {
   "cell_type": "markdown",
   "metadata": {},
   "source": [
    "## 关注人数最多5套房子"
   ]
  },
  {
   "cell_type": "code",
   "execution_count": 61,
   "metadata": {},
   "outputs": [
    {
     "data": {
      "text/html": [
       "<div>\n",
       "<style scoped>\n",
       "    .dataframe tbody tr th:only-of-type {\n",
       "        vertical-align: middle;\n",
       "    }\n",
       "\n",
       "    .dataframe tbody tr th {\n",
       "        vertical-align: top;\n",
       "    }\n",
       "\n",
       "    .dataframe thead th {\n",
       "        text-align: right;\n",
       "    }\n",
       "</style>\n",
       "<table border=\"1\" class=\"dataframe\">\n",
       "  <thead>\n",
       "    <tr style=\"text-align: right;\">\n",
       "      <th></th>\n",
       "      <th>houseID</th>\n",
       "      <th>title</th>\n",
       "      <th>link</th>\n",
       "      <th>community</th>\n",
       "      <th>years</th>\n",
       "      <th>housetype</th>\n",
       "      <th>square</th>\n",
       "      <th>direction</th>\n",
       "      <th>floor</th>\n",
       "      <th>taxtype</th>\n",
       "      <th>totalPrice</th>\n",
       "      <th>unitPrice</th>\n",
       "      <th>followInfo</th>\n",
       "      <th>validdate</th>\n",
       "      <th>guanzhu</th>\n",
       "    </tr>\n",
       "  </thead>\n",
       "  <tbody>\n",
       "    <tr>\n",
       "      <th>47</th>\n",
       "      <td>101100379913</td>\n",
       "      <td>弘善家园南向开间，满两年，免增值税</td>\n",
       "      <td>https://bj.lianjia.com/ershoufang/101100379913...</td>\n",
       "      <td>弘善家园</td>\n",
       "      <td>中楼层(共28层)2009年建塔楼</td>\n",
       "      <td>1室0厅</td>\n",
       "      <td>42.64000</td>\n",
       "      <td>南</td>\n",
       "      <td>中楼层(共28层)2009年建塔楼</td>\n",
       "      <td>距离10号线十里河站698米房本满两年随时看房</td>\n",
       "      <td>265</td>\n",
       "      <td>62149</td>\n",
       "      <td>1401人关注 / 共305次带看 / 一年前发布</td>\n",
       "      <td>2017-11-29 09:34:23</td>\n",
       "      <td>1401.00000</td>\n",
       "    </tr>\n",
       "  </tbody>\n",
       "</table>\n",
       "</div>"
      ],
      "text/plain": [
       "         houseID              title  \\\n",
       "47  101100379913  弘善家园南向开间，满两年，免增值税   \n",
       "\n",
       "                                                 link community  \\\n",
       "47  https://bj.lianjia.com/ershoufang/101100379913...      弘善家园   \n",
       "\n",
       "                years housetype   square direction              floor  \\\n",
       "47  中楼层(共28层)2009年建塔楼      1室0厅 42.64000         南  中楼层(共28层)2009年建塔楼   \n",
       "\n",
       "                    taxtype  totalPrice  unitPrice                 followInfo  \\\n",
       "47  距离10号线十里河站698米房本满两年随时看房         265      62149  1401人关注 / 共305次带看 / 一年前发布   \n",
       "\n",
       "              validdate    guanzhu  \n",
       "47  2017-11-29 09:34:23 1401.00000  "
      ]
     },
     "execution_count": 61,
     "metadata": {},
     "output_type": "execute_result"
    }
   ],
   "source": [
    "house['guanzhu'] = house['followInfo'].apply(data_adj,str = '人关注')\n",
    "house.sort_values('guanzhu',ascending=False).head(1)"
   ]
  },
  {
   "cell_type": "markdown",
   "metadata": {},
   "source": [
    "## 户型和关注人数分布"
   ]
  },
  {
   "cell_type": "code",
   "execution_count": 62,
   "metadata": {},
   "outputs": [
    {
     "data": {
      "image/png": "[encoded data removed]",
      "text/plain": [
       "<matplotlib.figure.Figure at 0x12de955cac8>"
      ]
     },
     "metadata": {},
     "output_type": "display_data"
    }
   ],
   "source": [
    "fig, ax1 = plt.subplots(1,1)    \n",
    "type_interest_group = house['guanzhu'].groupby(house['housetype']).agg([('户型', 'count'), ('关注人数', 'sum')])    \n",
    "#取户型>50的数据进行可视化\n",
    "ti_sort = type_interest_group[type_interest_group['户型'] > 50].sort_values(by='户型')    \n",
    "ti_sort.plot(kind='barh', alpha=0.7, grid=True, ax=ax1)    \n",
    "plt.title('二手房户型和关注人数分布')    \n",
    "plt.ylabel('户型') \n",
    "plt.show()"
   ]
  },
  {
   "cell_type": "markdown",
   "metadata": {},
   "source": [
    "## 二手房面积分布"
   ]
  },
  {
   "cell_type": "code",
   "execution_count": 73,
   "metadata": {},
   "outputs": [
    {
     "data": {
      "image/png": "[encoded data removed]",
      "text/plain": [
       "<matplotlib.figure.Figure at 0x12deb4e0128>"
      ]
     },
     "metadata": {},
     "output_type": "display_data"
    }
   ],
   "source": [
    "fig,ax2 = plt.subplots(1,1)    \n",
    "area_level = [0, 50, 100, 150, 200, 250, 300, 500]    \n",
    "label_level = ['小于50', '50-100', '100-150', '150-200', '200-250', '250-300', '300-350']    \n",
    "area_cut = pd.cut(house['square'], area_level, labels=label_level)    \n",
    "# rot倾斜30°，fontsize为坐标系标记字体大小\n",
    "area_cut.value_counts().plot(kind='bar', rot=30, alpha=0.4, grid=True, fontsize='small', ax=ax2)    \n",
    "plt.title('二手房面积分布')    \n",
    "plt.xlabel('面积')    \n",
    "plt.legend(['数量'])    \n",
    "plt.show()"
   ]
  },
  {
   "cell_type": "code",
   "execution_count": 74,
   "metadata": {},
   "outputs": [
    {
     "name": "stdout",
     "output_type": "stream",
     "text": [
      "<class 'pandas.core.frame.DataFrame'>\n",
      "Int64Index: 16026 entries, 0 to 16107\n",
      "Data columns (total 15 columns):\n",
      "houseID       16026 non-null int64\n",
      "title         16026 non-null object\n",
      "link          16026 non-null object\n",
      "community     16026 non-null object\n",
      "years         16026 non-null object\n",
      "housetype     16026 non-null object\n",
      "square        16026 non-null float64\n",
      "direction     16026 non-null object\n",
      "floor         16026 non-null object\n",
      "taxtype       15296 non-null object\n",
      "totalPrice    16026 non-null int64\n",
      "unitPrice     16026 non-null int64\n",
      "followInfo    16026 non-null object\n",
      "validdate     16026 non-null object\n",
      "guanzhu       16026 non-null float64\n",
      "dtypes: float64(2), int64(3), object(10)\n",
      "memory usage: 2.6+ MB\n"
     ]
    }
   ],
   "source": [
    "house.info()"
   ]
  },
  {
   "cell_type": "markdown",
   "metadata": {},
   "source": [
    "## 聚类分析"
   ]
  },
  {
   "cell_type": "code",
   "execution_count": 82,
   "metadata": {},
   "outputs": [
    {
     "data": {
      "text/html": [
       "<div>\n",
       "<style scoped>\n",
       "    .dataframe tbody tr th:only-of-type {\n",
       "        vertical-align: middle;\n",
       "    }\n",
       "\n",
       "    .dataframe tbody tr th {\n",
       "        vertical-align: top;\n",
       "    }\n",
       "\n",
       "    .dataframe thead th {\n",
       "        text-align: right;\n",
       "    }\n",
       "</style>\n",
       "<table border=\"1\" class=\"dataframe\">\n",
       "  <thead>\n",
       "    <tr style=\"text-align: right;\">\n",
       "      <th></th>\n",
       "      <th>关注人数</th>\n",
       "      <th>面积</th>\n",
       "      <th>房价</th>\n",
       "    </tr>\n",
       "  </thead>\n",
       "  <tbody>\n",
       "    <tr>\n",
       "      <th>0</th>\n",
       "      <td>61.42061</td>\n",
       "      <td>74.72495</td>\n",
       "      <td>518.08877</td>\n",
       "    </tr>\n",
       "    <tr>\n",
       "      <th>1</th>\n",
       "      <td>48.00347</td>\n",
       "      <td>258.53198</td>\n",
       "      <td>2576.63194</td>\n",
       "    </tr>\n",
       "    <tr>\n",
       "      <th>2</th>\n",
       "      <td>49.75549</td>\n",
       "      <td>136.18860</td>\n",
       "      <td>1151.16579</td>\n",
       "    </tr>\n",
       "  </tbody>\n",
       "</table>\n",
       "</div>"
      ],
      "text/plain": [
       "      关注人数        面积         房价\n",
       "0 61.42061  74.72495  518.08877\n",
       "1 48.00347 258.53198 2576.63194\n",
       "2 49.75549 136.18860 1151.16579"
      ]
     },
     "execution_count": 82,
     "metadata": {},
     "output_type": "execute_result"
    }
   ],
   "source": [
    "# 缺失值处理:直接将缺失值去掉    \n",
    "cluster_data = house[['guanzhu','square','totalPrice']].dropna()    \n",
    "#将簇数设为3    \n",
    "K_model = KMeans(n_clusters=3)    \n",
    "alg = K_model.fit(cluster_data)    \n",
    "'------聚类中心------'   \n",
    "center = pd.DataFrame(alg.cluster_centers_, columns=['关注人数','面积','房价'])    \n",
    "cluster_data['label'] = alg.labels_ \n",
    "center\n",
    "# alg.cluster_centers_\n",
    "# alg.labels_ \n",
    "# cluster_data"
   ]
  },
  {
   "cell_type": "markdown",
   "metadata": {},
   "source": [
    "由上述整理结果可以知道，北京二手房面积低（75平米）、房价低（518万）的房源关注人数最高。从侧面也可以推断北京二手房的房价水平大多集中在518万上下。\n",
    "所以从营销和用户体验的角度来看，网站应该在广告和列表页的默认排序中应该给予总价518，面积75属性的二手房源更高的权重。这个类别的房源可以吸引最多的用户关注。"
   ]
  },
  {
   "cell_type": "markdown",
   "metadata": {},
   "source": [
    "## 北京市在售面积最小二手房"
   ]
  },
  {
   "cell_type": "code",
   "execution_count": 83,
   "metadata": {},
   "outputs": [
    {
     "data": {
      "text/plain": [
       "houseID                                            101102324602\n",
       "title                                      智德北巷（北河沿大街）+小户型一居+南向\n",
       "link          https://bj.lianjia.com/ershoufang/101102324602...\n",
       "community                                                  智德北巷\n",
       "years                                          中楼层(共6层)1985年建板楼\n",
       "housetype                                                  1室0厅\n",
       "square                                                 15.29000\n",
       "direction                                                     南\n",
       "floor                                          中楼层(共6层)1985年建板楼\n",
       "taxtype                                          距离5号线灯市口站1113米\n",
       "totalPrice                                                  220\n",
       "unitPrice                                                143885\n",
       "followInfo                               56人关注 / 共2次带看 / 8天以前发布\n",
       "validdate                                   2017-11-29 13:23:16\n",
       "guanzhu                                                56.00000\n",
       "Name: 15260, dtype: object"
      ]
     },
     "execution_count": 83,
     "metadata": {},
     "output_type": "execute_result"
    }
   ],
   "source": [
    "house.sort_values('square').iloc[0,:]"
   ]
  },
  {
   "cell_type": "markdown",
   "metadata": {},
   "source": [
    "## 北京市在售面积最大二手房"
   ]
  },
  {
   "cell_type": "code",
   "execution_count": 84,
   "metadata": {},
   "outputs": [
    {
     "data": {
      "text/plain": [
       "houseID                                            101102105035\n",
       "title                                  中关村创业大街对过 有名的公司入驻其中正规写字楼\n",
       "link          https://bj.lianjia.com/ershoufang/101102105035...\n",
       "community                                                  银科大厦\n",
       "years                                         低楼层(共22层)2004年建塔楼\n",
       "housetype                                                 1房间0卫\n",
       "square                                               2623.28000\n",
       "direction                                               东 南 西 北\n",
       "floor                                         低楼层(共22层)2004年建塔楼\n",
       "taxtype                                     距离10号线苏州街站898米房本满五年\n",
       "totalPrice                                                12000\n",
       "unitPrice                                                 45745\n",
       "followInfo                               1人关注 / 共0次带看 / 2个月以前发布\n",
       "validdate                                   2017-11-29 14:07:32\n",
       "guanzhu                                                 1.00000\n",
       "Name: 8571, dtype: object"
      ]
     },
     "execution_count": 84,
     "metadata": {},
     "output_type": "execute_result"
    }
   ],
   "source": [
    "house.sort_values('square',ascending=False).iloc[0,:]"
   ]
  },
  {
   "cell_type": "code",
   "execution_count": 89,
   "metadata": {},
   "outputs": [
    {
     "data": {
      "text/html": [
       "<div>\n",
       "<style scoped>\n",
       "    .dataframe tbody tr th:only-of-type {\n",
       "        vertical-align: middle;\n",
       "    }\n",
       "\n",
       "    .dataframe tbody tr th {\n",
       "        vertical-align: top;\n",
       "    }\n",
       "\n",
       "    .dataframe thead th {\n",
       "        text-align: right;\n",
       "    }\n",
       "</style>\n",
       "<table border=\"1\" class=\"dataframe\">\n",
       "  <thead>\n",
       "    <tr style=\"text-align: right;\">\n",
       "      <th></th>\n",
       "      <th>houseID</th>\n",
       "      <th>title_x</th>\n",
       "      <th>link_x</th>\n",
       "      <th>community</th>\n",
       "      <th>years</th>\n",
       "      <th>housetype</th>\n",
       "      <th>square</th>\n",
       "      <th>direction</th>\n",
       "      <th>floor</th>\n",
       "      <th>taxtype</th>\n",
       "      <th>totalPrice</th>\n",
       "      <th>unitPrice</th>\n",
       "      <th>followInfo</th>\n",
       "      <th>validdate_x</th>\n",
       "      <th>id</th>\n",
       "      <th>title_y</th>\n",
       "      <th>link_y</th>\n",
       "      <th>district</th>\n",
       "      <th>bizcircle</th>\n",
       "      <th>tagList</th>\n",
       "      <th>onsale</th>\n",
       "      <th>validdate_y</th>\n",
       "    </tr>\n",
       "  </thead>\n",
       "  <tbody>\n",
       "    <tr>\n",
       "      <th>0</th>\n",
       "      <td>101087602731</td>\n",
       "      <td>宝星华庭一层带花园，客厅挑高，通透四居室。房主自荐</td>\n",
       "      <td>https://bj.lianjia.com/ershoufang/101087602731...</td>\n",
       "      <td>宝星国际三期</td>\n",
       "      <td>底层(共22层)2010年建板塔结合</td>\n",
       "      <td>4室1厅</td>\n",
       "      <td>298.79000</td>\n",
       "      <td>东南</td>\n",
       "      <td>底层(共22层)2010年建板塔结合</td>\n",
       "      <td>距离15号线望京东站680米房本满五年</td>\n",
       "      <td>2598</td>\n",
       "      <td>86951</td>\n",
       "      <td>53人关注 / 共44次带看 / 一年前发布</td>\n",
       "      <td>2017-11-28 16:13:34</td>\n",
       "      <td>1111027376204</td>\n",
       "      <td>宝星国际三期</td>\n",
       "      <td>https://bj.lianjia.com/xiaoqu/1111027376204/</td>\n",
       "      <td>朝阳</td>\n",
       "      <td>望京</td>\n",
       "      <td>近地铁15号线望京东站</td>\n",
       "      <td>7</td>\n",
       "      <td>2017-11-29 14:06:41</td>\n",
       "    </tr>\n",
       "  </tbody>\n",
       "</table>\n",
       "</div>"
      ],
      "text/plain": [
       "        houseID                    title_x  \\\n",
       "0  101087602731  宝星华庭一层带花园，客厅挑高，通透四居室。房主自荐   \n",
       "\n",
       "                                              link_x community  \\\n",
       "0  https://bj.lianjia.com/ershoufang/101087602731...    宝星国际三期   \n",
       "\n",
       "                years housetype    square direction               floor  \\\n",
       "0  底层(共22层)2010年建板塔结合      4室1厅 298.79000        东南  底层(共22层)2010年建板塔结合   \n",
       "\n",
       "               taxtype  totalPrice  unitPrice              followInfo  \\\n",
       "0  距离15号线望京东站680米房本满五年        2598      86951  53人关注 / 共44次带看 / 一年前发布   \n",
       "\n",
       "           validdate_x             id title_y  \\\n",
       "0  2017-11-28 16:13:34  1111027376204  宝星国际三期   \n",
       "\n",
       "                                         link_y district bizcircle  \\\n",
       "0  https://bj.lianjia.com/xiaoqu/1111027376204/       朝阳        望京   \n",
       "\n",
       "       tagList  onsale          validdate_y  \n",
       "0  近地铁15号线望京东站       7  2017-11-29 14:06:41  "
      ]
     },
     "execution_count": 89,
     "metadata": {},
     "output_type": "execute_result"
    }
   ],
   "source": [
    "house_detail.head(1)"
   ]
  },
  {
   "cell_type": "markdown",
   "metadata": {},
   "source": [
    "## 各个行政区房源均价"
   ]
  },
  {
   "cell_type": "code",
   "execution_count": 100,
   "metadata": {},
   "outputs": [
    {
     "data": {
      "image/png": "[encoded data removed]",
      "text/plain": [
       "<matplotlib.figure.Figure at 0x12deb7f8828>"
      ]
     },
     "metadata": {},
     "output_type": "display_data"
    }
   ],
   "source": [
    "house_unitprice_perdistrict = house_detail.groupby('district')['unitPrice'].mean()\n",
    "house_unitprice_perdistrict.plot(kind='bar',rot=30,x='district',y='unitPrice', title='各个行政区房源均价')\n",
    "plt.legend(['均价']) \n",
    "plt.show()"
   ]
  },
  {
   "cell_type": "markdown",
   "metadata": {},
   "source": [
    "## 各个区域房源数量排序"
   ]
  },
  {
   "cell_type": "code",
   "execution_count": 101,
   "metadata": {},
   "outputs": [
    {
     "data": {
      "image/png": "[encoded data removed]",
      "text/plain": [
       "<matplotlib.figure.Figure at 0x12de930a748>"
      ]
     },
     "metadata": {},
     "output_type": "display_data"
    }
   ],
   "source": [
    "bizcircle_count=house_detail.groupby('bizcircle').size().sort_values(ascending=False)\n",
    "bizcircle_count.head(20).plot(kind='bar',x='bizcircle',y='size', title='各个区域房源数量分布')\n",
    "plt.legend(['数量']) \n",
    "plt.show()"
   ]
  },
  {
   "cell_type": "markdown",
   "metadata": {},
   "source": [
    "## 各个区域均价排序"
   ]
  },
  {
   "cell_type": "code",
   "execution_count": 102,
   "metadata": {},
   "outputs": [
    {
     "data": {
      "image/png": "[encoded data removed]",
      "text/plain": [
       "<matplotlib.figure.Figure at 0x12deae386a0>"
      ]
     },
     "metadata": {},
     "output_type": "display_data"
    }
   ],
   "source": [
    "bizcircle_unitprice=house_detail.groupby('bizcircle')['unitPrice'].mean().sort_values(ascending=False)\n",
    "bizcircle_unitprice.head(20).plot(kind='bar',x='bizcircle',y='unitPrice', title='各个区域均价分布')\n",
    "plt.legend(['均价']) \n",
    "plt.show()"
   ]
  },
  {
   "cell_type": "markdown",
   "metadata": {},
   "source": [
    "## 各个区域小区数量"
   ]
  },
  {
   "cell_type": "code",
   "execution_count": 103,
   "metadata": {},
   "outputs": [
    {
     "data": {
      "image/png": "[encoded data removed]",
      "text/plain": [
       "<matplotlib.figure.Figure at 0x12debc0f128>"
      ]
     },
     "metadata": {},
     "output_type": "display_data"
    }
   ],
   "source": [
    "bizcircle_community=community.groupby('bizcircle')['title'].size().sort_values(ascending=False)\n",
    "bizcircle_community.head(20).plot(kind='bar', x='bizcircle',y='size', title='各个区域小区数量分布')\n",
    "plt.legend(['数量']) \n",
    "plt.show()"
   ]
  },
  {
   "cell_type": "markdown",
   "metadata": {},
   "source": [
    "## 按小区均价排序"
   ]
  },
  {
   "cell_type": "code",
   "execution_count": 104,
   "metadata": {},
   "outputs": [
    {
     "data": {
      "image/png": "[encoded data removed]",
      "text/plain": [
       "<matplotlib.figure.Figure at 0x12de9f56be0>"
      ]
     },
     "metadata": {},
     "output_type": "display_data"
    }
   ],
   "source": [
    "community_unitprice = house.groupby('community')['unitPrice'].mean().sort_values(ascending=False)\n",
    "community_unitprice.head(15).plot(kind='bar',x='community',y='unitPrice', title='各个小区均价分布')\n",
    "plt.legend(['均价']) \n",
    "plt.show()"
   ]
  }
 ],
 "metadata": {
  "kernelspec": {
   "display_name": "Python 3",
   "language": "python",
   "name": "python3"
  },
  "language_info": {
   "codemirror_mode": {
    "name": "ipython",
    "version": 3
   },
   "file_extension": ".py",
   "mimetype": "text/x-python",
   "name": "python",
   "nbconvert_exporter": "python",
   "pygments_lexer": "ipython3",
   "version": "3.6.3"
  }
 },
 "nbformat": 4,
 "nbformat_minor": 2
}
