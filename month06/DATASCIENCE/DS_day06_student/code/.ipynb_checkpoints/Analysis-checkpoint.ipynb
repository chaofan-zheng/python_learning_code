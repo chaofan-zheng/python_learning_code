{
 "cells": [
  {
   "cell_type": "markdown",
   "metadata": {},
   "source": [
    "# 二手房源信息数据分析与可视化"
   ]
  },
  {
   "cell_type": "code",
   "execution_count": 47,
   "metadata": {},
   "outputs": [
    {
     "data": {
      "text/html": [
       "<div>\n",
       "<style scoped>\n",
       "    .dataframe tbody tr th:only-of-type {\n",
       "        vertical-align: middle;\n",
       "    }\n",
       "\n",
       "    .dataframe tbody tr th {\n",
       "        vertical-align: top;\n",
       "    }\n",
       "\n",
       "    .dataframe thead th {\n",
       "        text-align: right;\n",
       "    }\n",
       "</style>\n",
       "<table border=\"1\" class=\"dataframe\">\n",
       "  <thead>\n",
       "    <tr style=\"text-align: right;\">\n",
       "      <th></th>\n",
       "      <th>index</th>\n",
       "      <th>title</th>\n",
       "      <th>community</th>\n",
       "      <th>years</th>\n",
       "      <th>housetype</th>\n",
       "      <th>square</th>\n",
       "      <th>floor</th>\n",
       "      <th>taxtype</th>\n",
       "      <th>totalPrice</th>\n",
       "      <th>unitPrice</th>\n",
       "      <th>followInfo</th>\n",
       "    </tr>\n",
       "  </thead>\n",
       "  <tbody>\n",
       "    <tr>\n",
       "      <th>0</th>\n",
       "      <td>0</td>\n",
       "      <td>宝星华庭一层带花园，客厅挑高，通透四居室。房主自荐</td>\n",
       "      <td>宝星国际三期</td>\n",
       "      <td>底层(共22层)2010年建板塔结合</td>\n",
       "      <td>4室1厅</td>\n",
       "      <td>298.79平米</td>\n",
       "      <td>底层(共22层)2010年建板塔结合</td>\n",
       "      <td>距离15号线望京东站680米房本满五年</td>\n",
       "      <td>2598</td>\n",
       "      <td>86951</td>\n",
       "      <td>53人关注 / 共44次带看 / 一年前发布</td>\n",
       "    </tr>\n",
       "  </tbody>\n",
       "</table>\n",
       "</div>"
      ],
      "text/plain": [
       "   index                      title community               years housetype  \\\n",
       "0      0  宝星华庭一层带花园，客厅挑高，通透四居室。房主自荐    宝星国际三期  底层(共22层)2010年建板塔结合      4室1厅   \n",
       "\n",
       "     square               floor              taxtype  totalPrice  unitPrice  \\\n",
       "0  298.79平米  底层(共22层)2010年建板塔结合  距离15号线望京东站680米房本满五年        2598      86951   \n",
       "\n",
       "               followInfo  \n",
       "0  53人关注 / 共44次带看 / 一年前发布  "
      ]
     },
     "execution_count": 47,
     "metadata": {},
     "output_type": "execute_result"
    }
   ],
   "source": [
    "# 导入模块\n",
    "import pandas as pd\n",
    "import numpy as np\n",
    "import matplotlib.pyplot as plt\n",
    "\n",
    "# 设置使中文显示完整\n",
    "plt.rcParams['font.sans-serif'] = ['SimHei']    \n",
    "plt.rcParams['axes.unicode_minus'] = False\n",
    "\n",
    "#所有房源信息\n",
    "house=pd.read_csv('house.csv')\n",
    "house.head(1)\n"
   ]
  },
  {
   "cell_type": "markdown",
   "metadata": {},
   "source": [
    "## 数据描述性分析"
   ]
  },
  {
   "cell_type": "code",
   "execution_count": 48,
   "metadata": {},
   "outputs": [
    {
     "name": "stdout",
     "output_type": "stream",
     "text": [
      "<class 'pandas.core.frame.DataFrame'>\n",
      "RangeIndex: 16108 entries, 0 to 16107\n",
      "Data columns (total 11 columns):\n",
      "index         16108 non-null int64\n",
      "title         16108 non-null object\n",
      "community     16108 non-null object\n",
      "years         16106 non-null object\n",
      "housetype     16108 non-null object\n",
      "square        16108 non-null object\n",
      "floor         16106 non-null object\n",
      "taxtype       15361 non-null object\n",
      "totalPrice    16108 non-null int64\n",
      "unitPrice     16108 non-null int64\n",
      "followInfo    16108 non-null object\n",
      "dtypes: int64(3), object(8)\n",
      "memory usage: 1.4+ MB\n"
     ]
    }
   ],
   "source": [
    "house.info()"
   ]
  },
  {
   "cell_type": "code",
   "execution_count": 49,
   "metadata": {},
   "outputs": [
    {
     "data": {
      "text/html": [
       "<div>\n",
       "<style scoped>\n",
       "    .dataframe tbody tr th:only-of-type {\n",
       "        vertical-align: middle;\n",
       "    }\n",
       "\n",
       "    .dataframe tbody tr th {\n",
       "        vertical-align: top;\n",
       "    }\n",
       "\n",
       "    .dataframe thead th {\n",
       "        text-align: right;\n",
       "    }\n",
       "</style>\n",
       "<table border=\"1\" class=\"dataframe\">\n",
       "  <thead>\n",
       "    <tr style=\"text-align: right;\">\n",
       "      <th></th>\n",
       "      <th>index</th>\n",
       "      <th>id</th>\n",
       "      <th>community</th>\n",
       "      <th>district</th>\n",
       "      <th>bizcircle</th>\n",
       "      <th>tagList</th>\n",
       "      <th>onsale</th>\n",
       "    </tr>\n",
       "  </thead>\n",
       "  <tbody>\n",
       "    <tr>\n",
       "      <th>0</th>\n",
       "      <td>0</td>\n",
       "      <td>1111000004310</td>\n",
       "      <td>什坊院甲3号院</td>\n",
       "      <td>海淀</td>\n",
       "      <td>田村</td>\n",
       "      <td>NaN</td>\n",
       "      <td>0</td>\n",
       "    </tr>\n",
       "    <tr>\n",
       "      <th>1</th>\n",
       "      <td>1</td>\n",
       "      <td>1111027373682</td>\n",
       "      <td>大慧寺6号院</td>\n",
       "      <td>海淀</td>\n",
       "      <td>白石桥</td>\n",
       "      <td>NaN</td>\n",
       "      <td>2</td>\n",
       "    </tr>\n",
       "    <tr>\n",
       "      <th>2</th>\n",
       "      <td>2</td>\n",
       "      <td>1111027373683</td>\n",
       "      <td>东花市北里东区</td>\n",
       "      <td>东城</td>\n",
       "      <td>东花市</td>\n",
       "      <td>近地铁1号线王府井站</td>\n",
       "      <td>0</td>\n",
       "    </tr>\n",
       "    <tr>\n",
       "      <th>3</th>\n",
       "      <td>3</td>\n",
       "      <td>1111027373684</td>\n",
       "      <td>东花市北里西区</td>\n",
       "      <td>东城</td>\n",
       "      <td>东花市</td>\n",
       "      <td>近地铁7号线广渠门内站</td>\n",
       "      <td>7</td>\n",
       "    </tr>\n",
       "    <tr>\n",
       "      <th>4</th>\n",
       "      <td>4</td>\n",
       "      <td>1111027373685</td>\n",
       "      <td>东花市北里中区</td>\n",
       "      <td>东城</td>\n",
       "      <td>东花市</td>\n",
       "      <td>近地铁2号线朝阳门站</td>\n",
       "      <td>9</td>\n",
       "    </tr>\n",
       "  </tbody>\n",
       "</table>\n",
       "</div>"
      ],
      "text/plain": [
       "   index             id community district bizcircle      tagList  onsale\n",
       "0      0  1111000004310   什坊院甲3号院       海淀        田村          NaN       0\n",
       "1      1  1111027373682    大慧寺6号院       海淀       白石桥          NaN       2\n",
       "2      2  1111027373683   东花市北里东区       东城       东花市   近地铁1号线王府井站       0\n",
       "3      3  1111027373684   东花市北里西区       东城       东花市  近地铁7号线广渠门内站       7\n",
       "4      4  1111027373685   东花市北里中区       东城       东花市   近地铁2号线朝阳门站       9"
      ]
     },
     "execution_count": 49,
     "metadata": {},
     "output_type": "execute_result"
    }
   ],
   "source": [
    "# 所有小区信息\n",
    "community=pd.read_csv('community_describe.csv')\n",
    "community.head()"
   ]
  },
  {
   "cell_type": "code",
   "execution_count": 50,
   "metadata": {},
   "outputs": [
    {
     "data": {
      "text/html": [
       "<div>\n",
       "<style scoped>\n",
       "    .dataframe tbody tr th:only-of-type {\n",
       "        vertical-align: middle;\n",
       "    }\n",
       "\n",
       "    .dataframe tbody tr th {\n",
       "        vertical-align: top;\n",
       "    }\n",
       "\n",
       "    .dataframe thead th {\n",
       "        text-align: right;\n",
       "    }\n",
       "</style>\n",
       "<table border=\"1\" class=\"dataframe\">\n",
       "  <thead>\n",
       "    <tr style=\"text-align: right;\">\n",
       "      <th></th>\n",
       "      <th>index_x</th>\n",
       "      <th>title</th>\n",
       "      <th>community</th>\n",
       "      <th>years</th>\n",
       "      <th>housetype</th>\n",
       "      <th>square</th>\n",
       "      <th>floor</th>\n",
       "      <th>taxtype</th>\n",
       "      <th>totalPrice</th>\n",
       "      <th>unitPrice</th>\n",
       "      <th>followInfo</th>\n",
       "      <th>index_y</th>\n",
       "      <th>id</th>\n",
       "      <th>district</th>\n",
       "      <th>bizcircle</th>\n",
       "      <th>tagList</th>\n",
       "      <th>onsale</th>\n",
       "    </tr>\n",
       "  </thead>\n",
       "  <tbody>\n",
       "    <tr>\n",
       "      <th>0</th>\n",
       "      <td>0</td>\n",
       "      <td>宝星华庭一层带花园，客厅挑高，通透四居室。房主自荐</td>\n",
       "      <td>宝星国际三期</td>\n",
       "      <td>底层(共22层)2010年建板塔结合</td>\n",
       "      <td>4室1厅</td>\n",
       "      <td>298.79平米</td>\n",
       "      <td>底层(共22层)2010年建板塔结合</td>\n",
       "      <td>距离15号线望京东站680米房本满五年</td>\n",
       "      <td>2598</td>\n",
       "      <td>86951</td>\n",
       "      <td>53人关注 / 共44次带看 / 一年前发布</td>\n",
       "      <td>1535</td>\n",
       "      <td>1111027376204</td>\n",
       "      <td>朝阳</td>\n",
       "      <td>望京</td>\n",
       "      <td>近地铁15号线望京东站</td>\n",
       "      <td>7</td>\n",
       "    </tr>\n",
       "  </tbody>\n",
       "</table>\n",
       "</div>"
      ],
      "text/plain": [
       "   index_x                      title community               years housetype  \\\n",
       "0        0  宝星华庭一层带花园，客厅挑高，通透四居室。房主自荐    宝星国际三期  底层(共22层)2010年建板塔结合      4室1厅   \n",
       "\n",
       "     square               floor              taxtype  totalPrice  unitPrice  \\\n",
       "0  298.79平米  底层(共22层)2010年建板塔结合  距离15号线望京东站680米房本满五年        2598      86951   \n",
       "\n",
       "               followInfo  index_y             id district bizcircle  \\\n",
       "0  53人关注 / 共44次带看 / 一年前发布     1535  1111027376204       朝阳        望京   \n",
       "\n",
       "       tagList  onsale  \n",
       "0  近地铁15号线望京东站       7  "
      ]
     },
     "execution_count": 50,
     "metadata": {},
     "output_type": "execute_result"
    }
   ],
   "source": [
    "# 合并小区信息和房源信息表，可以获得房源更详细的地理位置\n",
    "house_detail = pd.merge(house, community, on='community')\n",
    "\n",
    "# 打印数据\n",
    "house_detail.head(1)\n"
   ]
  },
  {
   "cell_type": "markdown",
   "metadata": {},
   "source": [
    "## 数值型数据描述"
   ]
  },
  {
   "cell_type": "code",
   "execution_count": 51,
   "metadata": {},
   "outputs": [
    {
     "data": {
      "text/html": [
       "<div>\n",
       "<style scoped>\n",
       "    .dataframe tbody tr th:only-of-type {\n",
       "        vertical-align: middle;\n",
       "    }\n",
       "\n",
       "    .dataframe tbody tr th {\n",
       "        vertical-align: top;\n",
       "    }\n",
       "\n",
       "    .dataframe thead th {\n",
       "        text-align: right;\n",
       "    }\n",
       "</style>\n",
       "<table border=\"1\" class=\"dataframe\">\n",
       "  <thead>\n",
       "    <tr style=\"text-align: right;\">\n",
       "      <th></th>\n",
       "      <th>index</th>\n",
       "      <th>totalPrice</th>\n",
       "      <th>unitPrice</th>\n",
       "    </tr>\n",
       "  </thead>\n",
       "  <tbody>\n",
       "    <tr>\n",
       "      <th>count</th>\n",
       "      <td>16108.000000</td>\n",
       "      <td>16108.000000</td>\n",
       "      <td>16108.000000</td>\n",
       "    </tr>\n",
       "    <tr>\n",
       "      <th>mean</th>\n",
       "      <td>8053.500000</td>\n",
       "      <td>747.983735</td>\n",
       "      <td>77656.823814</td>\n",
       "    </tr>\n",
       "    <tr>\n",
       "      <th>std</th>\n",
       "      <td>4650.123403</td>\n",
       "      <td>536.202306</td>\n",
       "      <td>23616.114546</td>\n",
       "    </tr>\n",
       "    <tr>\n",
       "      <th>min</th>\n",
       "      <td>0.000000</td>\n",
       "      <td>15.000000</td>\n",
       "      <td>2539.000000</td>\n",
       "    </tr>\n",
       "    <tr>\n",
       "      <th>25%</th>\n",
       "      <td>4026.750000</td>\n",
       "      <td>439.000000</td>\n",
       "      <td>60449.500000</td>\n",
       "    </tr>\n",
       "    <tr>\n",
       "      <th>50%</th>\n",
       "      <td>8053.500000</td>\n",
       "      <td>600.000000</td>\n",
       "      <td>75094.000000</td>\n",
       "    </tr>\n",
       "    <tr>\n",
       "      <th>75%</th>\n",
       "      <td>12080.250000</td>\n",
       "      <td>870.000000</td>\n",
       "      <td>91474.250000</td>\n",
       "    </tr>\n",
       "    <tr>\n",
       "      <th>max</th>\n",
       "      <td>16107.000000</td>\n",
       "      <td>12500.000000</td>\n",
       "      <td>159991.000000</td>\n",
       "    </tr>\n",
       "  </tbody>\n",
       "</table>\n",
       "</div>"
      ],
      "text/plain": [
       "              index    totalPrice      unitPrice\n",
       "count  16108.000000  16108.000000   16108.000000\n",
       "mean    8053.500000    747.983735   77656.823814\n",
       "std     4650.123403    536.202306   23616.114546\n",
       "min        0.000000     15.000000    2539.000000\n",
       "25%     4026.750000    439.000000   60449.500000\n",
       "50%     8053.500000    600.000000   75094.000000\n",
       "75%    12080.250000    870.000000   91474.250000\n",
       "max    16107.000000  12500.000000  159991.000000"
      ]
     },
     "execution_count": 51,
     "metadata": {},
     "output_type": "execute_result"
    }
   ],
   "source": [
    "house.describe()"
   ]
  },
  {
   "cell_type": "markdown",
   "metadata": {},
   "source": [
    "## 数据预处理1：将数据从字符串提取出来"
   ]
  },
  {
   "cell_type": "code",
   "execution_count": 52,
   "metadata": {},
   "outputs": [],
   "source": [
    "# 将字符串转换成数字\n",
    "def data_adj(area_data, str):       \n",
    "    if str in area_data :        \n",
    "        return float(area_data[0 : area_data.find(str)])    \n",
    "    else :        \n",
    "        return None\n",
    "# 处理房屋面积数据\n",
    "house['square'] = house['square'].apply(data_adj,str = '平米')"
   ]
  },
  {
   "cell_type": "code",
   "execution_count": 53,
   "metadata": {},
   "outputs": [
    {
     "data": {
      "text/html": [
       "<div>\n",
       "<style scoped>\n",
       "    .dataframe tbody tr th:only-of-type {\n",
       "        vertical-align: middle;\n",
       "    }\n",
       "\n",
       "    .dataframe tbody tr th {\n",
       "        vertical-align: top;\n",
       "    }\n",
       "\n",
       "    .dataframe thead th {\n",
       "        text-align: right;\n",
       "    }\n",
       "</style>\n",
       "<table border=\"1\" class=\"dataframe\">\n",
       "  <thead>\n",
       "    <tr style=\"text-align: right;\">\n",
       "      <th></th>\n",
       "      <th>index</th>\n",
       "      <th>title</th>\n",
       "      <th>community</th>\n",
       "      <th>years</th>\n",
       "      <th>housetype</th>\n",
       "      <th>square</th>\n",
       "      <th>floor</th>\n",
       "      <th>taxtype</th>\n",
       "      <th>totalPrice</th>\n",
       "      <th>unitPrice</th>\n",
       "      <th>followInfo</th>\n",
       "    </tr>\n",
       "  </thead>\n",
       "  <tbody>\n",
       "    <tr>\n",
       "      <th>0</th>\n",
       "      <td>0</td>\n",
       "      <td>宝星华庭一层带花园，客厅挑高，通透四居室。房主自荐</td>\n",
       "      <td>宝星国际三期</td>\n",
       "      <td>底层(共22层)2010年建板塔结合</td>\n",
       "      <td>4室1厅</td>\n",
       "      <td>298.79</td>\n",
       "      <td>底层(共22层)2010年建板塔结合</td>\n",
       "      <td>距离15号线望京东站680米房本满五年</td>\n",
       "      <td>2598</td>\n",
       "      <td>86951</td>\n",
       "      <td>53人关注 / 共44次带看 / 一年前发布</td>\n",
       "    </tr>\n",
       "  </tbody>\n",
       "</table>\n",
       "</div>"
      ],
      "text/plain": [
       "   index                      title community               years housetype  \\\n",
       "0      0  宝星华庭一层带花园，客厅挑高，通透四居室。房主自荐    宝星国际三期  底层(共22层)2010年建板塔结合      4室1厅   \n",
       "\n",
       "   square               floor              taxtype  totalPrice  unitPrice  \\\n",
       "0  298.79  底层(共22层)2010年建板塔结合  距离15号线望京东站680米房本满五年        2598      86951   \n",
       "\n",
       "               followInfo  \n",
       "0  53人关注 / 共44次带看 / 一年前发布  "
      ]
     },
     "execution_count": 53,
     "metadata": {},
     "output_type": "execute_result"
    }
   ],
   "source": [
    "house.head(1)"
   ]
  },
  {
   "cell_type": "code",
   "execution_count": 54,
   "metadata": {},
   "outputs": [
    {
     "data": {
      "text/html": [
       "<div>\n",
       "<style scoped>\n",
       "    .dataframe tbody tr th:only-of-type {\n",
       "        vertical-align: middle;\n",
       "    }\n",
       "\n",
       "    .dataframe tbody tr th {\n",
       "        vertical-align: top;\n",
       "    }\n",
       "\n",
       "    .dataframe thead th {\n",
       "        text-align: right;\n",
       "    }\n",
       "</style>\n",
       "<table border=\"1\" class=\"dataframe\">\n",
       "  <thead>\n",
       "    <tr style=\"text-align: right;\">\n",
       "      <th></th>\n",
       "      <th>index</th>\n",
       "      <th>square</th>\n",
       "      <th>totalPrice</th>\n",
       "      <th>unitPrice</th>\n",
       "    </tr>\n",
       "  </thead>\n",
       "  <tbody>\n",
       "    <tr>\n",
       "      <th>count</th>\n",
       "      <td>16108.000000</td>\n",
       "      <td>16058.000000</td>\n",
       "      <td>16108.000000</td>\n",
       "      <td>16108.000000</td>\n",
       "    </tr>\n",
       "    <tr>\n",
       "      <th>mean</th>\n",
       "      <td>8053.500000</td>\n",
       "      <td>95.870368</td>\n",
       "      <td>747.983735</td>\n",
       "      <td>77656.823814</td>\n",
       "    </tr>\n",
       "    <tr>\n",
       "      <th>std</th>\n",
       "      <td>4650.123403</td>\n",
       "      <td>57.622963</td>\n",
       "      <td>536.202306</td>\n",
       "      <td>23616.114546</td>\n",
       "    </tr>\n",
       "    <tr>\n",
       "      <th>min</th>\n",
       "      <td>0.000000</td>\n",
       "      <td>11.760000</td>\n",
       "      <td>15.000000</td>\n",
       "      <td>2539.000000</td>\n",
       "    </tr>\n",
       "    <tr>\n",
       "      <th>25%</th>\n",
       "      <td>4026.750000</td>\n",
       "      <td>61.042500</td>\n",
       "      <td>439.000000</td>\n",
       "      <td>60449.500000</td>\n",
       "    </tr>\n",
       "    <tr>\n",
       "      <th>50%</th>\n",
       "      <td>8053.500000</td>\n",
       "      <td>81.125000</td>\n",
       "      <td>600.000000</td>\n",
       "      <td>75094.000000</td>\n",
       "    </tr>\n",
       "    <tr>\n",
       "      <th>75%</th>\n",
       "      <td>12080.250000</td>\n",
       "      <td>112.695000</td>\n",
       "      <td>870.000000</td>\n",
       "      <td>91474.250000</td>\n",
       "    </tr>\n",
       "    <tr>\n",
       "      <th>max</th>\n",
       "      <td>16107.000000</td>\n",
       "      <td>2623.280000</td>\n",
       "      <td>12500.000000</td>\n",
       "      <td>159991.000000</td>\n",
       "    </tr>\n",
       "  </tbody>\n",
       "</table>\n",
       "</div>"
      ],
      "text/plain": [
       "              index        square    totalPrice      unitPrice\n",
       "count  16108.000000  16058.000000  16108.000000   16108.000000\n",
       "mean    8053.500000     95.870368    747.983735   77656.823814\n",
       "std     4650.123403     57.622963    536.202306   23616.114546\n",
       "min        0.000000     11.760000     15.000000    2539.000000\n",
       "25%     4026.750000     61.042500    439.000000   60449.500000\n",
       "50%     8053.500000     81.125000    600.000000   75094.000000\n",
       "75%    12080.250000    112.695000    870.000000   91474.250000\n",
       "max    16107.000000   2623.280000  12500.000000  159991.000000"
      ]
     },
     "execution_count": 54,
     "metadata": {},
     "output_type": "execute_result"
    }
   ],
   "source": [
    "house.describe()"
   ]
  },
  {
   "cell_type": "markdown",
   "metadata": {},
   "source": [
    "## 户型的种类"
   ]
  },
  {
   "cell_type": "code",
   "execution_count": 55,
   "metadata": {},
   "outputs": [
    {
     "data": {
      "text/plain": [
       "2室1厅     6582\n",
       "3室1厅     2534\n",
       "1室1厅     2472\n",
       "3室2厅     1424\n",
       "2室2厅     1018\n",
       "1室0厅      620\n",
       "4室2厅      496\n",
       "4室1厅      181\n",
       "2房间1卫     100\n",
       "5室2厅       92\n",
       "1房间1卫      87\n",
       "1室2厅       64\n",
       "4室3厅       55\n",
       "3房间1卫      44\n",
       "3室0厅       35\n",
       "2室0厅       34\n",
       "车位         32\n",
       "6室2厅       29\n",
       "5室3厅       22\n",
       "联排别墅       19\n",
       "1房间0卫      16\n",
       "5室1厅       15\n",
       "6室3厅       13\n",
       "独栋别墅       12\n",
       "3室3厅       11\n",
       "4室0厅       10\n",
       "叠拼别墅       10\n",
       "双拼别墅        9\n",
       "4房间2卫       9\n",
       "2房间2卫       6\n",
       "4房间1卫       6\n",
       "6室1厅        5\n",
       "5室4厅        4\n",
       "3房间2卫       3\n",
       "7室3厅        3\n",
       "6室4厅        3\n",
       "5室5厅        3\n",
       "6房间2卫       2\n",
       "4房间3卫       2\n",
       "6房间4卫       2\n",
       "7室2厅        2\n",
       "3房间3卫       2\n",
       "2房间0卫       2\n",
       "5房间3卫       2\n",
       "2室3厅        2\n",
       "9室4厅        2\n",
       "5室0厅        1\n",
       "8室2厅        1\n",
       "8室4厅        1\n",
       "2房间3卫       1\n",
       "5房间2卫       1\n",
       "7室0厅        1\n",
       "6室0厅        1\n",
       "3室4厅        1\n",
       "4室4厅        1\n",
       "7室1厅        1\n",
       "8房间5卫       1\n",
       "6房间3卫       1\n",
       "Name: housetype, dtype: int64"
      ]
     },
     "execution_count": 55,
     "metadata": {},
     "output_type": "execute_result"
    }
   ],
   "source": [
    "house.housetype.value_counts()"
   ]
  },
  {
   "cell_type": "markdown",
   "metadata": {},
   "source": [
    "## 数据预处理2：删除车位信息"
   ]
  },
  {
   "cell_type": "code",
   "execution_count": 56,
   "metadata": {},
   "outputs": [
    {
     "data": {
      "text/plain": [
       "16076"
      ]
     },
     "execution_count": 56,
     "metadata": {},
     "output_type": "execute_result"
    }
   ],
   "source": [
    "car=house[house.housetype.str.contains('车位')]\n",
    "# 记录中共有车位\n",
    "car.shape[0]\n",
    "house.drop(car.index,inplace=True)\n",
    "# 现在还剩?条记录\n",
    "house.shape[0]"
   ]
  },
  {
   "cell_type": "markdown",
   "metadata": {},
   "source": [
    "## 数据分析1：价格最高的5个别墅"
   ]
  },
  {
   "cell_type": "code",
   "execution_count": 57,
   "metadata": {},
   "outputs": [
    {
     "data": {
      "text/html": [
       "<div>\n",
       "<style scoped>\n",
       "    .dataframe tbody tr th:only-of-type {\n",
       "        vertical-align: middle;\n",
       "    }\n",
       "\n",
       "    .dataframe tbody tr th {\n",
       "        vertical-align: top;\n",
       "    }\n",
       "\n",
       "    .dataframe thead th {\n",
       "        text-align: right;\n",
       "    }\n",
       "</style>\n",
       "<table border=\"1\" class=\"dataframe\">\n",
       "  <thead>\n",
       "    <tr style=\"text-align: right;\">\n",
       "      <th></th>\n",
       "      <th>index</th>\n",
       "      <th>title</th>\n",
       "      <th>community</th>\n",
       "      <th>years</th>\n",
       "      <th>housetype</th>\n",
       "      <th>square</th>\n",
       "      <th>floor</th>\n",
       "      <th>taxtype</th>\n",
       "      <th>totalPrice</th>\n",
       "      <th>unitPrice</th>\n",
       "      <th>followInfo</th>\n",
       "    </tr>\n",
       "  </thead>\n",
       "  <tbody>\n",
       "    <tr>\n",
       "      <th>8020</th>\n",
       "      <td>8020</td>\n",
       "      <td>香山清琴二期独栋别墅，毛坯房原始户型，花园1200平米</td>\n",
       "      <td>香山清琴</td>\n",
       "      <td>2层2007年建</td>\n",
       "      <td>独栋别墅</td>\n",
       "      <td>NaN</td>\n",
       "      <td>2层2007年建</td>\n",
       "      <td>房本满五年</td>\n",
       "      <td>12500</td>\n",
       "      <td>124681</td>\n",
       "      <td>45人关注 / 共7次带看 / 2个月以前发布</td>\n",
       "    </tr>\n",
       "    <tr>\n",
       "      <th>102</th>\n",
       "      <td>102</td>\n",
       "      <td>千尺独栋 北入户 红顶商人金融界入住社区</td>\n",
       "      <td>龙湖颐和原著</td>\n",
       "      <td>2层2010年建</td>\n",
       "      <td>独栋别墅</td>\n",
       "      <td>NaN</td>\n",
       "      <td>2层2010年建</td>\n",
       "      <td>距离4号线西苑站839米房本满五年</td>\n",
       "      <td>12000</td>\n",
       "      <td>112012</td>\n",
       "      <td>231人关注 / 共26次带看 / 一年前发布</td>\n",
       "    </tr>\n",
       "    <tr>\n",
       "      <th>2729</th>\n",
       "      <td>2729</td>\n",
       "      <td>临湖独栋别墅 花园半亩 观景湖面和绿化 满五年有车库房主自荐</td>\n",
       "      <td>紫玉山庄</td>\n",
       "      <td>3层2000年建</td>\n",
       "      <td>独栋别墅</td>\n",
       "      <td>NaN</td>\n",
       "      <td>3层2000年建</td>\n",
       "      <td>房本满五年</td>\n",
       "      <td>6000</td>\n",
       "      <td>148618</td>\n",
       "      <td>108人关注 / 共16次带看 / 5个月以前发布</td>\n",
       "    </tr>\n",
       "    <tr>\n",
       "      <th>3141</th>\n",
       "      <td>3141</td>\n",
       "      <td>银湖别墅 独栋 望京公园旁 五环里 封闭式社区</td>\n",
       "      <td>银湖别墅</td>\n",
       "      <td>3层1998年建</td>\n",
       "      <td>独栋别墅</td>\n",
       "      <td>NaN</td>\n",
       "      <td>3层1998年建</td>\n",
       "      <td>房本满五年</td>\n",
       "      <td>5000</td>\n",
       "      <td>130348</td>\n",
       "      <td>9人关注 / 共3次带看 / 5个月以前发布</td>\n",
       "    </tr>\n",
       "    <tr>\n",
       "      <th>4112</th>\n",
       "      <td>4112</td>\n",
       "      <td>首排别墅 位置好 全景小区绿化和人工湖 有车库</td>\n",
       "      <td>亚运新新家园朗月园一期</td>\n",
       "      <td>1层2003年建</td>\n",
       "      <td>联排别墅</td>\n",
       "      <td>NaN</td>\n",
       "      <td>1层2003年建</td>\n",
       "      <td>房本满五年</td>\n",
       "      <td>3800</td>\n",
       "      <td>82364</td>\n",
       "      <td>0人关注 / 共4次带看 / 4个月以前发布</td>\n",
       "    </tr>\n",
       "  </tbody>\n",
       "</table>\n",
       "</div>"
      ],
      "text/plain": [
       "      index                           title    community     years housetype  \\\n",
       "8020   8020     香山清琴二期独栋别墅，毛坯房原始户型，花园1200平米         香山清琴  2层2007年建      独栋别墅   \n",
       "102     102            千尺独栋 北入户 红顶商人金融界入住社区       龙湖颐和原著  2层2010年建      独栋别墅   \n",
       "2729   2729  临湖独栋别墅 花园半亩 观景湖面和绿化 满五年有车库房主自荐         紫玉山庄  3层2000年建      独栋别墅   \n",
       "3141   3141         银湖别墅 独栋 望京公园旁 五环里 封闭式社区         银湖别墅  3层1998年建      独栋别墅   \n",
       "4112   4112         首排别墅 位置好 全景小区绿化和人工湖 有车库  亚运新新家园朗月园一期  1层2003年建      联排别墅   \n",
       "\n",
       "      square     floor            taxtype  totalPrice  unitPrice  \\\n",
       "8020     NaN  2层2007年建              房本满五年       12500     124681   \n",
       "102      NaN  2层2010年建  距离4号线西苑站839米房本满五年       12000     112012   \n",
       "2729     NaN  3层2000年建              房本满五年        6000     148618   \n",
       "3141     NaN  3层1998年建              房本满五年        5000     130348   \n",
       "4112     NaN  1层2003年建              房本满五年        3800      82364   \n",
       "\n",
       "                     followInfo  \n",
       "8020    45人关注 / 共7次带看 / 2个月以前发布  \n",
       "102     231人关注 / 共26次带看 / 一年前发布  \n",
       "2729  108人关注 / 共16次带看 / 5个月以前发布  \n",
       "3141     9人关注 / 共3次带看 / 5个月以前发布  \n",
       "4112     0人关注 / 共4次带看 / 4个月以前发布  "
      ]
     },
     "execution_count": 57,
     "metadata": {},
     "output_type": "execute_result"
    }
   ],
   "source": [
    "villa=house[house.housetype.str.contains('别墅')]\n",
    "# 记录中共有别墅?\n",
    "villa.shape[0]\n",
    "villa.sort_values('totalPrice',ascending=False).head(5)"
   ]
  },
  {
   "cell_type": "markdown",
   "metadata": {},
   "source": [
    "## 数据预处理3：删除别墅信息"
   ]
  },
  {
   "cell_type": "code",
   "execution_count": 58,
   "metadata": {},
   "outputs": [
    {
     "data": {
      "text/plain": [
       "16026"
      ]
     },
     "execution_count": 58,
     "metadata": {},
     "output_type": "execute_result"
    }
   ],
   "source": [
    "house.drop(villa.index,inplace=True)\n",
    "# 现在还剩下?条记录\n",
    "house.shape[0]"
   ]
  },
  {
   "cell_type": "markdown",
   "metadata": {},
   "source": [
    "## 数据分析2：找出数据中的住房户型分布"
   ]
  },
  {
   "cell_type": "code",
   "execution_count": 59,
   "metadata": {},
   "outputs": [
    {
     "data": {
      "text/plain": [
       "2室1厅     6582\n",
       "3室1厅     2534\n",
       "1室1厅     2472\n",
       "3室2厅     1424\n",
       "2室2厅     1018\n",
       "1室0厅      620\n",
       "4室2厅      496\n",
       "4室1厅      181\n",
       "2房间1卫     100\n",
       "5室2厅       92\n",
       "1房间1卫      87\n",
       "1室2厅       64\n",
       "4室3厅       55\n",
       "3房间1卫      44\n",
       "3室0厅       35\n",
       "2室0厅       34\n",
       "6室2厅       29\n",
       "5室3厅       22\n",
       "1房间0卫      16\n",
       "5室1厅       15\n",
       "6室3厅       13\n",
       "3室3厅       11\n",
       "4室0厅       10\n",
       "4房间2卫       9\n",
       "4房间1卫       6\n",
       "2房间2卫       6\n",
       "6室1厅        5\n",
       "5室4厅        4\n",
       "6室4厅        3\n",
       "3房间2卫       3\n",
       "7室3厅        3\n",
       "5室5厅        3\n",
       "7室2厅        2\n",
       "3房间3卫       2\n",
       "4房间3卫       2\n",
       "2室3厅        2\n",
       "2房间0卫       2\n",
       "9室4厅        2\n",
       "5房间3卫       2\n",
       "6房间2卫       2\n",
       "6房间4卫       2\n",
       "7室0厅        1\n",
       "5室0厅        1\n",
       "8室2厅        1\n",
       "2房间3卫       1\n",
       "6室0厅        1\n",
       "6房间3卫       1\n",
       "5房间2卫       1\n",
       "4室4厅        1\n",
       "7室1厅        1\n",
       "8室4厅        1\n",
       "8房间5卫       1\n",
       "3室4厅        1\n",
       "Name: housetype, dtype: int64"
      ]
     },
     "execution_count": 59,
     "metadata": {},
     "output_type": "execute_result"
    }
   ],
   "source": [
    "house.housetype.value_counts()"
   ]
  },
  {
   "cell_type": "code",
   "execution_count": 71,
   "metadata": {
    "scrolled": true
   },
   "outputs": [
    {
     "data": {
      "image/png": "[encoded data removed]",
      "text/plain": [
       "<matplotlib.figure.Figure at 0x165418dde10>"
      ]
     },
     "metadata": {},
     "output_type": "display_data"
    }
   ],
   "source": [
    "house_type = house['housetype'].value_counts()\n",
    "house_type.head(10).plot(kind='pie',title='户型数量分布',rot=30)\n",
    "plt.legend(['数量']) \n",
    "plt.show()"
   ]
  },
  {
   "cell_type": "markdown",
   "metadata": {},
   "source": [
    "## 数据分析3：找出关注人数最多的五套房子"
   ]
  },
  {
   "cell_type": "code",
   "execution_count": 61,
   "metadata": {},
   "outputs": [
    {
     "data": {
      "text/html": [
       "<div>\n",
       "<style scoped>\n",
       "    .dataframe tbody tr th:only-of-type {\n",
       "        vertical-align: middle;\n",
       "    }\n",
       "\n",
       "    .dataframe tbody tr th {\n",
       "        vertical-align: top;\n",
       "    }\n",
       "\n",
       "    .dataframe thead th {\n",
       "        text-align: right;\n",
       "    }\n",
       "</style>\n",
       "<table border=\"1\" class=\"dataframe\">\n",
       "  <thead>\n",
       "    <tr style=\"text-align: right;\">\n",
       "      <th></th>\n",
       "      <th>index</th>\n",
       "      <th>title</th>\n",
       "      <th>community</th>\n",
       "      <th>years</th>\n",
       "      <th>housetype</th>\n",
       "      <th>square</th>\n",
       "      <th>floor</th>\n",
       "      <th>taxtype</th>\n",
       "      <th>totalPrice</th>\n",
       "      <th>unitPrice</th>\n",
       "      <th>followInfo</th>\n",
       "      <th>attention</th>\n",
       "    </tr>\n",
       "  </thead>\n",
       "  <tbody>\n",
       "    <tr>\n",
       "      <th>47</th>\n",
       "      <td>47</td>\n",
       "      <td>弘善家园南向开间，满两年，免增值税</td>\n",
       "      <td>弘善家园</td>\n",
       "      <td>中楼层(共28层)2009年建塔楼</td>\n",
       "      <td>1室0厅</td>\n",
       "      <td>42.64</td>\n",
       "      <td>中楼层(共28层)2009年建塔楼</td>\n",
       "      <td>距离10号线十里河站698米房本满两年随时看房</td>\n",
       "      <td>265</td>\n",
       "      <td>62149</td>\n",
       "      <td>1401人关注 / 共305次带看 / 一年前发布</td>\n",
       "      <td>1401.0</td>\n",
       "    </tr>\n",
       "    <tr>\n",
       "      <th>2313</th>\n",
       "      <td>2313</td>\n",
       "      <td>四惠东 康家园 南向一居室 地铁1号线出行房主自荐</td>\n",
       "      <td>康家园</td>\n",
       "      <td>顶层(共6层)1995年建板楼</td>\n",
       "      <td>1室1厅</td>\n",
       "      <td>41.97</td>\n",
       "      <td>顶层(共6层)1995年建板楼</td>\n",
       "      <td>距离1号线四惠东站974米房本满五年随时看房</td>\n",
       "      <td>262</td>\n",
       "      <td>62426</td>\n",
       "      <td>1005人关注 / 共86次带看 / 6个月以前发布</td>\n",
       "      <td>1005.0</td>\n",
       "    </tr>\n",
       "    <tr>\n",
       "      <th>990</th>\n",
       "      <td>990</td>\n",
       "      <td>远见名苑  东南两居  满五年家庭唯一住房 诚心出售房主自荐</td>\n",
       "      <td>远见名苑</td>\n",
       "      <td>中楼层(共24层)2004年建塔楼</td>\n",
       "      <td>2室1厅</td>\n",
       "      <td>90.14</td>\n",
       "      <td>中楼层(共24层)2004年建塔楼</td>\n",
       "      <td>距离7号线达官营站516米房本满五年</td>\n",
       "      <td>811</td>\n",
       "      <td>89972</td>\n",
       "      <td>979人关注 / 共50次带看 / 8个月以前发布</td>\n",
       "      <td>979.0</td>\n",
       "    </tr>\n",
       "    <tr>\n",
       "      <th>2331</th>\n",
       "      <td>2331</td>\n",
       "      <td>荣丰二期朝南复式无遮挡全天采光房主自荐</td>\n",
       "      <td>荣丰2008</td>\n",
       "      <td>中楼层(共10层)2005年建塔楼</td>\n",
       "      <td>1室1厅</td>\n",
       "      <td>32.54</td>\n",
       "      <td>中楼层(共10层)2005年建塔楼</td>\n",
       "      <td>距离7号线达官营站1028米房本满五年随时看房</td>\n",
       "      <td>400</td>\n",
       "      <td>122926</td>\n",
       "      <td>972人关注 / 共369次带看 / 6个月以前发布</td>\n",
       "      <td>972.0</td>\n",
       "    </tr>\n",
       "    <tr>\n",
       "      <th>915</th>\n",
       "      <td>915</td>\n",
       "      <td>通州万达北苑地铁站 天时名苑 大两居可改3居</td>\n",
       "      <td>天时名苑</td>\n",
       "      <td>顶层(共9层)2009年建板塔结合</td>\n",
       "      <td>2室2厅</td>\n",
       "      <td>121.30</td>\n",
       "      <td>顶层(共9层)2009年建板塔结合</td>\n",
       "      <td>距离八通线通州北苑站602米房本满五年</td>\n",
       "      <td>645</td>\n",
       "      <td>53174</td>\n",
       "      <td>894人关注 / 共228次带看 / 8个月以前发布</td>\n",
       "      <td>894.0</td>\n",
       "    </tr>\n",
       "  </tbody>\n",
       "</table>\n",
       "</div>"
      ],
      "text/plain": [
       "      index                           title community              years  \\\n",
       "47       47               弘善家园南向开间，满两年，免增值税      弘善家园  中楼层(共28层)2009年建塔楼   \n",
       "2313   2313       四惠东 康家园 南向一居室 地铁1号线出行房主自荐       康家园    顶层(共6层)1995年建板楼   \n",
       "990     990  远见名苑  东南两居  满五年家庭唯一住房 诚心出售房主自荐      远见名苑  中楼层(共24层)2004年建塔楼   \n",
       "2331   2331             荣丰二期朝南复式无遮挡全天采光房主自荐    荣丰2008  中楼层(共10层)2005年建塔楼   \n",
       "915     915          通州万达北苑地铁站 天时名苑 大两居可改3居      天时名苑  顶层(共9层)2009年建板塔结合   \n",
       "\n",
       "     housetype  square              floor                  taxtype  \\\n",
       "47        1室0厅   42.64  中楼层(共28层)2009年建塔楼  距离10号线十里河站698米房本满两年随时看房   \n",
       "2313      1室1厅   41.97    顶层(共6层)1995年建板楼   距离1号线四惠东站974米房本满五年随时看房   \n",
       "990       2室1厅   90.14  中楼层(共24层)2004年建塔楼       距离7号线达官营站516米房本满五年   \n",
       "2331      1室1厅   32.54  中楼层(共10层)2005年建塔楼  距离7号线达官营站1028米房本满五年随时看房   \n",
       "915       2室2厅  121.30  顶层(共9层)2009年建板塔结合      距离八通线通州北苑站602米房本满五年   \n",
       "\n",
       "      totalPrice  unitPrice                  followInfo  attention  \n",
       "47           265      62149   1401人关注 / 共305次带看 / 一年前发布     1401.0  \n",
       "2313         262      62426  1005人关注 / 共86次带看 / 6个月以前发布     1005.0  \n",
       "990          811      89972   979人关注 / 共50次带看 / 8个月以前发布      979.0  \n",
       "2331         400     122926  972人关注 / 共369次带看 / 6个月以前发布      972.0  \n",
       "915          645      53174  894人关注 / 共228次带看 / 8个月以前发布      894.0  "
      ]
     },
     "execution_count": 61,
     "metadata": {},
     "output_type": "execute_result"
    }
   ],
   "source": [
    "house['attention'] = house['followInfo'].apply(data_adj,str = '人关注')\n",
    "house.sort_values('attention',ascending=False).head(5)"
   ]
  },
  {
   "cell_type": "markdown",
   "metadata": {},
   "source": [
    "## 数据分析4：户型和关注人数分布"
   ]
  },
  {
   "cell_type": "code",
   "execution_count": 62,
   "metadata": {},
   "outputs": [
    {
     "data": {
      "image/png": "[encoded data removed]",
      "text/plain": [
       "<matplotlib.figure.Figure at 0x1653c8c43c8>"
      ]
     },
     "metadata": {},
     "output_type": "display_data"
    }
   ],
   "source": [
    "type_interest_group = house['attention'].groupby(house['housetype']).agg([('户型', 'count'),('关注人数', 'sum')])    \n",
    "#取户型>50的数据进行可视化\n",
    "# type_interest_group\n",
    "ti_sort = type_interest_group[type_interest_group['户型'] > 50].sort_values(by='户型')    \n",
    "ti_sort.plot(kind='barh', alpha=0.7, grid=True)    \n",
    "plt.title('二手房户型和关注人数分布')    \n",
    "plt.ylabel('户型') \n",
    "plt.show()"
   ]
  },
  {
   "cell_type": "markdown",
   "metadata": {},
   "source": [
    "## 数据分析5：面积分布"
   ]
  },
  {
   "cell_type": "code",
   "execution_count": 63,
   "metadata": {},
   "outputs": [
    {
     "data": {
      "image/png": "[encoded data removed]",
      "text/plain": [
       "<matplotlib.figure.Figure at 0x16541059d30>"
      ]
     },
     "metadata": {},
     "output_type": "display_data"
    }
   ],
   "source": [
    "area_level = [0, 50, 100, 150, 200, 250, 300, 500]    \n",
    "label_level = ['小于50', '50-100', '100-150', '150-200', '200-250', '250-300', '300-350']    \n",
    "area_cut = pd.cut(house['square'], area_level, labels=label_level)    \n",
    "# rot倾斜30°，fontsize为坐标系标记字体大小\n",
    "area_cut.value_counts().plot(kind='bar', rot=30, alpha=0.4, grid=True, fontsize='small')    \n",
    "plt.title('二手房面积分布')    \n",
    "plt.xlabel('面积')    \n",
    "plt.legend(['数量'])    \n",
    "plt.show()"
   ]
  },
  {
   "cell_type": "markdown",
   "metadata": {},
   "source": [
    "## 数据分析6：各个行政区房源均价"
   ]
  },
  {
   "cell_type": "code",
   "execution_count": 64,
   "metadata": {},
   "outputs": [
    {
     "data": {
      "image/png": "[encoded data removed]",
      "text/plain": [
       "<matplotlib.figure.Figure at 0x1653c8c4550>"
      ]
     },
     "metadata": {},
     "output_type": "display_data"
    },
    {
     "data": {
      "text/plain": [
       "district\n",
       "东城     99213.937557\n",
       "朝阳     70354.681119\n",
       "海淀     85966.034458\n",
       "西城    106122.371675\n",
       "Name: unitPrice, dtype: float64"
      ]
     },
     "execution_count": 64,
     "metadata": {},
     "output_type": "execute_result"
    }
   ],
   "source": [
    "house_unitprice_perdistrict = house_detail.groupby('district')['unitPrice'].mean()\n",
    "house_unitprice_perdistrict.plot(kind='bar',rot=30,title='各个行政区房源均价')\n",
    "plt.legend(['均价']) \n",
    "plt.show()\n",
    "house_unitprice_perdistrict"
   ]
  },
  {
   "cell_type": "markdown",
   "metadata": {},
   "source": [
    "各个行政区房源均价箱线图绘制"
   ]
  },
  {
   "cell_type": "code",
   "execution_count": 65,
   "metadata": {},
   "outputs": [
    {
     "data": {
      "image/png": "[encoded data removed]",
      "text/plain": [
       "<matplotlib.figure.Figure at 0x16540ab6438>"
      ]
     },
     "metadata": {},
     "output_type": "display_data"
    }
   ],
   "source": [
    "import seaborn as sns\n",
    "price = house_detail[['district','unitPrice']]\n",
    "sns.boxplot(x='district',y='unitPrice',data=price)\n",
    "plt.show()"
   ]
  },
  {
   "cell_type": "markdown",
   "metadata": {},
   "source": [
    "各个行政区房源在售数量"
   ]
  },
  {
   "cell_type": "code",
   "execution_count": 46,
   "metadata": {},
   "outputs": [
    {
     "data": {
      "image/png": "[encoded data removed]",
      "text/plain": [
       "<matplotlib.figure.Figure at 0x1654185e320>"
      ]
     },
     "metadata": {},
     "output_type": "display_data"
    },
    {
     "data": {
      "text/plain": [
       "district\n",
       "东城    1089\n",
       "朝阳    8257\n",
       "海淀    4121\n",
       "西城    1391\n",
       "Name: onsale, dtype: int64"
      ]
     },
     "execution_count": 46,
     "metadata": {},
     "output_type": "execute_result"
    }
   ],
   "source": [
    "house_onsale = house_detail.groupby('district')['onsale'].count()\n",
    "house_onsale.plot(kind='bar',rot=30,title='各个行政区在售房源数量')\n",
    "plt.legend(['数量']) \n",
    "plt.show()\n",
    "house_onsale"
   ]
  },
  {
   "cell_type": "markdown",
   "metadata": {},
   "source": [
    "## 数据分析7：各个行政区的房源总价对比"
   ]
  },
  {
   "cell_type": "code",
   "execution_count": 19,
   "metadata": {},
   "outputs": [
    {
     "data": {
      "image/png": "[encoded data removed]",
      "text/plain": [
       "<matplotlib.figure.Figure at 0x165409eb978>"
      ]
     },
     "metadata": {},
     "output_type": "display_data"
    }
   ],
   "source": [
    "import seaborn as sns\n",
    "price = house_detail[['district','totalPrice']]\n",
    "sns.boxplot(x='district',y='totalPrice',data=price)\n",
    "# plt.ylim((0,6000))#设置坐标轴的最大最小区间\n",
    "plt.show()"
   ]
  },
  {
   "cell_type": "markdown",
   "metadata": {},
   "source": [
    "通过箱型图看到，各大区域房屋总价中位数都都在2000万以下，且房屋总价离散值较高"
   ]
  },
  {
   "cell_type": "markdown",
   "metadata": {},
   "source": [
    "## 数据分析8：按照地铁信息对各个区域均价排序，柱形图绘制"
   ]
  },
  {
   "cell_type": "code",
   "execution_count": 20,
   "metadata": {},
   "outputs": [
    {
     "data": {
      "image/png": "[encoded data removed]",
      "text/plain": [
       "<matplotlib.figure.Figure at 0x16540b6b160>"
      ]
     },
     "metadata": {},
     "output_type": "display_data"
    }
   ],
   "source": [
    "bizcircle_unitprice=house_detail.groupby('bizcircle')['unitPrice'].mean().sort_values(ascending=False)\n",
    "bizcircle_unitprice.head(20).plot(kind='bar',x='bizcircle',y='unitPrice', title='各个区域均价分布',rot=30)\n",
    "plt.legend(['均价']) \n",
    "plt.show()"
   ]
  },
  {
   "cell_type": "markdown",
   "metadata": {},
   "source": [
    "## 数据分析9：按小区均价排序"
   ]
  },
  {
   "cell_type": "code",
   "execution_count": 21,
   "metadata": {},
   "outputs": [
    {
     "data": {
      "image/png": "[encoded data removed]",
      "text/plain": [
       "<matplotlib.figure.Figure at 0x16540c6b588>"
      ]
     },
     "metadata": {},
     "output_type": "display_data"
    }
   ],
   "source": [
    "community_unitprice = house.groupby('community')['unitPrice'].mean().sort_values(ascending=False)\n",
    "community_unitprice.head(15).plot(kind='bar',x='community',y='unitPrice', title='各个小区均价分布')\n",
    "plt.legend(['均价']) \n",
    "plt.show()"
   ]
  },
  {
   "cell_type": "markdown",
   "metadata": {},
   "source": [
    "## 数据分析10： 楼层的分布情况\n"
   ]
  },
  {
   "cell_type": "code",
   "execution_count": 22,
   "metadata": {},
   "outputs": [
    {
     "data": {
      "text/html": [
       "<div>\n",
       "<style scoped>\n",
       "    .dataframe tbody tr th:only-of-type {\n",
       "        vertical-align: middle;\n",
       "    }\n",
       "\n",
       "    .dataframe tbody tr th {\n",
       "        vertical-align: top;\n",
       "    }\n",
       "\n",
       "    .dataframe thead th {\n",
       "        text-align: right;\n",
       "    }\n",
       "</style>\n",
       "<table border=\"1\" class=\"dataframe\">\n",
       "  <thead>\n",
       "    <tr style=\"text-align: right;\">\n",
       "      <th></th>\n",
       "      <th>index</th>\n",
       "      <th>title</th>\n",
       "      <th>community</th>\n",
       "      <th>years</th>\n",
       "      <th>housetype</th>\n",
       "      <th>square</th>\n",
       "      <th>floor</th>\n",
       "      <th>taxtype</th>\n",
       "      <th>totalPrice</th>\n",
       "      <th>unitPrice</th>\n",
       "      <th>followInfo</th>\n",
       "      <th>attention</th>\n",
       "      <th>layer</th>\n",
       "    </tr>\n",
       "  </thead>\n",
       "  <tbody>\n",
       "    <tr>\n",
       "      <th>0</th>\n",
       "      <td>0</td>\n",
       "      <td>宝星华庭一层带花园，客厅挑高，通透四居室。房主自荐</td>\n",
       "      <td>宝星国际三期</td>\n",
       "      <td>底层(共22层)2010年建板塔结合</td>\n",
       "      <td>4室1厅</td>\n",
       "      <td>298.79</td>\n",
       "      <td>底层(共22层)2010年建板塔结合</td>\n",
       "      <td>距离15号线望京东站680米房本满五年</td>\n",
       "      <td>2598</td>\n",
       "      <td>86951</td>\n",
       "      <td>53人关注 / 共44次带看 / 一年前发布</td>\n",
       "      <td>53.0</td>\n",
       "      <td>底层</td>\n",
       "    </tr>\n",
       "  </tbody>\n",
       "</table>\n",
       "</div>"
      ],
      "text/plain": [
       "   index                      title community               years housetype  \\\n",
       "0      0  宝星华庭一层带花园，客厅挑高，通透四居室。房主自荐    宝星国际三期  底层(共22层)2010年建板塔结合      4室1厅   \n",
       "\n",
       "   square               floor              taxtype  totalPrice  unitPrice  \\\n",
       "0  298.79  底层(共22层)2010年建板塔结合  距离15号线望京东站680米房本满五年        2598      86951   \n",
       "\n",
       "               followInfo  attention layer  \n",
       "0  53人关注 / 共44次带看 / 一年前发布       53.0    底层  "
      ]
     },
     "execution_count": 22,
     "metadata": {},
     "output_type": "execute_result"
    }
   ],
   "source": [
    "# 得到楼层\n",
    "# 将字符串转换成数字\n",
    "def data_adj1(area_data,str): \n",
    "    if str in area_data : \n",
    "      return (area_data[0 : area_data.find(str)])  \n",
    "    else :        \n",
    "      return '没有提取到楼层'\n",
    "\n",
    "house['layer'] = house['years'].apply(data_adj1,str='(')\n",
    "house.head(1)"
   ]
  },
  {
   "cell_type": "code",
   "execution_count": 24,
   "metadata": {
    "scrolled": true
   },
   "outputs": [
    {
     "data": {
      "text/plain": [
       "<matplotlib.axes._subplots.AxesSubplot at 0x16540d12fd0>"
      ]
     },
     "execution_count": 24,
     "metadata": {},
     "output_type": "execute_result"
    },
    {
     "data": {
      "image/png": "[encoded data removed]",
      "text/plain": [
       "<matplotlib.figure.Figure at 0x16540cdc5f8>"
      ]
     },
     "metadata": {},
     "output_type": "display_data"
    }
   ],
   "source": [
    "# 楼层分布及可视化\n",
    "house['layer'].value_counts().plot(kind='bar',rot='30')"
   ]
  },
  {
   "cell_type": "markdown",
   "metadata": {},
   "source": [
    "## 数据分析11：绘制2000到2016平均房价（年份与总售价的可视化）"
   ]
  },
  {
   "cell_type": "code",
   "execution_count": 25,
   "metadata": {},
   "outputs": [
    {
     "data": {
      "text/html": [
       "<div>\n",
       "<style scoped>\n",
       "    .dataframe tbody tr th:only-of-type {\n",
       "        vertical-align: middle;\n",
       "    }\n",
       "\n",
       "    .dataframe tbody tr th {\n",
       "        vertical-align: top;\n",
       "    }\n",
       "\n",
       "    .dataframe thead th {\n",
       "        text-align: right;\n",
       "    }\n",
       "</style>\n",
       "<table border=\"1\" class=\"dataframe\">\n",
       "  <thead>\n",
       "    <tr style=\"text-align: right;\">\n",
       "      <th></th>\n",
       "      <th>index</th>\n",
       "      <th>title</th>\n",
       "      <th>community</th>\n",
       "      <th>years</th>\n",
       "      <th>housetype</th>\n",
       "      <th>square</th>\n",
       "      <th>floor</th>\n",
       "      <th>taxtype</th>\n",
       "      <th>totalPrice</th>\n",
       "      <th>unitPrice</th>\n",
       "      <th>followInfo</th>\n",
       "      <th>attention</th>\n",
       "      <th>layer</th>\n",
       "      <th>year</th>\n",
       "    </tr>\n",
       "  </thead>\n",
       "  <tbody>\n",
       "    <tr>\n",
       "      <th>0</th>\n",
       "      <td>0</td>\n",
       "      <td>宝星华庭一层带花园，客厅挑高，通透四居室。房主自荐</td>\n",
       "      <td>宝星国际三期</td>\n",
       "      <td>底层(共22层)2010年建板塔结合</td>\n",
       "      <td>4室1厅</td>\n",
       "      <td>298.79</td>\n",
       "      <td>底层(共22层)2010年建板塔结合</td>\n",
       "      <td>距离15号线望京东站680米房本满五年</td>\n",
       "      <td>2598</td>\n",
       "      <td>86951</td>\n",
       "      <td>53人关注 / 共44次带看 / 一年前发布</td>\n",
       "      <td>53.0</td>\n",
       "      <td>底层</td>\n",
       "      <td>2010</td>\n",
       "    </tr>\n",
       "  </tbody>\n",
       "</table>\n",
       "</div>"
      ],
      "text/plain": [
       "   index                      title community               years housetype  \\\n",
       "0      0  宝星华庭一层带花园，客厅挑高，通透四居室。房主自荐    宝星国际三期  底层(共22层)2010年建板塔结合      4室1厅   \n",
       "\n",
       "   square               floor              taxtype  totalPrice  unitPrice  \\\n",
       "0  298.79  底层(共22层)2010年建板塔结合  距离15号线望京东站680米房本满五年        2598      86951   \n",
       "\n",
       "               followInfo  attention layer  year  \n",
       "0  53人关注 / 共44次带看 / 一年前发布       53.0    底层  2010  "
      ]
     },
     "execution_count": 25,
     "metadata": {},
     "output_type": "execute_result"
    }
   ],
   "source": [
    "# 得到年份\n",
    "#  return int(''.join((area_data[area_data.find('建')-5 : area_data.find(str)]) )) \n",
    "# 将字符串转换成数字\n",
    "def data_adj2(area_data,str): \n",
    "    if str in area_data : \n",
    "      return (area_data[area_data.find('建')-5 : area_data.find(str)])\n",
    "    else :        \n",
    "      return 0\n",
    "\n",
    "house['year'] = house['years'].apply(data_adj2,str='年')\n",
    "house.head(1)"
   ]
  },
  {
   "cell_type": "code",
   "execution_count": 26,
   "metadata": {},
   "outputs": [
    {
     "data": {
      "text/plain": [
       "<matplotlib.axes._subplots.AxesSubplot at 0x16540b977b8>"
      ]
     },
     "execution_count": 26,
     "metadata": {},
     "output_type": "execute_result"
    },
    {
     "data": {
      "image/png": "[encoded data removed]",
      "text/plain": [
       "<matplotlib.figure.Figure at 0x1653c8393c8>"
      ]
     },
     "metadata": {},
     "output_type": "display_data"
    }
   ],
   "source": [
    "# 绘制2000到2016平均房价\n",
    "data = house.groupby('year').agg({'totalPrice':'mean'})\n",
    "data['2000':'2016'].plot(kind='bar',rot=30)"
   ]
  },
  {
   "cell_type": "markdown",
   "metadata": {},
   "source": [
    "## 综合1：k均值-聚类分析"
   ]
  },
  {
   "cell_type": "code",
   "execution_count": 27,
   "metadata": {},
   "outputs": [
    {
     "data": {
      "text/html": [
       "<div>\n",
       "<style scoped>\n",
       "    .dataframe tbody tr th:only-of-type {\n",
       "        vertical-align: middle;\n",
       "    }\n",
       "\n",
       "    .dataframe tbody tr th {\n",
       "        vertical-align: top;\n",
       "    }\n",
       "\n",
       "    .dataframe thead th {\n",
       "        text-align: right;\n",
       "    }\n",
       "</style>\n",
       "<table border=\"1\" class=\"dataframe\">\n",
       "  <thead>\n",
       "    <tr style=\"text-align: right;\">\n",
       "      <th></th>\n",
       "      <th>关注人数</th>\n",
       "      <th>面积</th>\n",
       "      <th>房价</th>\n",
       "    </tr>\n",
       "  </thead>\n",
       "  <tbody>\n",
       "    <tr>\n",
       "      <th>0</th>\n",
       "      <td>48.003472</td>\n",
       "      <td>258.531979</td>\n",
       "      <td>2576.631944</td>\n",
       "    </tr>\n",
       "    <tr>\n",
       "      <th>1</th>\n",
       "      <td>61.392307</td>\n",
       "      <td>74.711243</td>\n",
       "      <td>517.952156</td>\n",
       "    </tr>\n",
       "    <tr>\n",
       "      <th>2</th>\n",
       "      <td>49.856621</td>\n",
       "      <td>136.149929</td>\n",
       "      <td>1150.753722</td>\n",
       "    </tr>\n",
       "  </tbody>\n",
       "</table>\n",
       "</div>"
      ],
      "text/plain": [
       "        关注人数          面积           房价\n",
       "0  48.003472  258.531979  2576.631944\n",
       "1  61.392307   74.711243   517.952156\n",
       "2  49.856621  136.149929  1150.753722"
      ]
     },
     "execution_count": 27,
     "metadata": {},
     "output_type": "execute_result"
    }
   ],
   "source": [
    "from sklearn.cluster import KMeans\n",
    "# 缺失值处理:直接将缺失值去掉    \n",
    "cluster_data = house[['attention','square','totalPrice']].dropna()    \n",
    "#将簇数设为3    \n",
    "K_model = KMeans(n_clusters=3)    \n",
    "alg = K_model.fit(cluster_data)    \n",
    "'------聚类中心------'   \n",
    "center = pd.DataFrame(alg.cluster_centers_, columns=['关注人数','面积','房价'])    \n",
    "# cluster_data['label'] = alg.labels_ \n",
    "center\n",
    "# alg.cluster_centers_\n",
    "# alg.labels_ \n",
    "# cluster_data['label']"
   ]
  },
  {
   "cell_type": "markdown",
   "metadata": {},
   "source": [
    "#### 由上述整理结果可以知道，二手房面积低（75平米）、房价低（518万）的房源关注人数最高。从侧面也可以推断北京二手房的房价水平大多集中在518万上下。 所以从营销和用户体验的角度来看，网站应该在广告和列表页的默认排序中应该给予总价518，面积75属性的二手房源更高的权重。这个类别的房源可以吸引最多的用户关注。\n"
   ]
  },
  {
   "cell_type": "markdown",
   "metadata": {},
   "source": [
    "## 综合2：紧邻望京地铁站性价比最高的房子"
   ]
  },
  {
   "cell_type": "markdown",
   "metadata": {},
   "source": [
    "### 第一步：找出望京附近的房屋信息"
   ]
  },
  {
   "cell_type": "code",
   "execution_count": 41,
   "metadata": {},
   "outputs": [
    {
     "data": {
      "text/html": [
       "<div>\n",
       "<style scoped>\n",
       "    .dataframe tbody tr th:only-of-type {\n",
       "        vertical-align: middle;\n",
       "    }\n",
       "\n",
       "    .dataframe tbody tr th {\n",
       "        vertical-align: top;\n",
       "    }\n",
       "\n",
       "    .dataframe thead th {\n",
       "        text-align: right;\n",
       "    }\n",
       "</style>\n",
       "<table border=\"1\" class=\"dataframe\">\n",
       "  <thead>\n",
       "    <tr style=\"text-align: right;\">\n",
       "      <th></th>\n",
       "      <th>index_x</th>\n",
       "      <th>title</th>\n",
       "      <th>community</th>\n",
       "      <th>years</th>\n",
       "      <th>housetype</th>\n",
       "      <th>square</th>\n",
       "      <th>floor</th>\n",
       "      <th>taxtype</th>\n",
       "      <th>totalPrice</th>\n",
       "      <th>unitPrice</th>\n",
       "      <th>followInfo</th>\n",
       "      <th>index_y</th>\n",
       "      <th>id</th>\n",
       "      <th>district</th>\n",
       "      <th>bizcircle</th>\n",
       "      <th>tagList</th>\n",
       "      <th>onsale</th>\n",
       "      <th>attention</th>\n",
       "    </tr>\n",
       "  </thead>\n",
       "  <tbody>\n",
       "    <tr>\n",
       "      <th>0</th>\n",
       "      <td>0</td>\n",
       "      <td>宝星华庭一层带花园，客厅挑高，通透四居室。房主自荐</td>\n",
       "      <td>宝星国际三期</td>\n",
       "      <td>底层(共22层)2010年建板塔结合</td>\n",
       "      <td>4室1厅</td>\n",
       "      <td>298.79平米</td>\n",
       "      <td>底层(共22层)2010年建板塔结合</td>\n",
       "      <td>距离15号线望京东站680米房本满五年</td>\n",
       "      <td>2598</td>\n",
       "      <td>86951</td>\n",
       "      <td>53人关注 / 共44次带看 / 一年前发布</td>\n",
       "      <td>1535</td>\n",
       "      <td>1111027376204</td>\n",
       "      <td>朝阳</td>\n",
       "      <td>望京</td>\n",
       "      <td>近地铁15号线望京东站</td>\n",
       "      <td>7</td>\n",
       "      <td>53.0</td>\n",
       "    </tr>\n",
       "  </tbody>\n",
       "</table>\n",
       "</div>"
      ],
      "text/plain": [
       "   index_x                      title community               years housetype  \\\n",
       "0        0  宝星华庭一层带花园，客厅挑高，通透四居室。房主自荐    宝星国际三期  底层(共22层)2010年建板塔结合      4室1厅   \n",
       "\n",
       "     square               floor              taxtype  totalPrice  unitPrice  \\\n",
       "0  298.79平米  底层(共22层)2010年建板塔结合  距离15号线望京东站680米房本满五年        2598      86951   \n",
       "\n",
       "               followInfo  index_y             id district bizcircle  \\\n",
       "0  53人关注 / 共44次带看 / 一年前发布     1535  1111027376204       朝阳        望京   \n",
       "\n",
       "       tagList  onsale  attention  \n",
       "0  近地铁15号线望京东站       7       53.0  "
      ]
     },
     "execution_count": 41,
     "metadata": {},
     "output_type": "execute_result"
    }
   ],
   "source": [
    "house_detail['attention'] = house_detail['followInfo'].apply(data_adj,str = '人关注')\n",
    "myhouse=house_detail[house_detail.bizcircle.str.contains('望京')]\n",
    "myhouse.head(1)\n",
    "# len(myhouse)\n",
    "# myhouse"
   ]
  },
  {
   "cell_type": "markdown",
   "metadata": {},
   "source": [
    "### 第二步：查看分布情况"
   ]
  },
  {
   "cell_type": "code",
   "execution_count": 42,
   "metadata": {
    "scrolled": true
   },
   "outputs": [
    {
     "data": {
      "image/png": "[encoded data removed]",
      "text/plain": [
       "<matplotlib.figure.Figure at 0x16541871358>"
      ]
     },
     "metadata": {},
     "output_type": "display_data"
    }
   ],
   "source": [
    "house_type = myhouse['housetype'].value_counts()\n",
    "house_type.head(10).plot(kind='bar',x='housetype',y='size', title='户型数量分布',rot=30)\n",
    "plt.legend(['数量']) \n",
    "plt.show()\n",
    "# myhouse"
   ]
  },
  {
   "cell_type": "markdown",
   "metadata": {},
   "source": [
    "### 第三步：找到三室一厅的房源信息以及关注度最大的房源信息"
   ]
  },
  {
   "cell_type": "code",
   "execution_count": 72,
   "metadata": {},
   "outputs": [
    {
     "data": {
      "text/html": [
       "<div>\n",
       "<style scoped>\n",
       "    .dataframe tbody tr th:only-of-type {\n",
       "        vertical-align: middle;\n",
       "    }\n",
       "\n",
       "    .dataframe tbody tr th {\n",
       "        vertical-align: top;\n",
       "    }\n",
       "\n",
       "    .dataframe thead th {\n",
       "        text-align: right;\n",
       "    }\n",
       "</style>\n",
       "<table border=\"1\" class=\"dataframe\">\n",
       "  <thead>\n",
       "    <tr style=\"text-align: right;\">\n",
       "      <th></th>\n",
       "      <th>index_x</th>\n",
       "      <th>title</th>\n",
       "      <th>community</th>\n",
       "      <th>years</th>\n",
       "      <th>housetype</th>\n",
       "      <th>square</th>\n",
       "      <th>floor</th>\n",
       "      <th>taxtype</th>\n",
       "      <th>totalPrice</th>\n",
       "      <th>unitPrice</th>\n",
       "      <th>followInfo</th>\n",
       "      <th>index_y</th>\n",
       "      <th>id</th>\n",
       "      <th>district</th>\n",
       "      <th>bizcircle</th>\n",
       "      <th>tagList</th>\n",
       "      <th>onsale</th>\n",
       "      <th>attention</th>\n",
       "    </tr>\n",
       "  </thead>\n",
       "  <tbody>\n",
       "    <tr>\n",
       "      <th>11592</th>\n",
       "      <td>4665</td>\n",
       "      <td>价格低，格局方正，全明格局，交通便利房主自荐</td>\n",
       "      <td>花家地北里</td>\n",
       "      <td>高楼层(共18层)1995年建塔楼</td>\n",
       "      <td>3室1厅</td>\n",
       "      <td>74.58平米</td>\n",
       "      <td>高楼层(共18层)1995年建塔楼</td>\n",
       "      <td>距离14号线(东段)阜通站748米房本满五年随时看房</td>\n",
       "      <td>484</td>\n",
       "      <td>64897</td>\n",
       "      <td>268人关注 / 共166次带看 / 4个月以前发布</td>\n",
       "      <td>815</td>\n",
       "      <td>1111027375060</td>\n",
       "      <td>朝阳</td>\n",
       "      <td>望京</td>\n",
       "      <td>近地铁14号线(东段)阜通站</td>\n",
       "      <td>3</td>\n",
       "      <td>268.0</td>\n",
       "    </tr>\n",
       "  </tbody>\n",
       "</table>\n",
       "</div>"
      ],
      "text/plain": [
       "       index_x                   title community              years housetype  \\\n",
       "11592     4665  价格低，格局方正，全明格局，交通便利房主自荐     花家地北里  高楼层(共18层)1995年建塔楼      3室1厅   \n",
       "\n",
       "        square              floor                     taxtype  totalPrice  \\\n",
       "11592  74.58平米  高楼层(共18层)1995年建塔楼  距离14号线(东段)阜通站748米房本满五年随时看房         484   \n",
       "\n",
       "       unitPrice                  followInfo  index_y             id district  \\\n",
       "11592      64897  268人关注 / 共166次带看 / 4个月以前发布      815  1111027375060       朝阳   \n",
       "\n",
       "      bizcircle         tagList  onsale  attention  \n",
       "11592        望京  近地铁14号线(东段)阜通站       3      268.0  "
      ]
     },
     "execution_count": 72,
     "metadata": {},
     "output_type": "execute_result"
    }
   ],
   "source": [
    "myhouse=myhouse[myhouse.housetype.str.contains('3室1厅')]\n",
    "len(myhouse)\n",
    "myhouse.head(1)\n",
    "myhouse=myhouse.sort_values(by='attention',ascending=False)\n",
    "myhouse.head(1)"
   ]
  }
 ],
 "metadata": {
  "kernelspec": {
   "display_name": "Python 3",
   "language": "python",
   "name": "python3"
  },
  "language_info": {
   "codemirror_mode": {
    "name": "ipython",
    "version": 3
   },
   "file_extension": ".py",
   "mimetype": "text/x-python",
   "name": "python",
   "nbconvert_exporter": "python",
   "pygments_lexer": "ipython3",
   "version": "3.6.3"
  }
 },
 "nbformat": 4,
 "nbformat_minor": 2
}
