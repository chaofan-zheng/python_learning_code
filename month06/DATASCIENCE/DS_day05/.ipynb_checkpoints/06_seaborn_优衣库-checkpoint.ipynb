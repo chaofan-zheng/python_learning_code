{
 "cells": [
  {
   "cell_type": "code",
   "execution_count": 1,
   "metadata": {},
   "outputs": [],
   "source": [
    "import numpy as np\n",
    "import pandas as pd\n",
    "import seaborn as sns\n",
    "import matplotlib.pyplot as plt\n",
    "\n",
    "#忽略警告\n",
    "import warnings\n",
    "warnings.filterwarnings('ignore')\n",
    "#显示中文\n",
    "plt.rcParams['font.sans-serif']='SimHei' # 设置中文显示\n",
    "plt.rcParams['axes.unicode_minus']=False # 设置显示负号"
   ]
  },
  {
   "cell_type": "code",
   "execution_count": 2,
   "metadata": {},
   "outputs": [
    {
     "data": {
      "text/html": [
       "<div>\n",
       "<style scoped>\n",
       "    .dataframe tbody tr th:only-of-type {\n",
       "        vertical-align: middle;\n",
       "    }\n",
       "\n",
       "    .dataframe tbody tr th {\n",
       "        vertical-align: top;\n",
       "    }\n",
       "\n",
       "    .dataframe thead th {\n",
       "        text-align: right;\n",
       "    }\n",
       "</style>\n",
       "<table border=\"1\" class=\"dataframe\">\n",
       "  <thead>\n",
       "    <tr style=\"text-align: right;\">\n",
       "      <th></th>\n",
       "      <th>store_id</th>\n",
       "      <th>city</th>\n",
       "      <th>channel</th>\n",
       "      <th>gender_group</th>\n",
       "      <th>age_group</th>\n",
       "      <th>wkd_ind</th>\n",
       "      <th>product</th>\n",
       "      <th>customer</th>\n",
       "      <th>revenue</th>\n",
       "      <th>order</th>\n",
       "      <th>quant</th>\n",
       "      <th>unit_cost</th>\n",
       "      <th>unit_price</th>\n",
       "    </tr>\n",
       "  </thead>\n",
       "  <tbody>\n",
       "    <tr>\n",
       "      <td>0</td>\n",
       "      <td>658</td>\n",
       "      <td>深圳</td>\n",
       "      <td>线下</td>\n",
       "      <td>Female</td>\n",
       "      <td>25-29</td>\n",
       "      <td>Weekday</td>\n",
       "      <td>当季新品</td>\n",
       "      <td>4</td>\n",
       "      <td>796.0</td>\n",
       "      <td>4</td>\n",
       "      <td>4</td>\n",
       "      <td>59</td>\n",
       "      <td>199</td>\n",
       "    </tr>\n",
       "    <tr>\n",
       "      <td>1</td>\n",
       "      <td>146</td>\n",
       "      <td>杭州</td>\n",
       "      <td>线下</td>\n",
       "      <td>Female</td>\n",
       "      <td>25-29</td>\n",
       "      <td>Weekday</td>\n",
       "      <td>运动</td>\n",
       "      <td>1</td>\n",
       "      <td>149.0</td>\n",
       "      <td>1</td>\n",
       "      <td>1</td>\n",
       "      <td>49</td>\n",
       "      <td>149</td>\n",
       "    </tr>\n",
       "    <tr>\n",
       "      <td>2</td>\n",
       "      <td>70</td>\n",
       "      <td>深圳</td>\n",
       "      <td>线下</td>\n",
       "      <td>Male</td>\n",
       "      <td>&gt;=60</td>\n",
       "      <td>Weekday</td>\n",
       "      <td>T恤</td>\n",
       "      <td>2</td>\n",
       "      <td>178.0</td>\n",
       "      <td>2</td>\n",
       "      <td>2</td>\n",
       "      <td>49</td>\n",
       "      <td>89</td>\n",
       "    </tr>\n",
       "    <tr>\n",
       "      <td>3</td>\n",
       "      <td>658</td>\n",
       "      <td>深圳</td>\n",
       "      <td>线下</td>\n",
       "      <td>Female</td>\n",
       "      <td>25-29</td>\n",
       "      <td>Weekday</td>\n",
       "      <td>T恤</td>\n",
       "      <td>1</td>\n",
       "      <td>59.0</td>\n",
       "      <td>1</td>\n",
       "      <td>1</td>\n",
       "      <td>49</td>\n",
       "      <td>59</td>\n",
       "    </tr>\n",
       "    <tr>\n",
       "      <td>4</td>\n",
       "      <td>229</td>\n",
       "      <td>深圳</td>\n",
       "      <td>线下</td>\n",
       "      <td>Male</td>\n",
       "      <td>20-24</td>\n",
       "      <td>Weekend</td>\n",
       "      <td>袜子</td>\n",
       "      <td>2</td>\n",
       "      <td>65.0</td>\n",
       "      <td>2</td>\n",
       "      <td>3</td>\n",
       "      <td>9</td>\n",
       "      <td>22</td>\n",
       "    </tr>\n",
       "  </tbody>\n",
       "</table>\n",
       "</div>"
      ],
      "text/plain": [
       "   store_id city channel gender_group age_group  wkd_ind product  customer  \\\n",
       "0       658   深圳      线下       Female     25-29  Weekday    当季新品         4   \n",
       "1       146   杭州      线下       Female     25-29  Weekday      运动         1   \n",
       "2        70   深圳      线下         Male      >=60  Weekday      T恤         2   \n",
       "3       658   深圳      线下       Female     25-29  Weekday      T恤         1   \n",
       "4       229   深圳      线下         Male     20-24  Weekend      袜子         2   \n",
       "\n",
       "   revenue  order  quant  unit_cost  unit_price  \n",
       "0    796.0      4      4         59         199  \n",
       "1    149.0      1      1         49         149  \n",
       "2    178.0      2      2         49          89  \n",
       "3     59.0      1      1         49          59  \n",
       "4     65.0      2      3          9          22  "
      ]
     },
     "execution_count": 2,
     "metadata": {},
     "output_type": "execute_result"
    }
   ],
   "source": [
    "data=pd.read_csv('../DS_day03/data/unique.csv')\n",
    "data.head()"
   ]
  },
  {
   "cell_type": "markdown",
   "metadata": {},
   "source": [
    "# 数据的描述性统计分析"
   ]
  },
  {
   "cell_type": "code",
   "execution_count": 3,
   "metadata": {},
   "outputs": [
    {
     "name": "stdout",
     "output_type": "stream",
     "text": [
      "<class 'pandas.core.frame.DataFrame'>\n",
      "RangeIndex: 22293 entries, 0 to 22292\n",
      "Data columns (total 13 columns):\n",
      "store_id        22293 non-null int64\n",
      "city            22293 non-null object\n",
      "channel         22293 non-null object\n",
      "gender_group    22293 non-null object\n",
      "age_group       22293 non-null object\n",
      "wkd_ind         22293 non-null object\n",
      "product         22293 non-null object\n",
      "customer        22293 non-null int64\n",
      "revenue         22293 non-null float64\n",
      "order           22293 non-null int64\n",
      "quant           22293 non-null int64\n",
      "unit_cost       22293 non-null int64\n",
      "unit_price      22293 non-null int64\n",
      "dtypes: float64(1), int64(6), object(6)\n",
      "memory usage: 2.2+ MB\n"
     ]
    }
   ],
   "source": [
    "data.info()"
   ]
  },
  {
   "cell_type": "code",
   "execution_count": 4,
   "metadata": {},
   "outputs": [
    {
     "data": {
      "text/html": [
       "<div>\n",
       "<style scoped>\n",
       "    .dataframe tbody tr th:only-of-type {\n",
       "        vertical-align: middle;\n",
       "    }\n",
       "\n",
       "    .dataframe tbody tr th {\n",
       "        vertical-align: top;\n",
       "    }\n",
       "\n",
       "    .dataframe thead th {\n",
       "        text-align: right;\n",
       "    }\n",
       "</style>\n",
       "<table border=\"1\" class=\"dataframe\">\n",
       "  <thead>\n",
       "    <tr style=\"text-align: right;\">\n",
       "      <th></th>\n",
       "      <th>store_id</th>\n",
       "      <th>customer</th>\n",
       "      <th>revenue</th>\n",
       "      <th>order</th>\n",
       "      <th>quant</th>\n",
       "      <th>unit_cost</th>\n",
       "      <th>unit_price</th>\n",
       "    </tr>\n",
       "  </thead>\n",
       "  <tbody>\n",
       "    <tr>\n",
       "      <td>count</td>\n",
       "      <td>22293.000000</td>\n",
       "      <td>22293.000000</td>\n",
       "      <td>22293.000000</td>\n",
       "      <td>22293.000000</td>\n",
       "      <td>22293.000000</td>\n",
       "      <td>22293.000000</td>\n",
       "      <td>22293.000000</td>\n",
       "    </tr>\n",
       "    <tr>\n",
       "      <td>mean</td>\n",
       "      <td>335.391558</td>\n",
       "      <td>1.629480</td>\n",
       "      <td>159.531371</td>\n",
       "      <td>1.651998</td>\n",
       "      <td>1.858072</td>\n",
       "      <td>46.124658</td>\n",
       "      <td>84.279998</td>\n",
       "    </tr>\n",
       "    <tr>\n",
       "      <td>std</td>\n",
       "      <td>230.236167</td>\n",
       "      <td>1.785605</td>\n",
       "      <td>276.254066</td>\n",
       "      <td>1.861480</td>\n",
       "      <td>2.347301</td>\n",
       "      <td>19.124347</td>\n",
       "      <td>46.314296</td>\n",
       "    </tr>\n",
       "    <tr>\n",
       "      <td>min</td>\n",
       "      <td>19.000000</td>\n",
       "      <td>1.000000</td>\n",
       "      <td>-0.660000</td>\n",
       "      <td>1.000000</td>\n",
       "      <td>1.000000</td>\n",
       "      <td>9.000000</td>\n",
       "      <td>0.000000</td>\n",
       "    </tr>\n",
       "    <tr>\n",
       "      <td>25%</td>\n",
       "      <td>142.000000</td>\n",
       "      <td>1.000000</td>\n",
       "      <td>64.000000</td>\n",
       "      <td>1.000000</td>\n",
       "      <td>1.000000</td>\n",
       "      <td>49.000000</td>\n",
       "      <td>56.000000</td>\n",
       "    </tr>\n",
       "    <tr>\n",
       "      <td>50%</td>\n",
       "      <td>315.000000</td>\n",
       "      <td>1.000000</td>\n",
       "      <td>99.000000</td>\n",
       "      <td>1.000000</td>\n",
       "      <td>1.000000</td>\n",
       "      <td>49.000000</td>\n",
       "      <td>79.000000</td>\n",
       "    </tr>\n",
       "    <tr>\n",
       "      <td>75%</td>\n",
       "      <td>480.000000</td>\n",
       "      <td>2.000000</td>\n",
       "      <td>175.000000</td>\n",
       "      <td>2.000000</td>\n",
       "      <td>2.000000</td>\n",
       "      <td>49.000000</td>\n",
       "      <td>99.000000</td>\n",
       "    </tr>\n",
       "    <tr>\n",
       "      <td>max</td>\n",
       "      <td>831.000000</td>\n",
       "      <td>58.000000</td>\n",
       "      <td>12538.000000</td>\n",
       "      <td>65.000000</td>\n",
       "      <td>84.000000</td>\n",
       "      <td>99.000000</td>\n",
       "      <td>299.000000</td>\n",
       "    </tr>\n",
       "  </tbody>\n",
       "</table>\n",
       "</div>"
      ],
      "text/plain": [
       "           store_id      customer       revenue         order         quant  \\\n",
       "count  22293.000000  22293.000000  22293.000000  22293.000000  22293.000000   \n",
       "mean     335.391558      1.629480    159.531371      1.651998      1.858072   \n",
       "std      230.236167      1.785605    276.254066      1.861480      2.347301   \n",
       "min       19.000000      1.000000     -0.660000      1.000000      1.000000   \n",
       "25%      142.000000      1.000000     64.000000      1.000000      1.000000   \n",
       "50%      315.000000      1.000000     99.000000      1.000000      1.000000   \n",
       "75%      480.000000      2.000000    175.000000      2.000000      2.000000   \n",
       "max      831.000000     58.000000  12538.000000     65.000000     84.000000   \n",
       "\n",
       "          unit_cost    unit_price  \n",
       "count  22293.000000  22293.000000  \n",
       "mean      46.124658     84.279998  \n",
       "std       19.124347     46.314296  \n",
       "min        9.000000      0.000000  \n",
       "25%       49.000000     56.000000  \n",
       "50%       49.000000     79.000000  \n",
       "75%       49.000000     99.000000  \n",
       "max       99.000000    299.000000  "
      ]
     },
     "execution_count": 4,
     "metadata": {},
     "output_type": "execute_result"
    }
   ],
   "source": [
    "data.describe()"
   ]
  },
  {
   "cell_type": "code",
   "execution_count": 5,
   "metadata": {},
   "outputs": [
    {
     "data": {
      "text/plain": [
       "<matplotlib.axes._subplots.AxesSubplot at 0x7f8174b65f10>"
      ]
     },
     "execution_count": 5,
     "metadata": {},
     "output_type": "execute_result"
    },
    {
     "data": {
      "image/png": "[encoded data removed]",
      "text/plain": [
       "<Figure size 432x288 with 1 Axes>"
      ]
     },
     "metadata": {
      "needs_background": "light"
     },
     "output_type": "display_data"
    }
   ],
   "source": [
    "# 分析一下成本\n",
    "sns.distplot(data['unit_cost'])"
   ]
  },
  {
   "cell_type": "code",
   "execution_count": 6,
   "metadata": {},
   "outputs": [
    {
     "data": {
      "text/plain": [
       "49    11586\n",
       "59     3169\n",
       "9      2053\n",
       "19     1694\n",
       "29     1572\n",
       "69     1412\n",
       "99      807\n",
       "Name: unit_cost, dtype: int64"
      ]
     },
     "execution_count": 6,
     "metadata": {},
     "output_type": "execute_result"
    }
   ],
   "source": [
    "data['unit_cost'].value_counts()\n",
    "# 发现成本并不是连续的，有点像类别型，所以用直方图"
   ]
  },
  {
   "cell_type": "code",
   "execution_count": 7,
   "metadata": {},
   "outputs": [
    {
     "data": {
      "text/plain": [
       "<matplotlib.axes._subplots.AxesSubplot at 0x7f81750604d0>"
      ]
     },
     "execution_count": 7,
     "metadata": {},
     "output_type": "execute_result"
    },
    {
     "data": {
      "image/png": "[encoded data removed]",
      "text/plain": [
       "<Figure size 432x288 with 1 Axes>"
      ]
     },
     "metadata": {
      "needs_background": "light"
     },
     "output_type": "display_data"
    }
   ],
   "source": [
    "sns.countplot(x=data['unit_cost'])"
   ]
  },
  {
   "cell_type": "code",
   "execution_count": 8,
   "metadata": {},
   "outputs": [
    {
     "data": {
      "text/plain": [
       "<matplotlib.axes._subplots.AxesSubplot at 0x7f8174f7dc50>"
      ]
     },
     "execution_count": 8,
     "metadata": {},
     "output_type": "execute_result"
    },
    {
     "data": {
      "image/png": "[encoded data removed]",
      "text/plain": [
       "<Figure size 864x576 with 1 Axes>"
      ]
     },
     "metadata": {
      "needs_background": "light"
     },
     "output_type": "display_data"
    }
   ],
   "source": [
    "# 不同产品的成本\n",
    "plt.figure(figsize=(12,8))\n",
    "sns.countplot(data=data,y='product',hue='unit_cost')\n",
    "# 可以得出每个产品的成本是一样的"
   ]
  },
  {
   "cell_type": "code",
   "execution_count": 9,
   "metadata": {},
   "outputs": [],
   "source": [
    "# 用groupby也可以求"
   ]
  },
  {
   "cell_type": "code",
   "execution_count": 10,
   "metadata": {},
   "outputs": [
    {
     "data": {
      "text/plain": [
       "<matplotlib.axes._subplots.AxesSubplot at 0x7f817557bb50>"
      ]
     },
     "execution_count": 10,
     "metadata": {},
     "output_type": "execute_result"
    },
    {
     "data": {
      "image/png": "[encoded data removed]",
      "text/plain": [
       "<Figure size 432x288 with 1 Axes>"
      ]
     },
     "metadata": {
      "needs_background": "light"
     },
     "output_type": "display_data"
    }
   ],
   "source": [
    "data.groupby('product')['unit_cost'].mean().plot(kind='bar',rot=0)"
   ]
  },
  {
   "cell_type": "code",
   "execution_count": 11,
   "metadata": {},
   "outputs": [
    {
     "data": {
      "text/plain": [
       "<matplotlib.axes._subplots.AxesSubplot at 0x7f8175716450>"
      ]
     },
     "execution_count": 11,
     "metadata": {},
     "output_type": "execute_result"
    },
    {
     "data": {
      "image/png": "[encoded data removed]",
      "text/plain": [
       "<Figure size 432x288 with 1 Axes>"
      ]
     },
     "metadata": {
      "needs_background": "light"
     },
     "output_type": "display_data"
    }
   ],
   "source": [
    "# 售价\n",
    "sns.distplot(data['unit_price'])"
   ]
  },
  {
   "cell_type": "code",
   "execution_count": 12,
   "metadata": {},
   "outputs": [
    {
     "data": {
      "text/plain": [
       "<matplotlib.axes._subplots.AxesSubplot at 0x7f817589a910>"
      ]
     },
     "execution_count": 12,
     "metadata": {},
     "output_type": "execute_result"
    },
    {
     "data": {
      "image/png": "[encoded data removed]",
      "text/plain": [
       "<Figure size 432x288 with 1 Axes>"
      ]
     },
     "metadata": {
      "needs_background": "light"
     },
     "output_type": "display_data"
    }
   ],
   "source": [
    "sns.boxplot(x=data['unit_price'])\n",
    "# 有很多异常数据值啊，仔细看看"
   ]
  },
  {
   "cell_type": "code",
   "execution_count": 13,
   "metadata": {},
   "outputs": [
    {
     "data": {
      "text/plain": [
       "count    22293.000000\n",
       "mean        84.279998\n",
       "std         46.314296\n",
       "min          0.000000\n",
       "25%         56.000000\n",
       "50%         79.000000\n",
       "75%         99.000000\n",
       "max        299.000000\n",
       "Name: unit_price, dtype: float64"
      ]
     },
     "execution_count": 13,
     "metadata": {},
     "output_type": "execute_result"
    }
   ],
   "source": [
    "data['unit_price'].describe()"
   ]
  },
  {
   "cell_type": "code",
   "execution_count": 14,
   "metadata": {},
   "outputs": [
    {
     "data": {
      "text/plain": [
       "163.5"
      ]
     },
     "execution_count": 14,
     "metadata": {},
     "output_type": "execute_result"
    }
   ],
   "source": [
    "# 上边缘\n",
    "99+(99-56)*1.5 # 163.5"
   ]
  },
  {
   "cell_type": "code",
   "execution_count": 15,
   "metadata": {},
   "outputs": [
    {
     "data": {
      "text/html": [
       "<div>\n",
       "<style scoped>\n",
       "    .dataframe tbody tr th:only-of-type {\n",
       "        vertical-align: middle;\n",
       "    }\n",
       "\n",
       "    .dataframe tbody tr th {\n",
       "        vertical-align: top;\n",
       "    }\n",
       "\n",
       "    .dataframe thead th {\n",
       "        text-align: right;\n",
       "    }\n",
       "</style>\n",
       "<table border=\"1\" class=\"dataframe\">\n",
       "  <thead>\n",
       "    <tr style=\"text-align: right;\">\n",
       "      <th></th>\n",
       "      <th>count</th>\n",
       "      <th>mean</th>\n",
       "      <th>std</th>\n",
       "      <th>min</th>\n",
       "      <th>25%</th>\n",
       "      <th>50%</th>\n",
       "      <th>75%</th>\n",
       "      <th>max</th>\n",
       "    </tr>\n",
       "    <tr>\n",
       "      <th>product</th>\n",
       "      <th></th>\n",
       "      <th></th>\n",
       "      <th></th>\n",
       "      <th></th>\n",
       "      <th></th>\n",
       "      <th></th>\n",
       "      <th></th>\n",
       "      <th></th>\n",
       "    </tr>\n",
       "  </thead>\n",
       "  <tbody>\n",
       "    <tr>\n",
       "      <td>T恤</td>\n",
       "      <td>10610.0</td>\n",
       "      <td>83.958907</td>\n",
       "      <td>25.500706</td>\n",
       "      <td>0.0</td>\n",
       "      <td>76.0</td>\n",
       "      <td>79.0</td>\n",
       "      <td>99.0</td>\n",
       "      <td>249.0</td>\n",
       "    </tr>\n",
       "    <tr>\n",
       "      <td>当季新品</td>\n",
       "      <td>2540.0</td>\n",
       "      <td>95.556693</td>\n",
       "      <td>48.807573</td>\n",
       "      <td>0.0</td>\n",
       "      <td>58.0</td>\n",
       "      <td>79.0</td>\n",
       "      <td>139.0</td>\n",
       "      <td>199.0</td>\n",
       "    </tr>\n",
       "    <tr>\n",
       "      <td>毛衣</td>\n",
       "      <td>807.0</td>\n",
       "      <td>180.375465</td>\n",
       "      <td>50.793813</td>\n",
       "      <td>0.0</td>\n",
       "      <td>149.0</td>\n",
       "      <td>199.0</td>\n",
       "      <td>199.0</td>\n",
       "      <td>249.0</td>\n",
       "    </tr>\n",
       "    <tr>\n",
       "      <td>牛仔裤</td>\n",
       "      <td>1412.0</td>\n",
       "      <td>90.817280</td>\n",
       "      <td>60.411258</td>\n",
       "      <td>0.0</td>\n",
       "      <td>39.0</td>\n",
       "      <td>59.0</td>\n",
       "      <td>149.0</td>\n",
       "      <td>199.0</td>\n",
       "    </tr>\n",
       "    <tr>\n",
       "      <td>短裤</td>\n",
       "      <td>1694.0</td>\n",
       "      <td>38.525974</td>\n",
       "      <td>8.684003</td>\n",
       "      <td>0.0</td>\n",
       "      <td>33.0</td>\n",
       "      <td>39.0</td>\n",
       "      <td>40.0</td>\n",
       "      <td>79.0</td>\n",
       "    </tr>\n",
       "    <tr>\n",
       "      <td>袜子</td>\n",
       "      <td>2053.0</td>\n",
       "      <td>39.690697</td>\n",
       "      <td>23.437306</td>\n",
       "      <td>0.0</td>\n",
       "      <td>22.0</td>\n",
       "      <td>27.0</td>\n",
       "      <td>59.0</td>\n",
       "      <td>79.0</td>\n",
       "    </tr>\n",
       "    <tr>\n",
       "      <td>裙子</td>\n",
       "      <td>629.0</td>\n",
       "      <td>138.961844</td>\n",
       "      <td>50.560664</td>\n",
       "      <td>10.0</td>\n",
       "      <td>91.0</td>\n",
       "      <td>149.0</td>\n",
       "      <td>199.0</td>\n",
       "      <td>199.0</td>\n",
       "    </tr>\n",
       "    <tr>\n",
       "      <td>运动</td>\n",
       "      <td>976.0</td>\n",
       "      <td>68.232582</td>\n",
       "      <td>46.268893</td>\n",
       "      <td>0.0</td>\n",
       "      <td>38.0</td>\n",
       "      <td>39.0</td>\n",
       "      <td>99.0</td>\n",
       "      <td>249.0</td>\n",
       "    </tr>\n",
       "    <tr>\n",
       "      <td>配件</td>\n",
       "      <td>1572.0</td>\n",
       "      <td>108.644402</td>\n",
       "      <td>51.477286</td>\n",
       "      <td>0.0</td>\n",
       "      <td>79.0</td>\n",
       "      <td>98.0</td>\n",
       "      <td>149.0</td>\n",
       "      <td>299.0</td>\n",
       "    </tr>\n",
       "  </tbody>\n",
       "</table>\n",
       "</div>"
      ],
      "text/plain": [
       "           count        mean        std   min    25%    50%    75%    max\n",
       "product                                                                  \n",
       "T恤       10610.0   83.958907  25.500706   0.0   76.0   79.0   99.0  249.0\n",
       "当季新品      2540.0   95.556693  48.807573   0.0   58.0   79.0  139.0  199.0\n",
       "毛衣         807.0  180.375465  50.793813   0.0  149.0  199.0  199.0  249.0\n",
       "牛仔裤       1412.0   90.817280  60.411258   0.0   39.0   59.0  149.0  199.0\n",
       "短裤        1694.0   38.525974   8.684003   0.0   33.0   39.0   40.0   79.0\n",
       "袜子        2053.0   39.690697  23.437306   0.0   22.0   27.0   59.0   79.0\n",
       "裙子         629.0  138.961844  50.560664  10.0   91.0  149.0  199.0  199.0\n",
       "运动         976.0   68.232582  46.268893   0.0   38.0   39.0   99.0  249.0\n",
       "配件        1572.0  108.644402  51.477286   0.0   79.0   98.0  149.0  299.0"
      ]
     },
     "execution_count": 15,
     "metadata": {},
     "output_type": "execute_result"
    }
   ],
   "source": [
    "data.groupby('product')['unit_price'].describe() # 这个也可以describe()。。。"
   ]
  },
  {
   "cell_type": "code",
   "execution_count": 16,
   "metadata": {},
   "outputs": [
    {
     "data": {
      "text/plain": [
       "<matplotlib.axes._subplots.AxesSubplot at 0x7f81759b5710>"
      ]
     },
     "execution_count": 16,
     "metadata": {},
     "output_type": "execute_result"
    },
    {
     "data": {
      "image/png": "[encoded data removed]",
      "text/plain": [
       "<Figure size 432x288 with 1 Axes>"
      ]
     },
     "metadata": {
      "needs_background": "light"
     },
     "output_type": "display_data"
    }
   ],
   "source": [
    "sns.boxplot(x=data['product'],y=data['unit_price'])"
   ]
  },
  {
   "cell_type": "code",
   "execution_count": 17,
   "metadata": {},
   "outputs": [
    {
     "data": {
      "text/html": [
       "<div>\n",
       "<style scoped>\n",
       "    .dataframe tbody tr th:only-of-type {\n",
       "        vertical-align: middle;\n",
       "    }\n",
       "\n",
       "    .dataframe tbody tr th {\n",
       "        vertical-align: top;\n",
       "    }\n",
       "\n",
       "    .dataframe thead th {\n",
       "        text-align: right;\n",
       "    }\n",
       "</style>\n",
       "<table border=\"1\" class=\"dataframe\">\n",
       "  <thead>\n",
       "    <tr style=\"text-align: right;\">\n",
       "      <th></th>\n",
       "      <th>count</th>\n",
       "      <th>unique</th>\n",
       "      <th>top</th>\n",
       "      <th>freq</th>\n",
       "    </tr>\n",
       "  </thead>\n",
       "  <tbody>\n",
       "    <tr>\n",
       "      <td>city</td>\n",
       "      <td>22293</td>\n",
       "      <td>10</td>\n",
       "      <td>深圳</td>\n",
       "      <td>4364</td>\n",
       "    </tr>\n",
       "    <tr>\n",
       "      <td>channel</td>\n",
       "      <td>22293</td>\n",
       "      <td>2</td>\n",
       "      <td>线下</td>\n",
       "      <td>18403</td>\n",
       "    </tr>\n",
       "    <tr>\n",
       "      <td>gender_group</td>\n",
       "      <td>22293</td>\n",
       "      <td>3</td>\n",
       "      <td>Female</td>\n",
       "      <td>14208</td>\n",
       "    </tr>\n",
       "    <tr>\n",
       "      <td>age_group</td>\n",
       "      <td>22293</td>\n",
       "      <td>11</td>\n",
       "      <td>30-34</td>\n",
       "      <td>4426</td>\n",
       "    </tr>\n",
       "    <tr>\n",
       "      <td>wkd_ind</td>\n",
       "      <td>22293</td>\n",
       "      <td>2</td>\n",
       "      <td>Weekday</td>\n",
       "      <td>12465</td>\n",
       "    </tr>\n",
       "    <tr>\n",
       "      <td>product</td>\n",
       "      <td>22293</td>\n",
       "      <td>9</td>\n",
       "      <td>T恤</td>\n",
       "      <td>10610</td>\n",
       "    </tr>\n",
       "  </tbody>\n",
       "</table>\n",
       "</div>"
      ],
      "text/plain": [
       "              count unique      top   freq\n",
       "city          22293     10       深圳   4364\n",
       "channel       22293      2       线下  18403\n",
       "gender_group  22293      3   Female  14208\n",
       "age_group     22293     11    30-34   4426\n",
       "wkd_ind       22293      2  Weekday  12465\n",
       "product       22293      9       T恤  10610"
      ]
     },
     "execution_count": 17,
     "metadata": {},
     "output_type": "execute_result"
    }
   ],
   "source": [
    "data.select_dtypes('object').describe().T"
   ]
  },
  {
   "cell_type": "code",
   "execution_count": 18,
   "metadata": {},
   "outputs": [
    {
     "data": {
      "text/html": [
       "<div>\n",
       "<style scoped>\n",
       "    .dataframe tbody tr th:only-of-type {\n",
       "        vertical-align: middle;\n",
       "    }\n",
       "\n",
       "    .dataframe tbody tr th {\n",
       "        vertical-align: top;\n",
       "    }\n",
       "\n",
       "    .dataframe thead th {\n",
       "        text-align: right;\n",
       "    }\n",
       "</style>\n",
       "<table border=\"1\" class=\"dataframe\">\n",
       "  <thead>\n",
       "    <tr style=\"text-align: right;\">\n",
       "      <th></th>\n",
       "      <th>store_id</th>\n",
       "      <th>customer</th>\n",
       "      <th>revenue</th>\n",
       "      <th>order</th>\n",
       "      <th>quant</th>\n",
       "      <th>unit_cost</th>\n",
       "      <th>unit_price</th>\n",
       "    </tr>\n",
       "  </thead>\n",
       "  <tbody>\n",
       "    <tr>\n",
       "      <td>count</td>\n",
       "      <td>22293.000000</td>\n",
       "      <td>22293.000000</td>\n",
       "      <td>22293.000000</td>\n",
       "      <td>22293.000000</td>\n",
       "      <td>22293.000000</td>\n",
       "      <td>22293.000000</td>\n",
       "      <td>22293.000000</td>\n",
       "    </tr>\n",
       "    <tr>\n",
       "      <td>mean</td>\n",
       "      <td>335.391558</td>\n",
       "      <td>1.629480</td>\n",
       "      <td>159.531371</td>\n",
       "      <td>1.651998</td>\n",
       "      <td>1.858072</td>\n",
       "      <td>46.124658</td>\n",
       "      <td>84.279998</td>\n",
       "    </tr>\n",
       "    <tr>\n",
       "      <td>std</td>\n",
       "      <td>230.236167</td>\n",
       "      <td>1.785605</td>\n",
       "      <td>276.254066</td>\n",
       "      <td>1.861480</td>\n",
       "      <td>2.347301</td>\n",
       "      <td>19.124347</td>\n",
       "      <td>46.314296</td>\n",
       "    </tr>\n",
       "    <tr>\n",
       "      <td>min</td>\n",
       "      <td>19.000000</td>\n",
       "      <td>1.000000</td>\n",
       "      <td>-0.660000</td>\n",
       "      <td>1.000000</td>\n",
       "      <td>1.000000</td>\n",
       "      <td>9.000000</td>\n",
       "      <td>0.000000</td>\n",
       "    </tr>\n",
       "    <tr>\n",
       "      <td>25%</td>\n",
       "      <td>142.000000</td>\n",
       "      <td>1.000000</td>\n",
       "      <td>64.000000</td>\n",
       "      <td>1.000000</td>\n",
       "      <td>1.000000</td>\n",
       "      <td>49.000000</td>\n",
       "      <td>56.000000</td>\n",
       "    </tr>\n",
       "    <tr>\n",
       "      <td>50%</td>\n",
       "      <td>315.000000</td>\n",
       "      <td>1.000000</td>\n",
       "      <td>99.000000</td>\n",
       "      <td>1.000000</td>\n",
       "      <td>1.000000</td>\n",
       "      <td>49.000000</td>\n",
       "      <td>79.000000</td>\n",
       "    </tr>\n",
       "    <tr>\n",
       "      <td>75%</td>\n",
       "      <td>480.000000</td>\n",
       "      <td>2.000000</td>\n",
       "      <td>175.000000</td>\n",
       "      <td>2.000000</td>\n",
       "      <td>2.000000</td>\n",
       "      <td>49.000000</td>\n",
       "      <td>99.000000</td>\n",
       "    </tr>\n",
       "    <tr>\n",
       "      <td>max</td>\n",
       "      <td>831.000000</td>\n",
       "      <td>58.000000</td>\n",
       "      <td>12538.000000</td>\n",
       "      <td>65.000000</td>\n",
       "      <td>84.000000</td>\n",
       "      <td>99.000000</td>\n",
       "      <td>299.000000</td>\n",
       "    </tr>\n",
       "  </tbody>\n",
       "</table>\n",
       "</div>"
      ],
      "text/plain": [
       "           store_id      customer       revenue         order         quant  \\\n",
       "count  22293.000000  22293.000000  22293.000000  22293.000000  22293.000000   \n",
       "mean     335.391558      1.629480    159.531371      1.651998      1.858072   \n",
       "std      230.236167      1.785605    276.254066      1.861480      2.347301   \n",
       "min       19.000000      1.000000     -0.660000      1.000000      1.000000   \n",
       "25%      142.000000      1.000000     64.000000      1.000000      1.000000   \n",
       "50%      315.000000      1.000000     99.000000      1.000000      1.000000   \n",
       "75%      480.000000      2.000000    175.000000      2.000000      2.000000   \n",
       "max      831.000000     58.000000  12538.000000     65.000000     84.000000   \n",
       "\n",
       "          unit_cost    unit_price  \n",
       "count  22293.000000  22293.000000  \n",
       "mean      46.124658     84.279998  \n",
       "std       19.124347     46.314296  \n",
       "min        9.000000      0.000000  \n",
       "25%       49.000000     56.000000  \n",
       "50%       49.000000     79.000000  \n",
       "75%       49.000000     99.000000  \n",
       "max       99.000000    299.000000  "
      ]
     },
     "execution_count": 18,
     "metadata": {},
     "output_type": "execute_result"
    }
   ],
   "source": [
    "data.describe()"
   ]
  },
  {
   "cell_type": "markdown",
   "metadata": {},
   "source": [
    "# 预处理\n",
    "1. 取出营业额大于0的数据\n",
    "2. 得到新的一列、利润\n",
    "3. 性别异常值检查\n",
    "4. 年龄这一列检查异常值"
   ]
  },
  {
   "cell_type": "code",
   "execution_count": 19,
   "metadata": {},
   "outputs": [],
   "source": [
    "data_sales=data[data['revenue']>0]"
   ]
  },
  {
   "cell_type": "code",
   "execution_count": 20,
   "metadata": {},
   "outputs": [
    {
     "data": {
      "text/html": [
       "<div>\n",
       "<style scoped>\n",
       "    .dataframe tbody tr th:only-of-type {\n",
       "        vertical-align: middle;\n",
       "    }\n",
       "\n",
       "    .dataframe tbody tr th {\n",
       "        vertical-align: top;\n",
       "    }\n",
       "\n",
       "    .dataframe thead th {\n",
       "        text-align: right;\n",
       "    }\n",
       "</style>\n",
       "<table border=\"1\" class=\"dataframe\">\n",
       "  <thead>\n",
       "    <tr style=\"text-align: right;\">\n",
       "      <th></th>\n",
       "      <th>store_id</th>\n",
       "      <th>city</th>\n",
       "      <th>channel</th>\n",
       "      <th>gender_group</th>\n",
       "      <th>age_group</th>\n",
       "      <th>wkd_ind</th>\n",
       "      <th>product</th>\n",
       "      <th>customer</th>\n",
       "      <th>revenue</th>\n",
       "      <th>order</th>\n",
       "      <th>quant</th>\n",
       "      <th>unit_cost</th>\n",
       "      <th>unit_price</th>\n",
       "      <th>margin</th>\n",
       "    </tr>\n",
       "  </thead>\n",
       "  <tbody>\n",
       "    <tr>\n",
       "      <td>0</td>\n",
       "      <td>658</td>\n",
       "      <td>深圳</td>\n",
       "      <td>线下</td>\n",
       "      <td>Female</td>\n",
       "      <td>25-29</td>\n",
       "      <td>Weekday</td>\n",
       "      <td>当季新品</td>\n",
       "      <td>4</td>\n",
       "      <td>796.0</td>\n",
       "      <td>4</td>\n",
       "      <td>4</td>\n",
       "      <td>59</td>\n",
       "      <td>199</td>\n",
       "      <td>140.00</td>\n",
       "    </tr>\n",
       "    <tr>\n",
       "      <td>1</td>\n",
       "      <td>146</td>\n",
       "      <td>杭州</td>\n",
       "      <td>线下</td>\n",
       "      <td>Female</td>\n",
       "      <td>25-29</td>\n",
       "      <td>Weekday</td>\n",
       "      <td>运动</td>\n",
       "      <td>1</td>\n",
       "      <td>149.0</td>\n",
       "      <td>1</td>\n",
       "      <td>1</td>\n",
       "      <td>49</td>\n",
       "      <td>149</td>\n",
       "      <td>100.00</td>\n",
       "    </tr>\n",
       "    <tr>\n",
       "      <td>2</td>\n",
       "      <td>70</td>\n",
       "      <td>深圳</td>\n",
       "      <td>线下</td>\n",
       "      <td>Male</td>\n",
       "      <td>&gt;=60</td>\n",
       "      <td>Weekday</td>\n",
       "      <td>T恤</td>\n",
       "      <td>2</td>\n",
       "      <td>178.0</td>\n",
       "      <td>2</td>\n",
       "      <td>2</td>\n",
       "      <td>49</td>\n",
       "      <td>89</td>\n",
       "      <td>40.00</td>\n",
       "    </tr>\n",
       "    <tr>\n",
       "      <td>3</td>\n",
       "      <td>658</td>\n",
       "      <td>深圳</td>\n",
       "      <td>线下</td>\n",
       "      <td>Female</td>\n",
       "      <td>25-29</td>\n",
       "      <td>Weekday</td>\n",
       "      <td>T恤</td>\n",
       "      <td>1</td>\n",
       "      <td>59.0</td>\n",
       "      <td>1</td>\n",
       "      <td>1</td>\n",
       "      <td>49</td>\n",
       "      <td>59</td>\n",
       "      <td>10.00</td>\n",
       "    </tr>\n",
       "    <tr>\n",
       "      <td>4</td>\n",
       "      <td>229</td>\n",
       "      <td>深圳</td>\n",
       "      <td>线下</td>\n",
       "      <td>Male</td>\n",
       "      <td>20-24</td>\n",
       "      <td>Weekend</td>\n",
       "      <td>袜子</td>\n",
       "      <td>2</td>\n",
       "      <td>65.0</td>\n",
       "      <td>2</td>\n",
       "      <td>3</td>\n",
       "      <td>9</td>\n",
       "      <td>22</td>\n",
       "      <td>12.67</td>\n",
       "    </tr>\n",
       "  </tbody>\n",
       "</table>\n",
       "</div>"
      ],
      "text/plain": [
       "   store_id city channel gender_group age_group  wkd_ind product  customer  \\\n",
       "0       658   深圳      线下       Female     25-29  Weekday    当季新品         4   \n",
       "1       146   杭州      线下       Female     25-29  Weekday      运动         1   \n",
       "2        70   深圳      线下         Male      >=60  Weekday      T恤         2   \n",
       "3       658   深圳      线下       Female     25-29  Weekday      T恤         1   \n",
       "4       229   深圳      线下         Male     20-24  Weekend      袜子         2   \n",
       "\n",
       "   revenue  order  quant  unit_cost  unit_price  margin  \n",
       "0    796.0      4      4         59         199  140.00  \n",
       "1    149.0      1      1         49         149  100.00  \n",
       "2    178.0      2      2         49          89   40.00  \n",
       "3     59.0      1      1         49          59   10.00  \n",
       "4     65.0      2      3          9          22   12.67  "
      ]
     },
     "execution_count": 20,
     "metadata": {},
     "output_type": "execute_result"
    }
   ],
   "source": [
    "# 营业额/数量-成本\n",
    "data_profit=data['revenue']/data['quant']-data['unit_cost']\n",
    "data_profit\n",
    "data_sales['margin']=np.round(data_profit,2)\n",
    "data_sales.head()"
   ]
  },
  {
   "cell_type": "code",
   "execution_count": 21,
   "metadata": {},
   "outputs": [
    {
     "data": {
      "text/plain": [
       "Female    14186\n",
       "Male       7958\n",
       "Unkown      118\n",
       "Name: gender_group, dtype: int64"
      ]
     },
     "execution_count": 21,
     "metadata": {},
     "output_type": "execute_result"
    }
   ],
   "source": [
    "data_sales['gender_group'].value_counts()"
   ]
  },
  {
   "cell_type": "code",
   "execution_count": 22,
   "metadata": {},
   "outputs": [
    {
     "data": {
      "text/plain": [
       "Female    14186\n",
       "Male       7958\n",
       "Name: gender_group, dtype: int64"
      ]
     },
     "execution_count": 22,
     "metadata": {},
     "output_type": "execute_result"
    }
   ],
   "source": [
    "# 性别缺失值不多，删掉好了\n",
    "data_sales=data_sales[data_sales['gender_group'].isin(['Female','Male'])]\n",
    "data_sales['gender_group'].value_counts()"
   ]
  },
  {
   "cell_type": "code",
   "execution_count": 24,
   "metadata": {},
   "outputs": [
    {
     "data": {
      "text/plain": [
       "30-34    4423\n",
       "25-29    4220\n",
       "35-39    3688\n",
       "20-24    3339\n",
       "40-44    1949\n",
       ">=60     1570\n",
       "45-49    1093\n",
       "50-54     669\n",
       "<20       659\n",
       "55-59     513\n",
       "Name: age_group, dtype: int64"
      ]
     },
     "execution_count": 24,
     "metadata": {},
     "output_type": "execute_result"
    }
   ],
   "source": [
    "# \n",
    "data_sales=data_sales[~data_sales['age_group'].isin(['Unkown'])]# ~表示取非\n",
    "data_sales['age_group'].value_counts()"
   ]
  },
  {
   "cell_type": "code",
   "execution_count": 25,
   "metadata": {},
   "outputs": [
    {
     "data": {
      "text/plain": [
       "<matplotlib.axes._subplots.AxesSubplot at 0x7f8160d4d7d0>"
      ]
     },
     "execution_count": 25,
     "metadata": {},
     "output_type": "execute_result"
    },
    {
     "data": {
      "image/png": "[encoded data removed]",
      "text/plain": [
       "<Figure size 432x288 with 1 Axes>"
      ]
     },
     "metadata": {
      "needs_background": "light"
     },
     "output_type": "display_data"
    }
   ],
   "source": [
    "# 分析利润\n",
    "sns.distplot(data_sales['margin'])"
   ]
  },
  {
   "cell_type": "code",
   "execution_count": 26,
   "metadata": {},
   "outputs": [
    {
     "data": {
      "text/plain": [
       "<matplotlib.axes._subplots.AxesSubplot at 0x7f8160d75dd0>"
      ]
     },
     "execution_count": 26,
     "metadata": {},
     "output_type": "execute_result"
    },
    {
     "data": {
      "image/png": "[encoded data removed]",
      "text/plain": [
       "<Figure size 432x288 with 1 Axes>"
      ]
     },
     "metadata": {
      "needs_background": "light"
     },
     "output_type": "display_data"
    }
   ],
   "source": [
    "sns.boxplot(y=data_sales['margin'])"
   ]
  },
  {
   "cell_type": "code",
   "execution_count": null,
   "metadata": {},
   "outputs": [],
   "source": []
  }
 ],
 "metadata": {
  "kernelspec": {
   "display_name": "Python 3",
   "language": "python",
   "name": "python3"
  },
  "language_info": {
   "codemirror_mode": {
    "name": "ipython",
    "version": 3
   },
   "file_extension": ".py",
   "mimetype": "text/x-python",
   "name": "python",
   "nbconvert_exporter": "python",
   "pygments_lexer": "ipython3",
   "version": "3.7.4"
  },
  "varInspector": {
   "cols": {
    "lenName": 16,
    "lenType": 16,
    "lenVar": 40
   },
   "kernels_config": {
    "python": {
     "delete_cmd_postfix": "",
     "delete_cmd_prefix": "del ",
     "library": "var_list.py",
     "varRefreshCmd": "print(var_dic_list())"
    },
    "r": {
     "delete_cmd_postfix": ") ",
     "delete_cmd_prefix": "rm(",
     "library": "var_list.r",
     "varRefreshCmd": "cat(var_dic_list()) "
    }
   },
   "types_to_exclude": [
    "module",
    "function",
    "builtin_function_or_method",
    "instance",
    "_Feature"
   ],
   "window_display": false
  }
 },
 "nbformat": 4,
 "nbformat_minor": 2
}
